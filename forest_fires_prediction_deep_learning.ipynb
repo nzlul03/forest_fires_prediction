{
  "nbformat": 4,
  "nbformat_minor": 0,
  "metadata": {
    "colab": {
      "name": "DL12_finalproject_Nuzulul_Khairu_Nissa.ipynb",
      "provenance": [],
      "collapsed_sections": []
    },
    "kernelspec": {
      "name": "python3",
      "display_name": "Python 3"
    },
    "language_info": {
      "name": "python"
    },
    "accelerator": "GPU"
  },
  "cells": [
    {
      "cell_type": "markdown",
      "source": [
        "# Import Library"
      ],
      "metadata": {
        "id": "6yeFVPjdd4q3"
      }
    },
    {
      "cell_type": "code",
      "source": [
        "import numpy as np\n",
        "import pandas as pd\n",
        "import matplotlib.pyplot as plt\n",
        "plt.style.use('seaborn')\n",
        "import seaborn as sns\n",
        "from sklearn.preprocessing import LabelEncoder, StandardScaler, MinMaxScaler\n",
        "\n",
        "from sklearn.model_selection import train_test_split\n",
        "from sklearn.metrics import r2_score\n",
        "import tensorflow as tensorflow\n",
        "from keras.models import Sequential\n",
        "from keras.layers import Dense, Dropout\n",
        "from tensorflow import keras\n",
        "from tensorflow.keras import layers\n",
        "from tensorflow.keras.optimizers import SGD\n",
        "from tensorflow.keras.utils import to_categorical\n",
        "from keras.callbacks import EarlyStopping\n",
        "from keras.callbacks import ModelCheckpoint\n",
        "from keras.utils.vis_utils import plot_model"
      ],
      "metadata": {
        "id": "lnNTng_ueW24"
      },
      "execution_count": null,
      "outputs": []
    },
    {
      "cell_type": "markdown",
      "source": [
        "# Load Dataset"
      ],
      "metadata": {
        "id": "Pz6HD7Ywd079"
      }
    },
    {
      "cell_type": "markdown",
      "source": [
        "Sumber Dataset : http://archive.ics.uci.edu/ml/datasets/Forest+Fires"
      ],
      "metadata": {
        "id": "pbls_1bisbw-"
      }
    },
    {
      "cell_type": "code",
      "source": [
        "from google.colab import files\n",
        "uploaded = files.upload()"
      ],
      "metadata": {
        "colab": {
          "resources": {
            "http://localhost:8080/nbextensions/google.colab/files.js": {
              "data": "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",
              "ok": true,
              "headers": [
                [
                  "content-type",
                  "application/javascript"
                ]
              ],
              "status": 200,
              "status_text": ""
            }
          },
          "base_uri": "https://localhost:8080/",
          "height": 73
        },
        "id": "e46D5gxvgsz_",
        "outputId": "50b7f843-06e6-4a6e-c12f-941e668dca9e"
      },
      "execution_count": null,
      "outputs": [
        {
          "output_type": "display_data",
          "data": {
            "text/html": [
              "\n",
              "     <input type=\"file\" id=\"files-2fd52152-b4b7-49d9-b6ee-af7564a7910c\" name=\"files[]\" multiple disabled\n",
              "        style=\"border:none\" />\n",
              "     <output id=\"result-2fd52152-b4b7-49d9-b6ee-af7564a7910c\">\n",
              "      Upload widget is only available when the cell has been executed in the\n",
              "      current browser session. Please rerun this cell to enable.\n",
              "      </output>\n",
              "      <script src=\"/nbextensions/google.colab/files.js\"></script> "
            ],
            "text/plain": [
              "<IPython.core.display.HTML object>"
            ]
          },
          "metadata": {}
        },
        {
          "output_type": "stream",
          "name": "stdout",
          "text": [
            "Saving forestfires (3).csv to forestfires (3).csv\n"
          ]
        }
      ]
    },
    {
      "cell_type": "code",
      "execution_count": null,
      "metadata": {
        "colab": {
          "base_uri": "https://localhost:8080/",
          "height": 363
        },
        "id": "dDHDjycPVgUe",
        "outputId": "14d02ecb-b8cb-4ffe-f9f6-a333c09f785b"
      },
      "outputs": [
        {
          "output_type": "execute_result",
          "data": {
            "text/html": [
              "\n",
              "  <div id=\"df-85e1396b-a199-47be-8881-5850857d7acb\">\n",
              "    <div class=\"colab-df-container\">\n",
              "      <div>\n",
              "<style scoped>\n",
              "    .dataframe tbody tr th:only-of-type {\n",
              "        vertical-align: middle;\n",
              "    }\n",
              "\n",
              "    .dataframe tbody tr th {\n",
              "        vertical-align: top;\n",
              "    }\n",
              "\n",
              "    .dataframe thead th {\n",
              "        text-align: right;\n",
              "    }\n",
              "</style>\n",
              "<table border=\"1\" class=\"dataframe\">\n",
              "  <thead>\n",
              "    <tr style=\"text-align: right;\">\n",
              "      <th></th>\n",
              "      <th>X</th>\n",
              "      <th>Y</th>\n",
              "      <th>month</th>\n",
              "      <th>day</th>\n",
              "      <th>FFMC</th>\n",
              "      <th>DMC</th>\n",
              "      <th>DC</th>\n",
              "      <th>ISI</th>\n",
              "      <th>temp</th>\n",
              "      <th>RH</th>\n",
              "      <th>wind</th>\n",
              "      <th>rain</th>\n",
              "      <th>area</th>\n",
              "    </tr>\n",
              "  </thead>\n",
              "  <tbody>\n",
              "    <tr>\n",
              "      <th>0</th>\n",
              "      <td>7</td>\n",
              "      <td>5</td>\n",
              "      <td>mar</td>\n",
              "      <td>fri</td>\n",
              "      <td>86.2</td>\n",
              "      <td>26.2</td>\n",
              "      <td>94.3</td>\n",
              "      <td>5.1</td>\n",
              "      <td>8.2</td>\n",
              "      <td>51</td>\n",
              "      <td>6.7</td>\n",
              "      <td>0.0</td>\n",
              "      <td>0.0</td>\n",
              "    </tr>\n",
              "    <tr>\n",
              "      <th>1</th>\n",
              "      <td>7</td>\n",
              "      <td>4</td>\n",
              "      <td>oct</td>\n",
              "      <td>tue</td>\n",
              "      <td>90.6</td>\n",
              "      <td>35.4</td>\n",
              "      <td>669.1</td>\n",
              "      <td>6.7</td>\n",
              "      <td>18.0</td>\n",
              "      <td>33</td>\n",
              "      <td>0.9</td>\n",
              "      <td>0.0</td>\n",
              "      <td>0.0</td>\n",
              "    </tr>\n",
              "    <tr>\n",
              "      <th>2</th>\n",
              "      <td>7</td>\n",
              "      <td>4</td>\n",
              "      <td>oct</td>\n",
              "      <td>sat</td>\n",
              "      <td>90.6</td>\n",
              "      <td>43.7</td>\n",
              "      <td>686.9</td>\n",
              "      <td>6.7</td>\n",
              "      <td>14.6</td>\n",
              "      <td>33</td>\n",
              "      <td>1.3</td>\n",
              "      <td>0.0</td>\n",
              "      <td>0.0</td>\n",
              "    </tr>\n",
              "    <tr>\n",
              "      <th>3</th>\n",
              "      <td>8</td>\n",
              "      <td>6</td>\n",
              "      <td>mar</td>\n",
              "      <td>fri</td>\n",
              "      <td>91.7</td>\n",
              "      <td>33.3</td>\n",
              "      <td>77.5</td>\n",
              "      <td>9.0</td>\n",
              "      <td>8.3</td>\n",
              "      <td>97</td>\n",
              "      <td>4.0</td>\n",
              "      <td>0.2</td>\n",
              "      <td>0.0</td>\n",
              "    </tr>\n",
              "    <tr>\n",
              "      <th>4</th>\n",
              "      <td>8</td>\n",
              "      <td>6</td>\n",
              "      <td>mar</td>\n",
              "      <td>sun</td>\n",
              "      <td>89.3</td>\n",
              "      <td>51.3</td>\n",
              "      <td>102.2</td>\n",
              "      <td>9.6</td>\n",
              "      <td>11.4</td>\n",
              "      <td>99</td>\n",
              "      <td>1.8</td>\n",
              "      <td>0.0</td>\n",
              "      <td>0.0</td>\n",
              "    </tr>\n",
              "    <tr>\n",
              "      <th>5</th>\n",
              "      <td>8</td>\n",
              "      <td>6</td>\n",
              "      <td>aug</td>\n",
              "      <td>sun</td>\n",
              "      <td>92.3</td>\n",
              "      <td>85.3</td>\n",
              "      <td>488.0</td>\n",
              "      <td>14.7</td>\n",
              "      <td>22.2</td>\n",
              "      <td>29</td>\n",
              "      <td>5.4</td>\n",
              "      <td>0.0</td>\n",
              "      <td>0.0</td>\n",
              "    </tr>\n",
              "    <tr>\n",
              "      <th>6</th>\n",
              "      <td>8</td>\n",
              "      <td>6</td>\n",
              "      <td>aug</td>\n",
              "      <td>mon</td>\n",
              "      <td>92.3</td>\n",
              "      <td>88.9</td>\n",
              "      <td>495.6</td>\n",
              "      <td>8.5</td>\n",
              "      <td>24.1</td>\n",
              "      <td>27</td>\n",
              "      <td>3.1</td>\n",
              "      <td>0.0</td>\n",
              "      <td>0.0</td>\n",
              "    </tr>\n",
              "    <tr>\n",
              "      <th>7</th>\n",
              "      <td>8</td>\n",
              "      <td>6</td>\n",
              "      <td>aug</td>\n",
              "      <td>mon</td>\n",
              "      <td>91.5</td>\n",
              "      <td>145.4</td>\n",
              "      <td>608.2</td>\n",
              "      <td>10.7</td>\n",
              "      <td>8.0</td>\n",
              "      <td>86</td>\n",
              "      <td>2.2</td>\n",
              "      <td>0.0</td>\n",
              "      <td>0.0</td>\n",
              "    </tr>\n",
              "    <tr>\n",
              "      <th>8</th>\n",
              "      <td>8</td>\n",
              "      <td>6</td>\n",
              "      <td>sep</td>\n",
              "      <td>tue</td>\n",
              "      <td>91.0</td>\n",
              "      <td>129.5</td>\n",
              "      <td>692.6</td>\n",
              "      <td>7.0</td>\n",
              "      <td>13.1</td>\n",
              "      <td>63</td>\n",
              "      <td>5.4</td>\n",
              "      <td>0.0</td>\n",
              "      <td>0.0</td>\n",
              "    </tr>\n",
              "    <tr>\n",
              "      <th>9</th>\n",
              "      <td>7</td>\n",
              "      <td>5</td>\n",
              "      <td>sep</td>\n",
              "      <td>sat</td>\n",
              "      <td>92.5</td>\n",
              "      <td>88.0</td>\n",
              "      <td>698.6</td>\n",
              "      <td>7.1</td>\n",
              "      <td>22.8</td>\n",
              "      <td>40</td>\n",
              "      <td>4.0</td>\n",
              "      <td>0.0</td>\n",
              "      <td>0.0</td>\n",
              "    </tr>\n",
              "  </tbody>\n",
              "</table>\n",
              "</div>\n",
              "      <button class=\"colab-df-convert\" onclick=\"convertToInteractive('df-85e1396b-a199-47be-8881-5850857d7acb')\"\n",
              "              title=\"Convert this dataframe to an interactive table.\"\n",
              "              style=\"display:none;\">\n",
              "        \n",
              "  <svg xmlns=\"http://www.w3.org/2000/svg\" height=\"24px\"viewBox=\"0 0 24 24\"\n",
              "       width=\"24px\">\n",
              "    <path d=\"M0 0h24v24H0V0z\" fill=\"none\"/>\n",
              "    <path d=\"M18.56 5.44l.94 2.06.94-2.06 2.06-.94-2.06-.94-.94-2.06-.94 2.06-2.06.94zm-11 1L8.5 8.5l.94-2.06 2.06-.94-2.06-.94L8.5 2.5l-.94 2.06-2.06.94zm10 10l.94 2.06.94-2.06 2.06-.94-2.06-.94-.94-2.06-.94 2.06-2.06.94z\"/><path d=\"M17.41 7.96l-1.37-1.37c-.4-.4-.92-.59-1.43-.59-.52 0-1.04.2-1.43.59L10.3 9.45l-7.72 7.72c-.78.78-.78 2.05 0 2.83L4 21.41c.39.39.9.59 1.41.59.51 0 1.02-.2 1.41-.59l7.78-7.78 2.81-2.81c.8-.78.8-2.07 0-2.86zM5.41 20L4 18.59l7.72-7.72 1.47 1.35L5.41 20z\"/>\n",
              "  </svg>\n",
              "      </button>\n",
              "      \n",
              "  <style>\n",
              "    .colab-df-container {\n",
              "      display:flex;\n",
              "      flex-wrap:wrap;\n",
              "      gap: 12px;\n",
              "    }\n",
              "\n",
              "    .colab-df-convert {\n",
              "      background-color: #E8F0FE;\n",
              "      border: none;\n",
              "      border-radius: 50%;\n",
              "      cursor: pointer;\n",
              "      display: none;\n",
              "      fill: #1967D2;\n",
              "      height: 32px;\n",
              "      padding: 0 0 0 0;\n",
              "      width: 32px;\n",
              "    }\n",
              "\n",
              "    .colab-df-convert:hover {\n",
              "      background-color: #E2EBFA;\n",
              "      box-shadow: 0px 1px 2px rgba(60, 64, 67, 0.3), 0px 1px 3px 1px rgba(60, 64, 67, 0.15);\n",
              "      fill: #174EA6;\n",
              "    }\n",
              "\n",
              "    [theme=dark] .colab-df-convert {\n",
              "      background-color: #3B4455;\n",
              "      fill: #D2E3FC;\n",
              "    }\n",
              "\n",
              "    [theme=dark] .colab-df-convert:hover {\n",
              "      background-color: #434B5C;\n",
              "      box-shadow: 0px 1px 3px 1px rgba(0, 0, 0, 0.15);\n",
              "      filter: drop-shadow(0px 1px 2px rgba(0, 0, 0, 0.3));\n",
              "      fill: #FFFFFF;\n",
              "    }\n",
              "  </style>\n",
              "\n",
              "      <script>\n",
              "        const buttonEl =\n",
              "          document.querySelector('#df-85e1396b-a199-47be-8881-5850857d7acb button.colab-df-convert');\n",
              "        buttonEl.style.display =\n",
              "          google.colab.kernel.accessAllowed ? 'block' : 'none';\n",
              "\n",
              "        async function convertToInteractive(key) {\n",
              "          const element = document.querySelector('#df-85e1396b-a199-47be-8881-5850857d7acb');\n",
              "          const dataTable =\n",
              "            await google.colab.kernel.invokeFunction('convertToInteractive',\n",
              "                                                     [key], {});\n",
              "          if (!dataTable) return;\n",
              "\n",
              "          const docLinkHtml = 'Like what you see? Visit the ' +\n",
              "            '<a target=\"_blank\" href=https://colab.research.google.com/notebooks/data_table.ipynb>data table notebook</a>'\n",
              "            + ' to learn more about interactive tables.';\n",
              "          element.innerHTML = '';\n",
              "          dataTable['output_type'] = 'display_data';\n",
              "          await google.colab.output.renderOutput(dataTable, element);\n",
              "          const docLink = document.createElement('div');\n",
              "          docLink.innerHTML = docLinkHtml;\n",
              "          element.appendChild(docLink);\n",
              "        }\n",
              "      </script>\n",
              "    </div>\n",
              "  </div>\n",
              "  "
            ],
            "text/plain": [
              "   X  Y month  day  FFMC    DMC     DC   ISI  temp  RH  wind  rain  area\n",
              "0  7  5   mar  fri  86.2   26.2   94.3   5.1   8.2  51   6.7   0.0   0.0\n",
              "1  7  4   oct  tue  90.6   35.4  669.1   6.7  18.0  33   0.9   0.0   0.0\n",
              "2  7  4   oct  sat  90.6   43.7  686.9   6.7  14.6  33   1.3   0.0   0.0\n",
              "3  8  6   mar  fri  91.7   33.3   77.5   9.0   8.3  97   4.0   0.2   0.0\n",
              "4  8  6   mar  sun  89.3   51.3  102.2   9.6  11.4  99   1.8   0.0   0.0\n",
              "5  8  6   aug  sun  92.3   85.3  488.0  14.7  22.2  29   5.4   0.0   0.0\n",
              "6  8  6   aug  mon  92.3   88.9  495.6   8.5  24.1  27   3.1   0.0   0.0\n",
              "7  8  6   aug  mon  91.5  145.4  608.2  10.7   8.0  86   2.2   0.0   0.0\n",
              "8  8  6   sep  tue  91.0  129.5  692.6   7.0  13.1  63   5.4   0.0   0.0\n",
              "9  7  5   sep  sat  92.5   88.0  698.6   7.1  22.8  40   4.0   0.0   0.0"
            ]
          },
          "metadata": {},
          "execution_count": 3
        }
      ],
      "source": [
        "import io\n",
        "df = pd.read_csv(io.BytesIO(uploaded['forestfires (3).csv']))\n",
        "df.head(10)"
      ]
    },
    {
      "cell_type": "code",
      "source": [
        "df.hist(column='area')"
      ],
      "metadata": {
        "colab": {
          "base_uri": "https://localhost:8080/",
          "height": 315
        },
        "id": "p1f0ZRfUOxCD",
        "outputId": "5c56e2f5-3edd-4ab6-e837-0713ae6e91f0"
      },
      "execution_count": null,
      "outputs": [
        {
          "output_type": "execute_result",
          "data": {
            "text/plain": [
              "array([[<matplotlib.axes._subplots.AxesSubplot object at 0x7f0610b337d0>]],\n",
              "      dtype=object)"
            ]
          },
          "metadata": {},
          "execution_count": 4
        },
        {
          "output_type": "display_data",
          "data": {
            "image/png": "[encoded data removed]",
            "text/plain": [
              "<Figure size 432x288 with 1 Axes>"
            ]
          },
          "metadata": {
            "needs_background": "light"
          }
        }
      ]
    },
    {
      "cell_type": "markdown",
      "source": [
        "## Add a new column = `size_category`"
      ],
      "metadata": {
        "id": "_FpkEmZ4taMD"
      }
    },
    {
      "cell_type": "markdown",
      "source": [
        "- `size_category` mengkategorikan jenis kebakaran hutan yang terjadi \n",
        "\n",
        " * Jika nilai dari variabel `area` < 6 maka `size_category` akan berlabel 0 (Kebakaran Kecil)\n",
        " * jika var nilai variabel `area` >= 6 maka `size_category` akan berlabel 1 (Kebakaran Besar)"
      ],
      "metadata": {
        "id": "iqPfLhK9tiJe"
      }
    },
    {
      "cell_type": "code",
      "source": [
        "df['size_category'] = np.where(df['area']>6, '1', '0')\n",
        "df.tail(10)"
      ],
      "metadata": {
        "colab": {
          "base_uri": "https://localhost:8080/",
          "height": 363
        },
        "id": "26iKR-cSN1mF",
        "outputId": "b27613c7-67e2-4797-916e-2c7fcd0ce694"
      },
      "execution_count": null,
      "outputs": [
        {
          "output_type": "execute_result",
          "data": {
            "text/html": [
              "\n",
              "  <div id=\"df-27cd6fab-8293-45aa-8c1c-dc12156507e5\">\n",
              "    <div class=\"colab-df-container\">\n",
              "      <div>\n",
              "<style scoped>\n",
              "    .dataframe tbody tr th:only-of-type {\n",
              "        vertical-align: middle;\n",
              "    }\n",
              "\n",
              "    .dataframe tbody tr th {\n",
              "        vertical-align: top;\n",
              "    }\n",
              "\n",
              "    .dataframe thead th {\n",
              "        text-align: right;\n",
              "    }\n",
              "</style>\n",
              "<table border=\"1\" class=\"dataframe\">\n",
              "  <thead>\n",
              "    <tr style=\"text-align: right;\">\n",
              "      <th></th>\n",
              "      <th>X</th>\n",
              "      <th>Y</th>\n",
              "      <th>month</th>\n",
              "      <th>day</th>\n",
              "      <th>FFMC</th>\n",
              "      <th>DMC</th>\n",
              "      <th>DC</th>\n",
              "      <th>ISI</th>\n",
              "      <th>temp</th>\n",
              "      <th>RH</th>\n",
              "      <th>wind</th>\n",
              "      <th>rain</th>\n",
              "      <th>area</th>\n",
              "      <th>size_category</th>\n",
              "    </tr>\n",
              "  </thead>\n",
              "  <tbody>\n",
              "    <tr>\n",
              "      <th>507</th>\n",
              "      <td>2</td>\n",
              "      <td>4</td>\n",
              "      <td>aug</td>\n",
              "      <td>fri</td>\n",
              "      <td>91.0</td>\n",
              "      <td>166.9</td>\n",
              "      <td>752.6</td>\n",
              "      <td>7.1</td>\n",
              "      <td>25.9</td>\n",
              "      <td>41</td>\n",
              "      <td>3.6</td>\n",
              "      <td>0.0</td>\n",
              "      <td>0.00</td>\n",
              "      <td>0</td>\n",
              "    </tr>\n",
              "    <tr>\n",
              "      <th>508</th>\n",
              "      <td>1</td>\n",
              "      <td>2</td>\n",
              "      <td>aug</td>\n",
              "      <td>fri</td>\n",
              "      <td>91.0</td>\n",
              "      <td>166.9</td>\n",
              "      <td>752.6</td>\n",
              "      <td>7.1</td>\n",
              "      <td>25.9</td>\n",
              "      <td>41</td>\n",
              "      <td>3.6</td>\n",
              "      <td>0.0</td>\n",
              "      <td>0.00</td>\n",
              "      <td>0</td>\n",
              "    </tr>\n",
              "    <tr>\n",
              "      <th>509</th>\n",
              "      <td>5</td>\n",
              "      <td>4</td>\n",
              "      <td>aug</td>\n",
              "      <td>fri</td>\n",
              "      <td>91.0</td>\n",
              "      <td>166.9</td>\n",
              "      <td>752.6</td>\n",
              "      <td>7.1</td>\n",
              "      <td>21.1</td>\n",
              "      <td>71</td>\n",
              "      <td>7.6</td>\n",
              "      <td>1.4</td>\n",
              "      <td>2.17</td>\n",
              "      <td>0</td>\n",
              "    </tr>\n",
              "    <tr>\n",
              "      <th>510</th>\n",
              "      <td>6</td>\n",
              "      <td>5</td>\n",
              "      <td>aug</td>\n",
              "      <td>fri</td>\n",
              "      <td>91.0</td>\n",
              "      <td>166.9</td>\n",
              "      <td>752.6</td>\n",
              "      <td>7.1</td>\n",
              "      <td>18.2</td>\n",
              "      <td>62</td>\n",
              "      <td>5.4</td>\n",
              "      <td>0.0</td>\n",
              "      <td>0.43</td>\n",
              "      <td>0</td>\n",
              "    </tr>\n",
              "    <tr>\n",
              "      <th>511</th>\n",
              "      <td>8</td>\n",
              "      <td>6</td>\n",
              "      <td>aug</td>\n",
              "      <td>sun</td>\n",
              "      <td>81.6</td>\n",
              "      <td>56.7</td>\n",
              "      <td>665.6</td>\n",
              "      <td>1.9</td>\n",
              "      <td>27.8</td>\n",
              "      <td>35</td>\n",
              "      <td>2.7</td>\n",
              "      <td>0.0</td>\n",
              "      <td>0.00</td>\n",
              "      <td>0</td>\n",
              "    </tr>\n",
              "    <tr>\n",
              "      <th>512</th>\n",
              "      <td>4</td>\n",
              "      <td>3</td>\n",
              "      <td>aug</td>\n",
              "      <td>sun</td>\n",
              "      <td>81.6</td>\n",
              "      <td>56.7</td>\n",
              "      <td>665.6</td>\n",
              "      <td>1.9</td>\n",
              "      <td>27.8</td>\n",
              "      <td>32</td>\n",
              "      <td>2.7</td>\n",
              "      <td>0.0</td>\n",
              "      <td>6.44</td>\n",
              "      <td>1</td>\n",
              "    </tr>\n",
              "    <tr>\n",
              "      <th>513</th>\n",
              "      <td>2</td>\n",
              "      <td>4</td>\n",
              "      <td>aug</td>\n",
              "      <td>sun</td>\n",
              "      <td>81.6</td>\n",
              "      <td>56.7</td>\n",
              "      <td>665.6</td>\n",
              "      <td>1.9</td>\n",
              "      <td>21.9</td>\n",
              "      <td>71</td>\n",
              "      <td>5.8</td>\n",
              "      <td>0.0</td>\n",
              "      <td>54.29</td>\n",
              "      <td>1</td>\n",
              "    </tr>\n",
              "    <tr>\n",
              "      <th>514</th>\n",
              "      <td>7</td>\n",
              "      <td>4</td>\n",
              "      <td>aug</td>\n",
              "      <td>sun</td>\n",
              "      <td>81.6</td>\n",
              "      <td>56.7</td>\n",
              "      <td>665.6</td>\n",
              "      <td>1.9</td>\n",
              "      <td>21.2</td>\n",
              "      <td>70</td>\n",
              "      <td>6.7</td>\n",
              "      <td>0.0</td>\n",
              "      <td>11.16</td>\n",
              "      <td>1</td>\n",
              "    </tr>\n",
              "    <tr>\n",
              "      <th>515</th>\n",
              "      <td>1</td>\n",
              "      <td>4</td>\n",
              "      <td>aug</td>\n",
              "      <td>sat</td>\n",
              "      <td>94.4</td>\n",
              "      <td>146.0</td>\n",
              "      <td>614.7</td>\n",
              "      <td>11.3</td>\n",
              "      <td>25.6</td>\n",
              "      <td>42</td>\n",
              "      <td>4.0</td>\n",
              "      <td>0.0</td>\n",
              "      <td>0.00</td>\n",
              "      <td>0</td>\n",
              "    </tr>\n",
              "    <tr>\n",
              "      <th>516</th>\n",
              "      <td>6</td>\n",
              "      <td>3</td>\n",
              "      <td>nov</td>\n",
              "      <td>tue</td>\n",
              "      <td>79.5</td>\n",
              "      <td>3.0</td>\n",
              "      <td>106.7</td>\n",
              "      <td>1.1</td>\n",
              "      <td>11.8</td>\n",
              "      <td>31</td>\n",
              "      <td>4.5</td>\n",
              "      <td>0.0</td>\n",
              "      <td>0.00</td>\n",
              "      <td>0</td>\n",
              "    </tr>\n",
              "  </tbody>\n",
              "</table>\n",
              "</div>\n",
              "      <button class=\"colab-df-convert\" onclick=\"convertToInteractive('df-27cd6fab-8293-45aa-8c1c-dc12156507e5')\"\n",
              "              title=\"Convert this dataframe to an interactive table.\"\n",
              "              style=\"display:none;\">\n",
              "        \n",
              "  <svg xmlns=\"http://www.w3.org/2000/svg\" height=\"24px\"viewBox=\"0 0 24 24\"\n",
              "       width=\"24px\">\n",
              "    <path d=\"M0 0h24v24H0V0z\" fill=\"none\"/>\n",
              "    <path d=\"M18.56 5.44l.94 2.06.94-2.06 2.06-.94-2.06-.94-.94-2.06-.94 2.06-2.06.94zm-11 1L8.5 8.5l.94-2.06 2.06-.94-2.06-.94L8.5 2.5l-.94 2.06-2.06.94zm10 10l.94 2.06.94-2.06 2.06-.94-2.06-.94-.94-2.06-.94 2.06-2.06.94z\"/><path d=\"M17.41 7.96l-1.37-1.37c-.4-.4-.92-.59-1.43-.59-.52 0-1.04.2-1.43.59L10.3 9.45l-7.72 7.72c-.78.78-.78 2.05 0 2.83L4 21.41c.39.39.9.59 1.41.59.51 0 1.02-.2 1.41-.59l7.78-7.78 2.81-2.81c.8-.78.8-2.07 0-2.86zM5.41 20L4 18.59l7.72-7.72 1.47 1.35L5.41 20z\"/>\n",
              "  </svg>\n",
              "      </button>\n",
              "      \n",
              "  <style>\n",
              "    .colab-df-container {\n",
              "      display:flex;\n",
              "      flex-wrap:wrap;\n",
              "      gap: 12px;\n",
              "    }\n",
              "\n",
              "    .colab-df-convert {\n",
              "      background-color: #E8F0FE;\n",
              "      border: none;\n",
              "      border-radius: 50%;\n",
              "      cursor: pointer;\n",
              "      display: none;\n",
              "      fill: #1967D2;\n",
              "      height: 32px;\n",
              "      padding: 0 0 0 0;\n",
              "      width: 32px;\n",
              "    }\n",
              "\n",
              "    .colab-df-convert:hover {\n",
              "      background-color: #E2EBFA;\n",
              "      box-shadow: 0px 1px 2px rgba(60, 64, 67, 0.3), 0px 1px 3px 1px rgba(60, 64, 67, 0.15);\n",
              "      fill: #174EA6;\n",
              "    }\n",
              "\n",
              "    [theme=dark] .colab-df-convert {\n",
              "      background-color: #3B4455;\n",
              "      fill: #D2E3FC;\n",
              "    }\n",
              "\n",
              "    [theme=dark] .colab-df-convert:hover {\n",
              "      background-color: #434B5C;\n",
              "      box-shadow: 0px 1px 3px 1px rgba(0, 0, 0, 0.15);\n",
              "      filter: drop-shadow(0px 1px 2px rgba(0, 0, 0, 0.3));\n",
              "      fill: #FFFFFF;\n",
              "    }\n",
              "  </style>\n",
              "\n",
              "      <script>\n",
              "        const buttonEl =\n",
              "          document.querySelector('#df-27cd6fab-8293-45aa-8c1c-dc12156507e5 button.colab-df-convert');\n",
              "        buttonEl.style.display =\n",
              "          google.colab.kernel.accessAllowed ? 'block' : 'none';\n",
              "\n",
              "        async function convertToInteractive(key) {\n",
              "          const element = document.querySelector('#df-27cd6fab-8293-45aa-8c1c-dc12156507e5');\n",
              "          const dataTable =\n",
              "            await google.colab.kernel.invokeFunction('convertToInteractive',\n",
              "                                                     [key], {});\n",
              "          if (!dataTable) return;\n",
              "\n",
              "          const docLinkHtml = 'Like what you see? Visit the ' +\n",
              "            '<a target=\"_blank\" href=https://colab.research.google.com/notebooks/data_table.ipynb>data table notebook</a>'\n",
              "            + ' to learn more about interactive tables.';\n",
              "          element.innerHTML = '';\n",
              "          dataTable['output_type'] = 'display_data';\n",
              "          await google.colab.output.renderOutput(dataTable, element);\n",
              "          const docLink = document.createElement('div');\n",
              "          docLink.innerHTML = docLinkHtml;\n",
              "          element.appendChild(docLink);\n",
              "        }\n",
              "      </script>\n",
              "    </div>\n",
              "  </div>\n",
              "  "
            ],
            "text/plain": [
              "     X  Y month  day  FFMC    DMC  ...  temp  RH  wind  rain   area  size_category\n",
              "507  2  4   aug  fri  91.0  166.9  ...  25.9  41   3.6   0.0   0.00              0\n",
              "508  1  2   aug  fri  91.0  166.9  ...  25.9  41   3.6   0.0   0.00              0\n",
              "509  5  4   aug  fri  91.0  166.9  ...  21.1  71   7.6   1.4   2.17              0\n",
              "510  6  5   aug  fri  91.0  166.9  ...  18.2  62   5.4   0.0   0.43              0\n",
              "511  8  6   aug  sun  81.6   56.7  ...  27.8  35   2.7   0.0   0.00              0\n",
              "512  4  3   aug  sun  81.6   56.7  ...  27.8  32   2.7   0.0   6.44              1\n",
              "513  2  4   aug  sun  81.6   56.7  ...  21.9  71   5.8   0.0  54.29              1\n",
              "514  7  4   aug  sun  81.6   56.7  ...  21.2  70   6.7   0.0  11.16              1\n",
              "515  1  4   aug  sat  94.4  146.0  ...  25.6  42   4.0   0.0   0.00              0\n",
              "516  6  3   nov  tue  79.5    3.0  ...  11.8  31   4.5   0.0   0.00              0\n",
              "\n",
              "[10 rows x 14 columns]"
            ]
          },
          "metadata": {},
          "execution_count": 5
        }
      ]
    },
    {
      "cell_type": "markdown",
      "source": [
        "**Attribute Information:**\n",
        "\n",
        "\n",
        "   1. X : x-axis spatial coordinate within the Montesinho park map: 1 to 9\n",
        "   2. Y : y-axis spatial coordinate within the Montesinho park map: 2 to 9\n",
        "   3. month : month of the year: \"jan\" to \"dec\" \n",
        "   4. day : day of the week: \"mon\" to \"sun\"\n",
        "   5. FFMC : FFMC index (Fine Fuel Moisture Code) from the FWI system: 18.7 to 96.20 -> Kelembaban Bahan Bakar\n",
        "   6. DMC : DMC index (Duff Moisture Code) from the FWI system: 1.1 to 291.3 -> Kelembapan Duff\n",
        "   7. DC : DC index (Drought Code) from the FWI system: 7.9 to 860.6  -> Kekeringan\n",
        "   8. ISI : ISI index (Initial Spread Index) from the FWI system: 0.0 to 56.10 (related to wind and FFMC) -> Index penyebaran awal\n",
        "   9. temp : temperature in Celsius degrees: 2.2 to 33.30\n",
        "   10. RH : relative humidity in %: 15.0 to 100\n",
        "   11. wind : wind speed in km/h: 0.40 to 9.40 \n",
        "   12. rain : outside rain in mm/m2 : 0.0 to 6.4 \n",
        "   13. area : the burned area of the forest (in ha): 0.00 to 1090.84 \n",
        "   (this output variable is very skewed towards 0.0, thus it may make sense to model with the logarithm transform).\n",
        "\n",
        "   14. size_category : label if area < 6 = 0 else 1 "
      ],
      "metadata": {
        "id": "ZYJERIC7elTl"
      }
    },
    {
      "cell_type": "code",
      "source": [
        "sns.countplot(x=\"size_category\", data=df)"
      ],
      "metadata": {
        "colab": {
          "base_uri": "https://localhost:8080/",
          "height": 296
        },
        "id": "iO_xfHkMObSn",
        "outputId": "22f4bcc0-0c56-4f68-ecaa-32ffced70909"
      },
      "execution_count": null,
      "outputs": [
        {
          "output_type": "execute_result",
          "data": {
            "text/plain": [
              "<matplotlib.axes._subplots.AxesSubplot at 0x7f0687d7f8d0>"
            ]
          },
          "metadata": {},
          "execution_count": 6
        },
        {
          "output_type": "display_data",
          "data": {
            "image/png": "[encoded data removed]",
            "text/plain": [
              "<Figure size 432x288 with 1 Axes>"
            ]
          },
          "metadata": {
            "needs_background": "light"
          }
        }
      ]
    },
    {
      "cell_type": "markdown",
      "source": [
        "# Data Exploration"
      ],
      "metadata": {
        "id": "HIPtmQDogNtT"
      }
    },
    {
      "cell_type": "code",
      "source": [
        "df.info()"
      ],
      "metadata": {
        "colab": {
          "base_uri": "https://localhost:8080/"
        },
        "id": "OHcbpW-vec3D",
        "outputId": "80a42c97-9240-4890-dd87-4a8359d45144"
      },
      "execution_count": null,
      "outputs": [
        {
          "output_type": "stream",
          "name": "stdout",
          "text": [
            "<class 'pandas.core.frame.DataFrame'>\n",
            "RangeIndex: 517 entries, 0 to 516\n",
            "Data columns (total 14 columns):\n",
            " #   Column         Non-Null Count  Dtype  \n",
            "---  ------         --------------  -----  \n",
            " 0   X              517 non-null    int64  \n",
            " 1   Y              517 non-null    int64  \n",
            " 2   month          517 non-null    object \n",
            " 3   day            517 non-null    object \n",
            " 4   FFMC           517 non-null    float64\n",
            " 5   DMC            517 non-null    float64\n",
            " 6   DC             517 non-null    float64\n",
            " 7   ISI            517 non-null    float64\n",
            " 8   temp           517 non-null    float64\n",
            " 9   RH             517 non-null    int64  \n",
            " 10  wind           517 non-null    float64\n",
            " 11  rain           517 non-null    float64\n",
            " 12  area           517 non-null    float64\n",
            " 13  size_category  517 non-null    object \n",
            "dtypes: float64(8), int64(3), object(3)\n",
            "memory usage: 56.7+ KB\n"
          ]
        }
      ]
    },
    {
      "cell_type": "code",
      "source": [
        "df['size_category']=pd.to_numeric(df['size_category'])"
      ],
      "metadata": {
        "id": "j-eGv0aFPQv0"
      },
      "execution_count": null,
      "outputs": []
    },
    {
      "cell_type": "code",
      "source": [
        "df.info()"
      ],
      "metadata": {
        "colab": {
          "base_uri": "https://localhost:8080/"
        },
        "id": "gEIkDot-Qj0z",
        "outputId": "7b9da607-88c3-4f51-d9ff-fdcd585da71f"
      },
      "execution_count": null,
      "outputs": [
        {
          "output_type": "stream",
          "name": "stdout",
          "text": [
            "<class 'pandas.core.frame.DataFrame'>\n",
            "RangeIndex: 517 entries, 0 to 516\n",
            "Data columns (total 14 columns):\n",
            " #   Column         Non-Null Count  Dtype  \n",
            "---  ------         --------------  -----  \n",
            " 0   X              517 non-null    int64  \n",
            " 1   Y              517 non-null    int64  \n",
            " 2   month          517 non-null    object \n",
            " 3   day            517 non-null    object \n",
            " 4   FFMC           517 non-null    float64\n",
            " 5   DMC            517 non-null    float64\n",
            " 6   DC             517 non-null    float64\n",
            " 7   ISI            517 non-null    float64\n",
            " 8   temp           517 non-null    float64\n",
            " 9   RH             517 non-null    int64  \n",
            " 10  wind           517 non-null    float64\n",
            " 11  rain           517 non-null    float64\n",
            " 12  area           517 non-null    float64\n",
            " 13  size_category  517 non-null    int64  \n",
            "dtypes: float64(8), int64(4), object(2)\n",
            "memory usage: 56.7+ KB\n"
          ]
        }
      ]
    },
    {
      "cell_type": "code",
      "source": [
        "print('Total Data:', df.shape[0])\n",
        "print('Total Features:', df.shape[1])"
      ],
      "metadata": {
        "colab": {
          "base_uri": "https://localhost:8080/"
        },
        "id": "EVx5c8PsgRUT",
        "outputId": "59d17dea-6481-4172-9da5-023d740f5eb2"
      },
      "execution_count": null,
      "outputs": [
        {
          "output_type": "stream",
          "name": "stdout",
          "text": [
            "Total Data: 517\n",
            "Total Features: 14\n"
          ]
        }
      ]
    },
    {
      "cell_type": "markdown",
      "source": [
        "### Check Null Values"
      ],
      "metadata": {
        "id": "92Br7wqej-gL"
      }
    },
    {
      "cell_type": "code",
      "source": [
        "df.isnull().sum()"
      ],
      "metadata": {
        "colab": {
          "base_uri": "https://localhost:8080/"
        },
        "id": "ordM5f24gTq7",
        "outputId": "056352cc-cde6-4600-a383-e28a658fe137"
      },
      "execution_count": null,
      "outputs": [
        {
          "output_type": "execute_result",
          "data": {
            "text/plain": [
              "X                0\n",
              "Y                0\n",
              "month            0\n",
              "day              0\n",
              "FFMC             0\n",
              "DMC              0\n",
              "DC               0\n",
              "ISI              0\n",
              "temp             0\n",
              "RH               0\n",
              "wind             0\n",
              "rain             0\n",
              "area             0\n",
              "size_category    0\n",
              "dtype: int64"
            ]
          },
          "metadata": {},
          "execution_count": 11
        }
      ]
    },
    {
      "cell_type": "markdown",
      "source": [
        "Dataset tidak memiliki *missing values*."
      ],
      "metadata": {
        "id": "cTCWoZ6AkCo7"
      }
    },
    {
      "cell_type": "markdown",
      "source": [
        "Check apakah nilai-nilai dari variabel *reasonable.*"
      ],
      "metadata": {
        "id": "Y-bmv6q9kG6E"
      }
    },
    {
      "cell_type": "code",
      "source": [
        "df.describe().transpose()"
      ],
      "metadata": {
        "colab": {
          "base_uri": "https://localhost:8080/",
          "height": 426
        },
        "id": "sEtN40b3gVit",
        "outputId": "41792ba6-f581-4fc8-cb4d-698dc93369c8"
      },
      "execution_count": null,
      "outputs": [
        {
          "output_type": "execute_result",
          "data": {
            "text/html": [
              "\n",
              "  <div id=\"df-d7e2f6f3-f0a0-4480-a31b-879d416b89ef\">\n",
              "    <div class=\"colab-df-container\">\n",
              "      <div>\n",
              "<style scoped>\n",
              "    .dataframe tbody tr th:only-of-type {\n",
              "        vertical-align: middle;\n",
              "    }\n",
              "\n",
              "    .dataframe tbody tr th {\n",
              "        vertical-align: top;\n",
              "    }\n",
              "\n",
              "    .dataframe thead th {\n",
              "        text-align: right;\n",
              "    }\n",
              "</style>\n",
              "<table border=\"1\" class=\"dataframe\">\n",
              "  <thead>\n",
              "    <tr style=\"text-align: right;\">\n",
              "      <th></th>\n",
              "      <th>count</th>\n",
              "      <th>mean</th>\n",
              "      <th>std</th>\n",
              "      <th>min</th>\n",
              "      <th>25%</th>\n",
              "      <th>50%</th>\n",
              "      <th>75%</th>\n",
              "      <th>max</th>\n",
              "    </tr>\n",
              "  </thead>\n",
              "  <tbody>\n",
              "    <tr>\n",
              "      <th>X</th>\n",
              "      <td>517.0</td>\n",
              "      <td>4.669246</td>\n",
              "      <td>2.313778</td>\n",
              "      <td>1.0</td>\n",
              "      <td>3.0</td>\n",
              "      <td>4.00</td>\n",
              "      <td>7.00</td>\n",
              "      <td>9.00</td>\n",
              "    </tr>\n",
              "    <tr>\n",
              "      <th>Y</th>\n",
              "      <td>517.0</td>\n",
              "      <td>4.299807</td>\n",
              "      <td>1.229900</td>\n",
              "      <td>2.0</td>\n",
              "      <td>4.0</td>\n",
              "      <td>4.00</td>\n",
              "      <td>5.00</td>\n",
              "      <td>9.00</td>\n",
              "    </tr>\n",
              "    <tr>\n",
              "      <th>FFMC</th>\n",
              "      <td>517.0</td>\n",
              "      <td>90.644681</td>\n",
              "      <td>5.520111</td>\n",
              "      <td>18.7</td>\n",
              "      <td>90.2</td>\n",
              "      <td>91.60</td>\n",
              "      <td>92.90</td>\n",
              "      <td>96.20</td>\n",
              "    </tr>\n",
              "    <tr>\n",
              "      <th>DMC</th>\n",
              "      <td>517.0</td>\n",
              "      <td>110.872340</td>\n",
              "      <td>64.046482</td>\n",
              "      <td>1.1</td>\n",
              "      <td>68.6</td>\n",
              "      <td>108.30</td>\n",
              "      <td>142.40</td>\n",
              "      <td>291.30</td>\n",
              "    </tr>\n",
              "    <tr>\n",
              "      <th>DC</th>\n",
              "      <td>517.0</td>\n",
              "      <td>547.940039</td>\n",
              "      <td>248.066192</td>\n",
              "      <td>7.9</td>\n",
              "      <td>437.7</td>\n",
              "      <td>664.20</td>\n",
              "      <td>713.90</td>\n",
              "      <td>860.60</td>\n",
              "    </tr>\n",
              "    <tr>\n",
              "      <th>ISI</th>\n",
              "      <td>517.0</td>\n",
              "      <td>9.021663</td>\n",
              "      <td>4.559477</td>\n",
              "      <td>0.0</td>\n",
              "      <td>6.5</td>\n",
              "      <td>8.40</td>\n",
              "      <td>10.80</td>\n",
              "      <td>56.10</td>\n",
              "    </tr>\n",
              "    <tr>\n",
              "      <th>temp</th>\n",
              "      <td>517.0</td>\n",
              "      <td>18.889168</td>\n",
              "      <td>5.806625</td>\n",
              "      <td>2.2</td>\n",
              "      <td>15.5</td>\n",
              "      <td>19.30</td>\n",
              "      <td>22.80</td>\n",
              "      <td>33.30</td>\n",
              "    </tr>\n",
              "    <tr>\n",
              "      <th>RH</th>\n",
              "      <td>517.0</td>\n",
              "      <td>44.288201</td>\n",
              "      <td>16.317469</td>\n",
              "      <td>15.0</td>\n",
              "      <td>33.0</td>\n",
              "      <td>42.00</td>\n",
              "      <td>53.00</td>\n",
              "      <td>100.00</td>\n",
              "    </tr>\n",
              "    <tr>\n",
              "      <th>wind</th>\n",
              "      <td>517.0</td>\n",
              "      <td>4.017602</td>\n",
              "      <td>1.791653</td>\n",
              "      <td>0.4</td>\n",
              "      <td>2.7</td>\n",
              "      <td>4.00</td>\n",
              "      <td>4.90</td>\n",
              "      <td>9.40</td>\n",
              "    </tr>\n",
              "    <tr>\n",
              "      <th>rain</th>\n",
              "      <td>517.0</td>\n",
              "      <td>0.021663</td>\n",
              "      <td>0.295959</td>\n",
              "      <td>0.0</td>\n",
              "      <td>0.0</td>\n",
              "      <td>0.00</td>\n",
              "      <td>0.00</td>\n",
              "      <td>6.40</td>\n",
              "    </tr>\n",
              "    <tr>\n",
              "      <th>area</th>\n",
              "      <td>517.0</td>\n",
              "      <td>12.847292</td>\n",
              "      <td>63.655818</td>\n",
              "      <td>0.0</td>\n",
              "      <td>0.0</td>\n",
              "      <td>0.52</td>\n",
              "      <td>6.57</td>\n",
              "      <td>1090.84</td>\n",
              "    </tr>\n",
              "    <tr>\n",
              "      <th>size_category</th>\n",
              "      <td>517.0</td>\n",
              "      <td>0.268859</td>\n",
              "      <td>0.443796</td>\n",
              "      <td>0.0</td>\n",
              "      <td>0.0</td>\n",
              "      <td>0.00</td>\n",
              "      <td>1.00</td>\n",
              "      <td>1.00</td>\n",
              "    </tr>\n",
              "  </tbody>\n",
              "</table>\n",
              "</div>\n",
              "      <button class=\"colab-df-convert\" onclick=\"convertToInteractive('df-d7e2f6f3-f0a0-4480-a31b-879d416b89ef')\"\n",
              "              title=\"Convert this dataframe to an interactive table.\"\n",
              "              style=\"display:none;\">\n",
              "        \n",
              "  <svg xmlns=\"http://www.w3.org/2000/svg\" height=\"24px\"viewBox=\"0 0 24 24\"\n",
              "       width=\"24px\">\n",
              "    <path d=\"M0 0h24v24H0V0z\" fill=\"none\"/>\n",
              "    <path d=\"M18.56 5.44l.94 2.06.94-2.06 2.06-.94-2.06-.94-.94-2.06-.94 2.06-2.06.94zm-11 1L8.5 8.5l.94-2.06 2.06-.94-2.06-.94L8.5 2.5l-.94 2.06-2.06.94zm10 10l.94 2.06.94-2.06 2.06-.94-2.06-.94-.94-2.06-.94 2.06-2.06.94z\"/><path d=\"M17.41 7.96l-1.37-1.37c-.4-.4-.92-.59-1.43-.59-.52 0-1.04.2-1.43.59L10.3 9.45l-7.72 7.72c-.78.78-.78 2.05 0 2.83L4 21.41c.39.39.9.59 1.41.59.51 0 1.02-.2 1.41-.59l7.78-7.78 2.81-2.81c.8-.78.8-2.07 0-2.86zM5.41 20L4 18.59l7.72-7.72 1.47 1.35L5.41 20z\"/>\n",
              "  </svg>\n",
              "      </button>\n",
              "      \n",
              "  <style>\n",
              "    .colab-df-container {\n",
              "      display:flex;\n",
              "      flex-wrap:wrap;\n",
              "      gap: 12px;\n",
              "    }\n",
              "\n",
              "    .colab-df-convert {\n",
              "      background-color: #E8F0FE;\n",
              "      border: none;\n",
              "      border-radius: 50%;\n",
              "      cursor: pointer;\n",
              "      display: none;\n",
              "      fill: #1967D2;\n",
              "      height: 32px;\n",
              "      padding: 0 0 0 0;\n",
              "      width: 32px;\n",
              "    }\n",
              "\n",
              "    .colab-df-convert:hover {\n",
              "      background-color: #E2EBFA;\n",
              "      box-shadow: 0px 1px 2px rgba(60, 64, 67, 0.3), 0px 1px 3px 1px rgba(60, 64, 67, 0.15);\n",
              "      fill: #174EA6;\n",
              "    }\n",
              "\n",
              "    [theme=dark] .colab-df-convert {\n",
              "      background-color: #3B4455;\n",
              "      fill: #D2E3FC;\n",
              "    }\n",
              "\n",
              "    [theme=dark] .colab-df-convert:hover {\n",
              "      background-color: #434B5C;\n",
              "      box-shadow: 0px 1px 3px 1px rgba(0, 0, 0, 0.15);\n",
              "      filter: drop-shadow(0px 1px 2px rgba(0, 0, 0, 0.3));\n",
              "      fill: #FFFFFF;\n",
              "    }\n",
              "  </style>\n",
              "\n",
              "      <script>\n",
              "        const buttonEl =\n",
              "          document.querySelector('#df-d7e2f6f3-f0a0-4480-a31b-879d416b89ef button.colab-df-convert');\n",
              "        buttonEl.style.display =\n",
              "          google.colab.kernel.accessAllowed ? 'block' : 'none';\n",
              "\n",
              "        async function convertToInteractive(key) {\n",
              "          const element = document.querySelector('#df-d7e2f6f3-f0a0-4480-a31b-879d416b89ef');\n",
              "          const dataTable =\n",
              "            await google.colab.kernel.invokeFunction('convertToInteractive',\n",
              "                                                     [key], {});\n",
              "          if (!dataTable) return;\n",
              "\n",
              "          const docLinkHtml = 'Like what you see? Visit the ' +\n",
              "            '<a target=\"_blank\" href=https://colab.research.google.com/notebooks/data_table.ipynb>data table notebook</a>'\n",
              "            + ' to learn more about interactive tables.';\n",
              "          element.innerHTML = '';\n",
              "          dataTable['output_type'] = 'display_data';\n",
              "          await google.colab.output.renderOutput(dataTable, element);\n",
              "          const docLink = document.createElement('div');\n",
              "          docLink.innerHTML = docLinkHtml;\n",
              "          element.appendChild(docLink);\n",
              "        }\n",
              "      </script>\n",
              "    </div>\n",
              "  </div>\n",
              "  "
            ],
            "text/plain": [
              "               count        mean         std  ...     50%     75%      max\n",
              "X              517.0    4.669246    2.313778  ...    4.00    7.00     9.00\n",
              "Y              517.0    4.299807    1.229900  ...    4.00    5.00     9.00\n",
              "FFMC           517.0   90.644681    5.520111  ...   91.60   92.90    96.20\n",
              "DMC            517.0  110.872340   64.046482  ...  108.30  142.40   291.30\n",
              "DC             517.0  547.940039  248.066192  ...  664.20  713.90   860.60\n",
              "ISI            517.0    9.021663    4.559477  ...    8.40   10.80    56.10\n",
              "temp           517.0   18.889168    5.806625  ...   19.30   22.80    33.30\n",
              "RH             517.0   44.288201   16.317469  ...   42.00   53.00   100.00\n",
              "wind           517.0    4.017602    1.791653  ...    4.00    4.90     9.40\n",
              "rain           517.0    0.021663    0.295959  ...    0.00    0.00     6.40\n",
              "area           517.0   12.847292   63.655818  ...    0.52    6.57  1090.84\n",
              "size_category  517.0    0.268859    0.443796  ...    0.00    1.00     1.00\n",
              "\n",
              "[12 rows x 8 columns]"
            ]
          },
          "metadata": {},
          "execution_count": 12
        }
      ]
    },
    {
      "cell_type": "markdown",
      "source": [
        "Tidak ditemukan fitur yang tampaknya memiliki rentang luar biasa."
      ],
      "metadata": {
        "id": "9RxnuFHykWA-"
      }
    },
    {
      "cell_type": "code",
      "source": [
        "fig, ax = plt.subplots(figsize=(16,10))  \n",
        "dataplot = sns.heatmap(df.corr(), cmap=\"YlGnBu\", annot=True)\n",
        "plt.show()"
      ],
      "metadata": {
        "colab": {
          "base_uri": "https://localhost:8080/",
          "height": 592
        },
        "id": "O2Ou5GFnQnVT",
        "outputId": "bcfaea9d-c039-419d-dc24-d1b533bebaef"
      },
      "execution_count": null,
      "outputs": [
        {
          "output_type": "display_data",
          "data": {
            "image/png": "[encoded data removed]",
            "text/plain": [
              "<Figure size 1152x720 with 2 Axes>"
            ]
          },
          "metadata": {
            "needs_background": "light"
          }
        }
      ]
    },
    {
      "cell_type": "markdown",
      "source": [
        "# Data Preprocessing"
      ],
      "metadata": {
        "id": "xP7hjZGq20GC"
      }
    },
    {
      "cell_type": "markdown",
      "source": [
        "## 1) Data Preprocessing Month"
      ],
      "metadata": {
        "id": "i0kWDXaBq8YZ"
      }
    },
    {
      "cell_type": "code",
      "source": [
        "sns.countplot(df['month'])\n",
        "plt.title('Count plot of months')"
      ],
      "metadata": {
        "colab": {
          "base_uri": "https://localhost:8080/",
          "height": 366
        },
        "id": "9DaPjxEfkKdL",
        "outputId": "f605d468-a1e9-40a5-a5d5-690d16b1e4f7"
      },
      "execution_count": null,
      "outputs": [
        {
          "output_type": "stream",
          "name": "stderr",
          "text": [
            "/usr/local/lib/python3.7/dist-packages/seaborn/_decorators.py:43: FutureWarning: Pass the following variable as a keyword arg: x. From version 0.12, the only valid positional argument will be `data`, and passing other arguments without an explicit keyword will result in an error or misinterpretation.\n",
            "  FutureWarning\n"
          ]
        },
        {
          "output_type": "execute_result",
          "data": {
            "text/plain": [
              "Text(0.5, 1.0, 'Count plot of months')"
            ]
          },
          "metadata": {},
          "execution_count": 14
        },
        {
          "output_type": "display_data",
          "data": {
            "image/png": "[encoded data removed]",
            "text/plain": [
              "<Figure size 432x288 with 1 Axes>"
            ]
          },
          "metadata": {
            "needs_background": "light"
          }
        }
      ]
    },
    {
      "cell_type": "markdown",
      "source": [
        "* Data terlihat sebagian besar *skewed* atau condong ke bulan **August** dan **September** (yang mana merupakan musim *summer* di Portugal)\n",
        "\n",
        "* Oleh karena ukuran dataset yang digunakan hanya 517 baris, kecil kemungkinan akan diperoleh banyak informasi dengan mengkodekan 12 bulan dengan variabel *dummy*.\n",
        "\n",
        "* Sebagai gantinya, langkah yang dilakukan selanjutnya : berupa memisahkan data `month` menjadi 4 kategori musim:  Spring, Summer, Autumn dan Winter. (Terdapat kemungkinan musim memiliki peluang bagus untuk bisa dikorelasikan dengan suhu dan hujan)\n",
        "\n"
      ],
      "metadata": {
        "id": "ckKOE5xYqxa-"
      }
    },
    {
      "cell_type": "code",
      "source": [
        "# dictionary of months mapping to seasons\n",
        "season_dict = {'dec' : 'winter', 'jan' : 'winter', 'feb' : 'winter',\n",
        "              'mar' : 'spring', 'apr' : 'spring', 'may' : 'spring',\n",
        "              'jun' : 'summer', 'jul' : 'summer', 'aug' : 'summer', 'sep' : 'summer',\n",
        "              'oct' : 'autumn', 'nov' : 'autumn'}\n",
        "\n",
        "# applying dictionary\n",
        "df = df.replace({'month' : season_dict})\n",
        "\n",
        "# renaming column\n",
        "df = df.rename(columns = {'month' : 'season'})\n",
        "\n",
        "# visualizing data\n",
        "sns.countplot(df['season'])\n",
        "plt.title('Count plot of seasons')"
      ],
      "metadata": {
        "colab": {
          "base_uri": "https://localhost:8080/",
          "height": 366
        },
        "id": "Ib9gLC3Skdg1",
        "outputId": "5d22cc92-b36b-4939-b0b2-9f7c6fea5db1"
      },
      "execution_count": null,
      "outputs": [
        {
          "output_type": "stream",
          "name": "stderr",
          "text": [
            "/usr/local/lib/python3.7/dist-packages/seaborn/_decorators.py:43: FutureWarning: Pass the following variable as a keyword arg: x. From version 0.12, the only valid positional argument will be `data`, and passing other arguments without an explicit keyword will result in an error or misinterpretation.\n",
            "  FutureWarning\n"
          ]
        },
        {
          "output_type": "execute_result",
          "data": {
            "text/plain": [
              "Text(0.5, 1.0, 'Count plot of seasons')"
            ]
          },
          "metadata": {},
          "execution_count": 15
        },
        {
          "output_type": "display_data",
          "data": {
            "image/png": "[encoded data removed]",
            "text/plain": [
              "<Figure size 432x288 with 1 Axes>"
            ]
          },
          "metadata": {
            "needs_background": "light"
          }
        }
      ]
    },
    {
      "cell_type": "markdown",
      "source": [
        "Tampaknya kategori musim *Summer* memiliki skew yang terlalu besar. Untuk mengatasi hal ini, akan dilakukan pengkategorian lanjutan berupa *'summer'* or *'not summer'*."
      ],
      "metadata": {
        "id": "NQSKG85brNfL"
      }
    },
    {
      "cell_type": "code",
      "source": [
        "# converting to is summer\n",
        "df['season'] = (df['season'] == 'summer')\n",
        "\n",
        "# renaming column\n",
        "df = df.rename(columns = {'season' : 'is_summer'})\n",
        "\n",
        "# visualizing data\n",
        "sns.countplot(df['is_summer'])\n",
        "plt.title('Count plot of summer vs other seasons')"
      ],
      "metadata": {
        "colab": {
          "base_uri": "https://localhost:8080/",
          "height": 366
        },
        "id": "7Ppf_iXXrLsU",
        "outputId": "91913861-dfd8-411b-8153-5be056b5e96c"
      },
      "execution_count": null,
      "outputs": [
        {
          "output_type": "stream",
          "name": "stderr",
          "text": [
            "/usr/local/lib/python3.7/dist-packages/seaborn/_decorators.py:43: FutureWarning: Pass the following variable as a keyword arg: x. From version 0.12, the only valid positional argument will be `data`, and passing other arguments without an explicit keyword will result in an error or misinterpretation.\n",
            "  FutureWarning\n"
          ]
        },
        {
          "output_type": "execute_result",
          "data": {
            "text/plain": [
              "Text(0.5, 1.0, 'Count plot of summer vs other seasons')"
            ]
          },
          "metadata": {},
          "execution_count": 16
        },
        {
          "output_type": "display_data",
          "data": {
            "image/png": "[encoded data removed]",
            "text/plain": [
              "<Figure size 432x288 with 1 Axes>"
            ]
          },
          "metadata": {
            "needs_background": "light"
          }
        }
      ]
    },
    {
      "cell_type": "markdown",
      "source": [
        "## 2) Data Preprocessing Days"
      ],
      "metadata": {
        "id": "VEySUwpvrXLW"
      }
    },
    {
      "cell_type": "code",
      "source": [
        "sns.countplot(df['day'])\n",
        "plt.title('Count plot of days')"
      ],
      "metadata": {
        "colab": {
          "base_uri": "https://localhost:8080/",
          "height": 366
        },
        "id": "QZuQ0UXGrSFF",
        "outputId": "06da17ae-df1b-4a26-beef-425f0e757205"
      },
      "execution_count": null,
      "outputs": [
        {
          "output_type": "stream",
          "name": "stderr",
          "text": [
            "/usr/local/lib/python3.7/dist-packages/seaborn/_decorators.py:43: FutureWarning: Pass the following variable as a keyword arg: x. From version 0.12, the only valid positional argument will be `data`, and passing other arguments without an explicit keyword will result in an error or misinterpretation.\n",
            "  FutureWarning\n"
          ]
        },
        {
          "output_type": "execute_result",
          "data": {
            "text/plain": [
              "Text(0.5, 1.0, 'Count plot of days')"
            ]
          },
          "metadata": {},
          "execution_count": 17
        },
        {
          "output_type": "display_data",
          "data": {
            "image/png": "[encoded data removed]",
            "text/plain": [
              "<Figure size 432x288 with 1 Axes>"
            ]
          },
          "metadata": {
            "needs_background": "light"
          }
        }
      ]
    },
    {
      "cell_type": "markdown",
      "source": [
        "* Distribusi untuk variabel `days` terlihat cukup baik. Akan tetapi, akan dilakukan pemisahan kategori hari menjadi *weekend* dan *not weekend*. \n",
        "\n",
        "* Alasan di balik ini adalah bahwa jumlah area yang terbakar dalam kebakaran juga terkait dengan bagaimana petugas pemadam kebakaran merespons api. Selama akhir pekan, jumlah petugas pemadam kebakaran atau respons secara umum mungkin berbeda dibandingkan pada hari kerja."
      ],
      "metadata": {
        "id": "Bs4HdQdarcoo"
      }
    },
    {
      "cell_type": "code",
      "source": [
        "# converting to is weekend\n",
        "df['day'] = ((df['day'] == 'sun') | (df['day'] == 'sat'))\n",
        "\n",
        "# renaming column\n",
        "df = df.rename(columns = {'day' : 'is_weekend'})\n",
        "\n",
        "# visualizing\n",
        "sns.countplot(df['is_weekend'])\n",
        "plt.title('Count plot of weekend vs weekday')"
      ],
      "metadata": {
        "colab": {
          "base_uri": "https://localhost:8080/",
          "height": 366
        },
        "id": "NRtjmm6htIHi",
        "outputId": "ece1b89a-5d82-4166-d3ef-a365075158ac"
      },
      "execution_count": null,
      "outputs": [
        {
          "output_type": "stream",
          "name": "stderr",
          "text": [
            "/usr/local/lib/python3.7/dist-packages/seaborn/_decorators.py:43: FutureWarning: Pass the following variable as a keyword arg: x. From version 0.12, the only valid positional argument will be `data`, and passing other arguments without an explicit keyword will result in an error or misinterpretation.\n",
            "  FutureWarning\n"
          ]
        },
        {
          "output_type": "execute_result",
          "data": {
            "text/plain": [
              "Text(0.5, 1.0, 'Count plot of weekend vs weekday')"
            ]
          },
          "metadata": {},
          "execution_count": 18
        },
        {
          "output_type": "display_data",
          "data": {
            "image/png": "[encoded data removed]",
            "text/plain": [
              "<Figure size 432x288 with 1 Axes>"
            ]
          },
          "metadata": {
            "needs_background": "light"
          }
        }
      ]
    },
    {
      "cell_type": "markdown",
      "source": [
        "skew tidak terlalu besar."
      ],
      "metadata": {
        "id": "SK5yTMM8tNvP"
      }
    },
    {
      "cell_type": "markdown",
      "source": [
        "## 3) Distribution of Each Columns"
      ],
      "metadata": {
        "id": "UtxgmkoeFjwI"
      }
    },
    {
      "cell_type": "markdown",
      "source": [
        "Langkah selanjutnya melihat distribusi masing-masing column"
      ],
      "metadata": {
        "id": "qcd4ZH3YtWzc"
      }
    },
    {
      "cell_type": "code",
      "source": [
        "# subplots\n",
        "fig, ax = plt.subplots(11, figsize = (7,25))\n",
        "\n",
        "# initial index\n",
        "index = 0\n",
        "unused_column = ['X', 'Y', 'FFMC', 'DMC', 'DC', 'ISI', 'temp', 'RH', 'wind', 'rain', 'area']\n",
        "\n",
        "# visualizing\n",
        "for column in unused_column:\n",
        "    if column != 'is_summer':\n",
        "        ax[index].hist(df[column])\n",
        "        ax[index].title.set_text('histogram of ' + column)\n",
        "        index += 1\n",
        "\n",
        "# making plots visible\n",
        "plt.tight_layout()"
      ],
      "metadata": {
        "colab": {
          "base_uri": "https://localhost:8080/",
          "height": 1000
        },
        "id": "okpYBp-ztKBH",
        "outputId": "eee20b58-fefe-4b10-f45c-a80b77f367e5"
      },
      "execution_count": null,
      "outputs": [
        {
          "output_type": "display_data",
          "data": {
            "image/png": "[encoded data removed]",
            "text/plain": [
              "<Figure size 504x1800 with 11 Axes>"
            ]
          },
          "metadata": {
            "needs_background": "light"
          }
        }
      ]
    },
    {
      "cell_type": "markdown",
      "source": [
        "* Dapat dilihat bahwa sebagian besar distribusi terlihat relatif mendekati distribusi normal. \n",
        "\n",
        "* However, `X` and `Y` have no patterns for distribution which makes sense since we do not know the geography of the natural park. This means that we do not know where the trees are for fires so the distribution is not normal. We, however, can not do anything about this other than drop the features so we will keep them for now and see if they become problematic in the future. \n",
        "\n",
        "* Distribusi dari variabel `rain` and `area` terlalu skewed dan memiliki outliers, maka akan dilakukan scaling pada kedua variabel tersebut."
      ],
      "metadata": {
        "id": "v6-kzBlAt5HL"
      }
    },
    {
      "cell_type": "markdown",
      "source": [
        "## 4) Scaling `Area` and `Rain`"
      ],
      "metadata": {
        "id": "d8a1CNUZu3-H"
      }
    },
    {
      "cell_type": "code",
      "source": [
        "# natural logarithm scaling (+1 to prevent errors at 0)\n",
        "df.loc[:, ['rain', 'area']] = df.loc[:, ['rain', 'area']].apply(lambda x: np.log(x + 1), axis = 1)\n",
        "\n",
        "# visualizing\n",
        "fig, ax = plt.subplots(2, figsize = (5, 8))\n",
        "\n",
        "ax[0].hist(df['rain'])\n",
        "ax[0].title.set_text('histogram of rain')\n",
        "\n",
        "ax[1].hist(df['area'])\n",
        "ax[1].title.set_text('histogram of area')"
      ],
      "metadata": {
        "colab": {
          "base_uri": "https://localhost:8080/",
          "height": 498
        },
        "id": "0n6-tNA-u3fi",
        "outputId": "17a90a1b-27c3-4717-eab5-10ec0d0eea4d"
      },
      "execution_count": null,
      "outputs": [
        {
          "output_type": "display_data",
          "data": {
            "image/png": "[encoded data removed]",
            "text/plain": [
              "<Figure size 360x576 with 2 Axes>"
            ]
          },
          "metadata": {
            "needs_background": "light"
          }
        }
      ]
    },
    {
      "cell_type": "markdown",
      "source": [
        "* Hasil scaling dari variabel `rain` terlihat tidak cukup baik, akan tetapi untuk variabel `area` distribusinya meningkat cukup tinggi.\n"
      ],
      "metadata": {
        "id": "xR_k89sDvLEj"
      }
    },
    {
      "cell_type": "markdown",
      "source": [
        "## 5) Train Test Split"
      ],
      "metadata": {
        "id": "lb--GCEPvYs5"
      }
    },
    {
      "cell_type": "code",
      "source": [
        "features = df.drop(['size_category'], axis = 1)\n",
        "labels = df['size_category'].values.reshape(-1, 1)"
      ],
      "metadata": {
        "id": "DcUZfcqVvJjM"
      },
      "execution_count": null,
      "outputs": []
    },
    {
      "cell_type": "code",
      "source": [
        "X_train, X_test, y_train, y_test = train_test_split(features,\n",
        "                                                    labels,\n",
        "                                                    test_size = 0.2,\n",
        "                                                    random_state = 42)"
      ],
      "metadata": {
        "id": "t4FVmqI1tS8x"
      },
      "execution_count": null,
      "outputs": []
    },
    {
      "cell_type": "markdown",
      "source": [
        "## 6) Feature Scaling: StandardScaler"
      ],
      "metadata": {
        "id": "HocE8AI8v6FS"
      }
    },
    {
      "cell_type": "code",
      "source": [
        "# fitting scaler\n",
        "sc_features = StandardScaler()\n",
        "\n",
        "# transforming features\n",
        "X_test = sc_features.fit_transform(X_test)\n",
        "X_train = sc_features.transform(X_train)"
      ],
      "metadata": {
        "id": "EtEHqdUSv2UQ"
      },
      "execution_count": null,
      "outputs": []
    },
    {
      "cell_type": "code",
      "source": [
        "# features\n",
        "X_test = pd.DataFrame(X_test, columns = features.columns)\n",
        "X_train = pd.DataFrame(X_train, columns = features.columns)\n",
        "\n",
        "# labels\n",
        "y_test = pd.DataFrame(y_test, columns = ['size_category'])\n",
        "y_train = pd.DataFrame(y_train, columns = ['size_category'])"
      ],
      "metadata": {
        "id": "7ikJFetTwKUS"
      },
      "execution_count": null,
      "outputs": []
    },
    {
      "cell_type": "code",
      "source": [
        "X_train.head()"
      ],
      "metadata": {
        "colab": {
          "base_uri": "https://localhost:8080/",
          "height": 270
        },
        "id": "FwjuAatNw8Mu",
        "outputId": "7519747d-07e0-4fbd-c4ee-d81ec80b8b2a"
      },
      "execution_count": null,
      "outputs": [
        {
          "output_type": "execute_result",
          "data": {
            "text/html": [
              "\n",
              "  <div id=\"df-c2cead31-3811-4d8b-9044-bfbaa8a57905\">\n",
              "    <div class=\"colab-df-container\">\n",
              "      <div>\n",
              "<style scoped>\n",
              "    .dataframe tbody tr th:only-of-type {\n",
              "        vertical-align: middle;\n",
              "    }\n",
              "\n",
              "    .dataframe tbody tr th {\n",
              "        vertical-align: top;\n",
              "    }\n",
              "\n",
              "    .dataframe thead th {\n",
              "        text-align: right;\n",
              "    }\n",
              "</style>\n",
              "<table border=\"1\" class=\"dataframe\">\n",
              "  <thead>\n",
              "    <tr style=\"text-align: right;\">\n",
              "      <th></th>\n",
              "      <th>X</th>\n",
              "      <th>Y</th>\n",
              "      <th>is_summer</th>\n",
              "      <th>is_weekend</th>\n",
              "      <th>FFMC</th>\n",
              "      <th>DMC</th>\n",
              "      <th>DC</th>\n",
              "      <th>ISI</th>\n",
              "      <th>temp</th>\n",
              "      <th>RH</th>\n",
              "      <th>wind</th>\n",
              "      <th>rain</th>\n",
              "      <th>area</th>\n",
              "    </tr>\n",
              "  </thead>\n",
              "  <tbody>\n",
              "    <tr>\n",
              "      <th>0</th>\n",
              "      <td>-0.293766</td>\n",
              "      <td>-0.927776</td>\n",
              "      <td>0.53287</td>\n",
              "      <td>1.404076</td>\n",
              "      <td>0.342959</td>\n",
              "      <td>-0.060220</td>\n",
              "      <td>0.867158</td>\n",
              "      <td>-0.249015</td>\n",
              "      <td>0.784070</td>\n",
              "      <td>-1.071784</td>\n",
              "      <td>-0.054362</td>\n",
              "      <td>-0.137348</td>\n",
              "      <td>0.219260</td>\n",
              "    </tr>\n",
              "    <tr>\n",
              "      <th>1</th>\n",
              "      <td>-0.293766</td>\n",
              "      <td>-0.161993</td>\n",
              "      <td>0.53287</td>\n",
              "      <td>-0.712212</td>\n",
              "      <td>-0.057456</td>\n",
              "      <td>0.370353</td>\n",
              "      <td>0.600021</td>\n",
              "      <td>-0.465731</td>\n",
              "      <td>-0.203920</td>\n",
              "      <td>-0.279375</td>\n",
              "      <td>-1.042369</td>\n",
              "      <td>-0.137348</td>\n",
              "      <td>0.177491</td>\n",
              "    </tr>\n",
              "    <tr>\n",
              "      <th>2</th>\n",
              "      <td>-1.130796</td>\n",
              "      <td>0.603791</td>\n",
              "      <td>0.53287</td>\n",
              "      <td>-0.712212</td>\n",
              "      <td>0.312158</td>\n",
              "      <td>0.834731</td>\n",
              "      <td>0.483714</td>\n",
              "      <td>0.664288</td>\n",
              "      <td>0.221938</td>\n",
              "      <td>0.248898</td>\n",
              "      <td>-0.054362</td>\n",
              "      <td>-0.137348</td>\n",
              "      <td>0.180797</td>\n",
              "    </tr>\n",
              "    <tr>\n",
              "      <th>3</th>\n",
              "      <td>-0.712281</td>\n",
              "      <td>-0.161993</td>\n",
              "      <td>0.53287</td>\n",
              "      <td>-0.712212</td>\n",
              "      <td>1.544206</td>\n",
              "      <td>1.341810</td>\n",
              "      <td>0.537142</td>\n",
              "      <td>0.664288</td>\n",
              "      <td>2.283090</td>\n",
              "      <td>-1.071784</td>\n",
              "      <td>-1.042369</td>\n",
              "      <td>-0.137348</td>\n",
              "      <td>1.087255</td>\n",
              "    </tr>\n",
              "    <tr>\n",
              "      <th>4</th>\n",
              "      <td>0.124750</td>\n",
              "      <td>-0.161993</td>\n",
              "      <td>-1.87663</td>\n",
              "      <td>1.404076</td>\n",
              "      <td>-1.320305</td>\n",
              "      <td>-1.602809</td>\n",
              "      <td>-2.022846</td>\n",
              "      <td>-0.945602</td>\n",
              "      <td>-1.106740</td>\n",
              "      <td>0.645102</td>\n",
              "      <td>-1.042369</td>\n",
              "      <td>-0.137348</td>\n",
              "      <td>0.578923</td>\n",
              "    </tr>\n",
              "  </tbody>\n",
              "</table>\n",
              "</div>\n",
              "      <button class=\"colab-df-convert\" onclick=\"convertToInteractive('df-c2cead31-3811-4d8b-9044-bfbaa8a57905')\"\n",
              "              title=\"Convert this dataframe to an interactive table.\"\n",
              "              style=\"display:none;\">\n",
              "        \n",
              "  <svg xmlns=\"http://www.w3.org/2000/svg\" height=\"24px\"viewBox=\"0 0 24 24\"\n",
              "       width=\"24px\">\n",
              "    <path d=\"M0 0h24v24H0V0z\" fill=\"none\"/>\n",
              "    <path d=\"M18.56 5.44l.94 2.06.94-2.06 2.06-.94-2.06-.94-.94-2.06-.94 2.06-2.06.94zm-11 1L8.5 8.5l.94-2.06 2.06-.94-2.06-.94L8.5 2.5l-.94 2.06-2.06.94zm10 10l.94 2.06.94-2.06 2.06-.94-2.06-.94-.94-2.06-.94 2.06-2.06.94z\"/><path d=\"M17.41 7.96l-1.37-1.37c-.4-.4-.92-.59-1.43-.59-.52 0-1.04.2-1.43.59L10.3 9.45l-7.72 7.72c-.78.78-.78 2.05 0 2.83L4 21.41c.39.39.9.59 1.41.59.51 0 1.02-.2 1.41-.59l7.78-7.78 2.81-2.81c.8-.78.8-2.07 0-2.86zM5.41 20L4 18.59l7.72-7.72 1.47 1.35L5.41 20z\"/>\n",
              "  </svg>\n",
              "      </button>\n",
              "      \n",
              "  <style>\n",
              "    .colab-df-container {\n",
              "      display:flex;\n",
              "      flex-wrap:wrap;\n",
              "      gap: 12px;\n",
              "    }\n",
              "\n",
              "    .colab-df-convert {\n",
              "      background-color: #E8F0FE;\n",
              "      border: none;\n",
              "      border-radius: 50%;\n",
              "      cursor: pointer;\n",
              "      display: none;\n",
              "      fill: #1967D2;\n",
              "      height: 32px;\n",
              "      padding: 0 0 0 0;\n",
              "      width: 32px;\n",
              "    }\n",
              "\n",
              "    .colab-df-convert:hover {\n",
              "      background-color: #E2EBFA;\n",
              "      box-shadow: 0px 1px 2px rgba(60, 64, 67, 0.3), 0px 1px 3px 1px rgba(60, 64, 67, 0.15);\n",
              "      fill: #174EA6;\n",
              "    }\n",
              "\n",
              "    [theme=dark] .colab-df-convert {\n",
              "      background-color: #3B4455;\n",
              "      fill: #D2E3FC;\n",
              "    }\n",
              "\n",
              "    [theme=dark] .colab-df-convert:hover {\n",
              "      background-color: #434B5C;\n",
              "      box-shadow: 0px 1px 3px 1px rgba(0, 0, 0, 0.15);\n",
              "      filter: drop-shadow(0px 1px 2px rgba(0, 0, 0, 0.3));\n",
              "      fill: #FFFFFF;\n",
              "    }\n",
              "  </style>\n",
              "\n",
              "      <script>\n",
              "        const buttonEl =\n",
              "          document.querySelector('#df-c2cead31-3811-4d8b-9044-bfbaa8a57905 button.colab-df-convert');\n",
              "        buttonEl.style.display =\n",
              "          google.colab.kernel.accessAllowed ? 'block' : 'none';\n",
              "\n",
              "        async function convertToInteractive(key) {\n",
              "          const element = document.querySelector('#df-c2cead31-3811-4d8b-9044-bfbaa8a57905');\n",
              "          const dataTable =\n",
              "            await google.colab.kernel.invokeFunction('convertToInteractive',\n",
              "                                                     [key], {});\n",
              "          if (!dataTable) return;\n",
              "\n",
              "          const docLinkHtml = 'Like what you see? Visit the ' +\n",
              "            '<a target=\"_blank\" href=https://colab.research.google.com/notebooks/data_table.ipynb>data table notebook</a>'\n",
              "            + ' to learn more about interactive tables.';\n",
              "          element.innerHTML = '';\n",
              "          dataTable['output_type'] = 'display_data';\n",
              "          await google.colab.output.renderOutput(dataTable, element);\n",
              "          const docLink = document.createElement('div');\n",
              "          docLink.innerHTML = docLinkHtml;\n",
              "          element.appendChild(docLink);\n",
              "        }\n",
              "      </script>\n",
              "    </div>\n",
              "  </div>\n",
              "  "
            ],
            "text/plain": [
              "          X         Y  is_summer  ...      wind      rain      area\n",
              "0 -0.293766 -0.927776    0.53287  ... -0.054362 -0.137348  0.219260\n",
              "1 -0.293766 -0.161993    0.53287  ... -1.042369 -0.137348  0.177491\n",
              "2 -1.130796  0.603791    0.53287  ... -0.054362 -0.137348  0.180797\n",
              "3 -0.712281 -0.161993    0.53287  ... -1.042369 -0.137348  1.087255\n",
              "4  0.124750 -0.161993   -1.87663  ... -1.042369 -0.137348  0.578923\n",
              "\n",
              "[5 rows x 13 columns]"
            ]
          },
          "metadata": {},
          "execution_count": 25
        }
      ]
    },
    {
      "cell_type": "code",
      "source": [
        "y_train"
      ],
      "metadata": {
        "colab": {
          "base_uri": "https://localhost:8080/",
          "height": 424
        },
        "id": "Roc7ChYqKySd",
        "outputId": "40fd2acb-30e3-4b51-ad84-57b8b66f24a7"
      },
      "execution_count": null,
      "outputs": [
        {
          "output_type": "execute_result",
          "data": {
            "text/html": [
              "\n",
              "  <div id=\"df-426c65b5-ee76-4d7f-95f6-9c9fdc120a3e\">\n",
              "    <div class=\"colab-df-container\">\n",
              "      <div>\n",
              "<style scoped>\n",
              "    .dataframe tbody tr th:only-of-type {\n",
              "        vertical-align: middle;\n",
              "    }\n",
              "\n",
              "    .dataframe tbody tr th {\n",
              "        vertical-align: top;\n",
              "    }\n",
              "\n",
              "    .dataframe thead th {\n",
              "        text-align: right;\n",
              "    }\n",
              "</style>\n",
              "<table border=\"1\" class=\"dataframe\">\n",
              "  <thead>\n",
              "    <tr style=\"text-align: right;\">\n",
              "      <th></th>\n",
              "      <th>size_category</th>\n",
              "    </tr>\n",
              "  </thead>\n",
              "  <tbody>\n",
              "    <tr>\n",
              "      <th>0</th>\n",
              "      <td>0</td>\n",
              "    </tr>\n",
              "    <tr>\n",
              "      <th>1</th>\n",
              "      <td>0</td>\n",
              "    </tr>\n",
              "    <tr>\n",
              "      <th>2</th>\n",
              "      <td>0</td>\n",
              "    </tr>\n",
              "    <tr>\n",
              "      <th>3</th>\n",
              "      <td>1</td>\n",
              "    </tr>\n",
              "    <tr>\n",
              "      <th>4</th>\n",
              "      <td>1</td>\n",
              "    </tr>\n",
              "    <tr>\n",
              "      <th>...</th>\n",
              "      <td>...</td>\n",
              "    </tr>\n",
              "    <tr>\n",
              "      <th>408</th>\n",
              "      <td>0</td>\n",
              "    </tr>\n",
              "    <tr>\n",
              "      <th>409</th>\n",
              "      <td>0</td>\n",
              "    </tr>\n",
              "    <tr>\n",
              "      <th>410</th>\n",
              "      <td>0</td>\n",
              "    </tr>\n",
              "    <tr>\n",
              "      <th>411</th>\n",
              "      <td>0</td>\n",
              "    </tr>\n",
              "    <tr>\n",
              "      <th>412</th>\n",
              "      <td>0</td>\n",
              "    </tr>\n",
              "  </tbody>\n",
              "</table>\n",
              "<p>413 rows × 1 columns</p>\n",
              "</div>\n",
              "      <button class=\"colab-df-convert\" onclick=\"convertToInteractive('df-426c65b5-ee76-4d7f-95f6-9c9fdc120a3e')\"\n",
              "              title=\"Convert this dataframe to an interactive table.\"\n",
              "              style=\"display:none;\">\n",
              "        \n",
              "  <svg xmlns=\"http://www.w3.org/2000/svg\" height=\"24px\"viewBox=\"0 0 24 24\"\n",
              "       width=\"24px\">\n",
              "    <path d=\"M0 0h24v24H0V0z\" fill=\"none\"/>\n",
              "    <path d=\"M18.56 5.44l.94 2.06.94-2.06 2.06-.94-2.06-.94-.94-2.06-.94 2.06-2.06.94zm-11 1L8.5 8.5l.94-2.06 2.06-.94-2.06-.94L8.5 2.5l-.94 2.06-2.06.94zm10 10l.94 2.06.94-2.06 2.06-.94-2.06-.94-.94-2.06-.94 2.06-2.06.94z\"/><path d=\"M17.41 7.96l-1.37-1.37c-.4-.4-.92-.59-1.43-.59-.52 0-1.04.2-1.43.59L10.3 9.45l-7.72 7.72c-.78.78-.78 2.05 0 2.83L4 21.41c.39.39.9.59 1.41.59.51 0 1.02-.2 1.41-.59l7.78-7.78 2.81-2.81c.8-.78.8-2.07 0-2.86zM5.41 20L4 18.59l7.72-7.72 1.47 1.35L5.41 20z\"/>\n",
              "  </svg>\n",
              "      </button>\n",
              "      \n",
              "  <style>\n",
              "    .colab-df-container {\n",
              "      display:flex;\n",
              "      flex-wrap:wrap;\n",
              "      gap: 12px;\n",
              "    }\n",
              "\n",
              "    .colab-df-convert {\n",
              "      background-color: #E8F0FE;\n",
              "      border: none;\n",
              "      border-radius: 50%;\n",
              "      cursor: pointer;\n",
              "      display: none;\n",
              "      fill: #1967D2;\n",
              "      height: 32px;\n",
              "      padding: 0 0 0 0;\n",
              "      width: 32px;\n",
              "    }\n",
              "\n",
              "    .colab-df-convert:hover {\n",
              "      background-color: #E2EBFA;\n",
              "      box-shadow: 0px 1px 2px rgba(60, 64, 67, 0.3), 0px 1px 3px 1px rgba(60, 64, 67, 0.15);\n",
              "      fill: #174EA6;\n",
              "    }\n",
              "\n",
              "    [theme=dark] .colab-df-convert {\n",
              "      background-color: #3B4455;\n",
              "      fill: #D2E3FC;\n",
              "    }\n",
              "\n",
              "    [theme=dark] .colab-df-convert:hover {\n",
              "      background-color: #434B5C;\n",
              "      box-shadow: 0px 1px 3px 1px rgba(0, 0, 0, 0.15);\n",
              "      filter: drop-shadow(0px 1px 2px rgba(0, 0, 0, 0.3));\n",
              "      fill: #FFFFFF;\n",
              "    }\n",
              "  </style>\n",
              "\n",
              "      <script>\n",
              "        const buttonEl =\n",
              "          document.querySelector('#df-426c65b5-ee76-4d7f-95f6-9c9fdc120a3e button.colab-df-convert');\n",
              "        buttonEl.style.display =\n",
              "          google.colab.kernel.accessAllowed ? 'block' : 'none';\n",
              "\n",
              "        async function convertToInteractive(key) {\n",
              "          const element = document.querySelector('#df-426c65b5-ee76-4d7f-95f6-9c9fdc120a3e');\n",
              "          const dataTable =\n",
              "            await google.colab.kernel.invokeFunction('convertToInteractive',\n",
              "                                                     [key], {});\n",
              "          if (!dataTable) return;\n",
              "\n",
              "          const docLinkHtml = 'Like what you see? Visit the ' +\n",
              "            '<a target=\"_blank\" href=https://colab.research.google.com/notebooks/data_table.ipynb>data table notebook</a>'\n",
              "            + ' to learn more about interactive tables.';\n",
              "          element.innerHTML = '';\n",
              "          dataTable['output_type'] = 'display_data';\n",
              "          await google.colab.output.renderOutput(dataTable, element);\n",
              "          const docLink = document.createElement('div');\n",
              "          docLink.innerHTML = docLinkHtml;\n",
              "          element.appendChild(docLink);\n",
              "        }\n",
              "      </script>\n",
              "    </div>\n",
              "  </div>\n",
              "  "
            ],
            "text/plain": [
              "     size_category\n",
              "0                0\n",
              "1                0\n",
              "2                0\n",
              "3                1\n",
              "4                1\n",
              "..             ...\n",
              "408              0\n",
              "409              0\n",
              "410              0\n",
              "411              0\n",
              "412              0\n",
              "\n",
              "[413 rows x 1 columns]"
            ]
          },
          "metadata": {},
          "execution_count": 26
        }
      ]
    },
    {
      "cell_type": "code",
      "source": [
        "y_test"
      ],
      "metadata": {
        "colab": {
          "base_uri": "https://localhost:8080/",
          "height": 424
        },
        "id": "yMVbuNVPTC14",
        "outputId": "da82b5d1-8ae7-4a6d-dbbb-67e7c1917aae"
      },
      "execution_count": null,
      "outputs": [
        {
          "output_type": "execute_result",
          "data": {
            "text/html": [
              "\n",
              "  <div id=\"df-dbf22df3-4d33-4626-8aa5-ad7f99b62290\">\n",
              "    <div class=\"colab-df-container\">\n",
              "      <div>\n",
              "<style scoped>\n",
              "    .dataframe tbody tr th:only-of-type {\n",
              "        vertical-align: middle;\n",
              "    }\n",
              "\n",
              "    .dataframe tbody tr th {\n",
              "        vertical-align: top;\n",
              "    }\n",
              "\n",
              "    .dataframe thead th {\n",
              "        text-align: right;\n",
              "    }\n",
              "</style>\n",
              "<table border=\"1\" class=\"dataframe\">\n",
              "  <thead>\n",
              "    <tr style=\"text-align: right;\">\n",
              "      <th></th>\n",
              "      <th>size_category</th>\n",
              "    </tr>\n",
              "  </thead>\n",
              "  <tbody>\n",
              "    <tr>\n",
              "      <th>0</th>\n",
              "      <td>0</td>\n",
              "    </tr>\n",
              "    <tr>\n",
              "      <th>1</th>\n",
              "      <td>0</td>\n",
              "    </tr>\n",
              "    <tr>\n",
              "      <th>2</th>\n",
              "      <td>0</td>\n",
              "    </tr>\n",
              "    <tr>\n",
              "      <th>3</th>\n",
              "      <td>0</td>\n",
              "    </tr>\n",
              "    <tr>\n",
              "      <th>4</th>\n",
              "      <td>0</td>\n",
              "    </tr>\n",
              "    <tr>\n",
              "      <th>...</th>\n",
              "      <td>...</td>\n",
              "    </tr>\n",
              "    <tr>\n",
              "      <th>99</th>\n",
              "      <td>0</td>\n",
              "    </tr>\n",
              "    <tr>\n",
              "      <th>100</th>\n",
              "      <td>0</td>\n",
              "    </tr>\n",
              "    <tr>\n",
              "      <th>101</th>\n",
              "      <td>0</td>\n",
              "    </tr>\n",
              "    <tr>\n",
              "      <th>102</th>\n",
              "      <td>1</td>\n",
              "    </tr>\n",
              "    <tr>\n",
              "      <th>103</th>\n",
              "      <td>1</td>\n",
              "    </tr>\n",
              "  </tbody>\n",
              "</table>\n",
              "<p>104 rows × 1 columns</p>\n",
              "</div>\n",
              "      <button class=\"colab-df-convert\" onclick=\"convertToInteractive('df-dbf22df3-4d33-4626-8aa5-ad7f99b62290')\"\n",
              "              title=\"Convert this dataframe to an interactive table.\"\n",
              "              style=\"display:none;\">\n",
              "        \n",
              "  <svg xmlns=\"http://www.w3.org/2000/svg\" height=\"24px\"viewBox=\"0 0 24 24\"\n",
              "       width=\"24px\">\n",
              "    <path d=\"M0 0h24v24H0V0z\" fill=\"none\"/>\n",
              "    <path d=\"M18.56 5.44l.94 2.06.94-2.06 2.06-.94-2.06-.94-.94-2.06-.94 2.06-2.06.94zm-11 1L8.5 8.5l.94-2.06 2.06-.94-2.06-.94L8.5 2.5l-.94 2.06-2.06.94zm10 10l.94 2.06.94-2.06 2.06-.94-2.06-.94-.94-2.06-.94 2.06-2.06.94z\"/><path d=\"M17.41 7.96l-1.37-1.37c-.4-.4-.92-.59-1.43-.59-.52 0-1.04.2-1.43.59L10.3 9.45l-7.72 7.72c-.78.78-.78 2.05 0 2.83L4 21.41c.39.39.9.59 1.41.59.51 0 1.02-.2 1.41-.59l7.78-7.78 2.81-2.81c.8-.78.8-2.07 0-2.86zM5.41 20L4 18.59l7.72-7.72 1.47 1.35L5.41 20z\"/>\n",
              "  </svg>\n",
              "      </button>\n",
              "      \n",
              "  <style>\n",
              "    .colab-df-container {\n",
              "      display:flex;\n",
              "      flex-wrap:wrap;\n",
              "      gap: 12px;\n",
              "    }\n",
              "\n",
              "    .colab-df-convert {\n",
              "      background-color: #E8F0FE;\n",
              "      border: none;\n",
              "      border-radius: 50%;\n",
              "      cursor: pointer;\n",
              "      display: none;\n",
              "      fill: #1967D2;\n",
              "      height: 32px;\n",
              "      padding: 0 0 0 0;\n",
              "      width: 32px;\n",
              "    }\n",
              "\n",
              "    .colab-df-convert:hover {\n",
              "      background-color: #E2EBFA;\n",
              "      box-shadow: 0px 1px 2px rgba(60, 64, 67, 0.3), 0px 1px 3px 1px rgba(60, 64, 67, 0.15);\n",
              "      fill: #174EA6;\n",
              "    }\n",
              "\n",
              "    [theme=dark] .colab-df-convert {\n",
              "      background-color: #3B4455;\n",
              "      fill: #D2E3FC;\n",
              "    }\n",
              "\n",
              "    [theme=dark] .colab-df-convert:hover {\n",
              "      background-color: #434B5C;\n",
              "      box-shadow: 0px 1px 3px 1px rgba(0, 0, 0, 0.15);\n",
              "      filter: drop-shadow(0px 1px 2px rgba(0, 0, 0, 0.3));\n",
              "      fill: #FFFFFF;\n",
              "    }\n",
              "  </style>\n",
              "\n",
              "      <script>\n",
              "        const buttonEl =\n",
              "          document.querySelector('#df-dbf22df3-4d33-4626-8aa5-ad7f99b62290 button.colab-df-convert');\n",
              "        buttonEl.style.display =\n",
              "          google.colab.kernel.accessAllowed ? 'block' : 'none';\n",
              "\n",
              "        async function convertToInteractive(key) {\n",
              "          const element = document.querySelector('#df-dbf22df3-4d33-4626-8aa5-ad7f99b62290');\n",
              "          const dataTable =\n",
              "            await google.colab.kernel.invokeFunction('convertToInteractive',\n",
              "                                                     [key], {});\n",
              "          if (!dataTable) return;\n",
              "\n",
              "          const docLinkHtml = 'Like what you see? Visit the ' +\n",
              "            '<a target=\"_blank\" href=https://colab.research.google.com/notebooks/data_table.ipynb>data table notebook</a>'\n",
              "            + ' to learn more about interactive tables.';\n",
              "          element.innerHTML = '';\n",
              "          dataTable['output_type'] = 'display_data';\n",
              "          await google.colab.output.renderOutput(dataTable, element);\n",
              "          const docLink = document.createElement('div');\n",
              "          docLink.innerHTML = docLinkHtml;\n",
              "          element.appendChild(docLink);\n",
              "        }\n",
              "      </script>\n",
              "    </div>\n",
              "  </div>\n",
              "  "
            ],
            "text/plain": [
              "     size_category\n",
              "0                0\n",
              "1                0\n",
              "2                0\n",
              "3                0\n",
              "4                0\n",
              "..             ...\n",
              "99               0\n",
              "100              0\n",
              "101              0\n",
              "102              1\n",
              "103              1\n",
              "\n",
              "[104 rows x 1 columns]"
            ]
          },
          "metadata": {},
          "execution_count": 27
        }
      ]
    },
    {
      "cell_type": "markdown",
      "source": [
        "# Eksperimen"
      ],
      "metadata": {
        "id": "zI0dHSWNUdZB"
      }
    },
    {
      "cell_type": "markdown",
      "source": [
        "## 1) Eksperimen 1 : Base Model"
      ],
      "metadata": {
        "id": "AteJRsbyUfyR"
      }
    },
    {
      "cell_type": "markdown",
      "source": [
        "### Modelling"
      ],
      "metadata": {
        "id": "E3qV-fmTxMeS"
      }
    },
    {
      "cell_type": "markdown",
      "source": [
        "#### 1) Define Model"
      ],
      "metadata": {
        "id": "5CGTERmgJ-ym"
      }
    },
    {
      "cell_type": "code",
      "source": [
        "model = Sequential()"
      ],
      "metadata": {
        "id": "5NoostUkw-t2"
      },
      "execution_count": null,
      "outputs": []
    },
    {
      "cell_type": "code",
      "source": [
        "# input layer + 1st hidden layer\n",
        "model.add(Dense(6, input_dim=13, activation='relu'))\n",
        "# 2nd hidden layer\n",
        "model.add(Dense(6, activation='relu'))\n",
        "# output layer\n",
        "model.add(Dense(6, activation='sigmoid'))\n",
        "model.add(Dropout(0.2))\n",
        "model.add(Dense(1, activation = 'relu'))"
      ],
      "metadata": {
        "id": "OFgyim6RxU3y"
      },
      "execution_count": null,
      "outputs": []
    },
    {
      "cell_type": "code",
      "source": [
        "model.summary()"
      ],
      "metadata": {
        "colab": {
          "base_uri": "https://localhost:8080/"
        },
        "id": "pW_2v97P0EVJ",
        "outputId": "a825c758-431c-4d10-894d-ff4505abec96"
      },
      "execution_count": null,
      "outputs": [
        {
          "output_type": "stream",
          "name": "stdout",
          "text": [
            "Model: \"sequential\"\n",
            "_________________________________________________________________\n",
            " Layer (type)                Output Shape              Param #   \n",
            "=================================================================\n",
            " dense (Dense)               (None, 6)                 84        \n",
            "                                                                 \n",
            " dense_1 (Dense)             (None, 6)                 42        \n",
            "                                                                 \n",
            " dense_2 (Dense)             (None, 6)                 42        \n",
            "                                                                 \n",
            " dropout (Dropout)           (None, 6)                 0         \n",
            "                                                                 \n",
            " dense_3 (Dense)             (None, 1)                 7         \n",
            "                                                                 \n",
            "=================================================================\n",
            "Total params: 175\n",
            "Trainable params: 175\n",
            "Non-trainable params: 0\n",
            "_________________________________________________________________\n"
          ]
        }
      ]
    },
    {
      "cell_type": "code",
      "source": [
        "plot_model(model, to_file='model_plot.png', show_shapes=True, show_layer_names=True)"
      ],
      "metadata": {
        "id": "KCZmHNOTp5lW",
        "colab": {
          "base_uri": "https://localhost:8080/",
          "height": 644
        },
        "outputId": "81d99bfa-76e5-4984-9484-8ed453598bc1"
      },
      "execution_count": null,
      "outputs": [
        {
          "output_type": "execute_result",
          "data": {
            "image/png": "[encoded data removed]",
            "text/plain": [
              "<IPython.core.display.Image object>"
            ]
          },
          "metadata": {},
          "execution_count": 31
        }
      ]
    },
    {
      "cell_type": "markdown",
      "source": [
        "#### 2) Compile Model"
      ],
      "metadata": {
        "id": "jab170cZKC-B"
      }
    },
    {
      "cell_type": "code",
      "source": [
        "model.compile(optimizer = 'adam', metrics=['accuracy'], loss = 'binary_crossentropy')"
      ],
      "metadata": {
        "id": "NPfvA2O80QyT"
      },
      "execution_count": null,
      "outputs": []
    },
    {
      "cell_type": "markdown",
      "source": [
        "#### 3) Train Model"
      ],
      "metadata": {
        "id": "XixymiU_KLeG"
      }
    },
    {
      "cell_type": "code",
      "source": [
        "history = model.fit(X_train,\n",
        "                    y_train,\n",
        "                    validation_data = (X_test, y_test), \n",
        "                    batch_size = 10,\n",
        "                    epochs = 100)"
      ],
      "metadata": {
        "colab": {
          "base_uri": "https://localhost:8080/"
        },
        "id": "S8GDMf3h0eiE",
        "outputId": "e7bdaaeb-5ea8-4f6d-f72a-ae5036851397"
      },
      "execution_count": null,
      "outputs": [
        {
          "output_type": "stream",
          "name": "stdout",
          "text": [
            "Epoch 1/100\n",
            "42/42 [==============================] - 3s 12ms/step - loss: 4.1457 - accuracy: 0.7312 - val_loss: 4.1529 - val_accuracy: 0.7308\n",
            "Epoch 2/100\n",
            "42/42 [==============================] - 0s 5ms/step - loss: 4.1457 - accuracy: 0.7312 - val_loss: 4.1529 - val_accuracy: 0.7308\n",
            "Epoch 3/100\n",
            "42/42 [==============================] - 0s 7ms/step - loss: 4.1457 - accuracy: 0.7312 - val_loss: 4.1529 - val_accuracy: 0.7308\n",
            "Epoch 4/100\n",
            "42/42 [==============================] - 0s 6ms/step - loss: 4.1457 - accuracy: 0.7312 - val_loss: 4.1529 - val_accuracy: 0.7308\n",
            "Epoch 5/100\n",
            "42/42 [==============================] - 0s 6ms/step - loss: 4.1457 - accuracy: 0.7312 - val_loss: 4.1529 - val_accuracy: 0.7308\n",
            "Epoch 6/100\n",
            "42/42 [==============================] - 0s 6ms/step - loss: 4.1457 - accuracy: 0.7312 - val_loss: 4.1529 - val_accuracy: 0.7308\n",
            "Epoch 7/100\n",
            "42/42 [==============================] - 0s 5ms/step - loss: 4.1457 - accuracy: 0.7312 - val_loss: 4.1529 - val_accuracy: 0.7308\n",
            "Epoch 8/100\n",
            "42/42 [==============================] - 0s 6ms/step - loss: 4.1457 - accuracy: 0.7312 - val_loss: 4.1529 - val_accuracy: 0.7308\n",
            "Epoch 9/100\n",
            "42/42 [==============================] - 0s 6ms/step - loss: 4.1457 - accuracy: 0.7312 - val_loss: 4.1529 - val_accuracy: 0.7308\n",
            "Epoch 10/100\n",
            "42/42 [==============================] - 0s 7ms/step - loss: 4.1457 - accuracy: 0.7312 - val_loss: 4.1529 - val_accuracy: 0.7308\n",
            "Epoch 11/100\n",
            "42/42 [==============================] - 0s 6ms/step - loss: 4.1457 - accuracy: 0.7312 - val_loss: 4.1529 - val_accuracy: 0.7308\n",
            "Epoch 12/100\n",
            "42/42 [==============================] - 0s 5ms/step - loss: 4.1457 - accuracy: 0.7312 - val_loss: 4.1529 - val_accuracy: 0.7308\n",
            "Epoch 13/100\n",
            "42/42 [==============================] - 0s 6ms/step - loss: 4.1457 - accuracy: 0.7312 - val_loss: 4.1529 - val_accuracy: 0.7308\n",
            "Epoch 14/100\n",
            "42/42 [==============================] - 0s 6ms/step - loss: 4.1457 - accuracy: 0.7312 - val_loss: 4.1529 - val_accuracy: 0.7308\n",
            "Epoch 15/100\n",
            "42/42 [==============================] - 0s 5ms/step - loss: 4.1457 - accuracy: 0.7312 - val_loss: 4.1529 - val_accuracy: 0.7308\n",
            "Epoch 16/100\n",
            "42/42 [==============================] - 0s 6ms/step - loss: 4.1457 - accuracy: 0.7312 - val_loss: 4.1529 - val_accuracy: 0.7308\n",
            "Epoch 17/100\n",
            "42/42 [==============================] - 0s 5ms/step - loss: 4.1457 - accuracy: 0.7312 - val_loss: 4.1529 - val_accuracy: 0.7308\n",
            "Epoch 18/100\n",
            "42/42 [==============================] - 0s 6ms/step - loss: 4.1457 - accuracy: 0.7312 - val_loss: 4.1529 - val_accuracy: 0.7308\n",
            "Epoch 19/100\n",
            "42/42 [==============================] - 0s 6ms/step - loss: 4.1457 - accuracy: 0.7312 - val_loss: 4.1529 - val_accuracy: 0.7308\n",
            "Epoch 20/100\n",
            "42/42 [==============================] - 0s 5ms/step - loss: 4.1457 - accuracy: 0.7312 - val_loss: 4.1529 - val_accuracy: 0.7308\n",
            "Epoch 21/100\n",
            "42/42 [==============================] - 0s 6ms/step - loss: 4.1457 - accuracy: 0.7312 - val_loss: 4.1529 - val_accuracy: 0.7308\n",
            "Epoch 22/100\n",
            "42/42 [==============================] - 0s 6ms/step - loss: 4.1457 - accuracy: 0.7312 - val_loss: 4.1529 - val_accuracy: 0.7308\n",
            "Epoch 23/100\n",
            "42/42 [==============================] - 0s 7ms/step - loss: 4.1457 - accuracy: 0.7312 - val_loss: 4.1529 - val_accuracy: 0.7308\n",
            "Epoch 24/100\n",
            "42/42 [==============================] - 0s 5ms/step - loss: 4.1457 - accuracy: 0.7312 - val_loss: 4.1529 - val_accuracy: 0.7308\n",
            "Epoch 25/100\n",
            "42/42 [==============================] - 0s 6ms/step - loss: 4.1457 - accuracy: 0.7312 - val_loss: 4.1529 - val_accuracy: 0.7308\n",
            "Epoch 26/100\n",
            "42/42 [==============================] - 0s 7ms/step - loss: 4.1457 - accuracy: 0.7312 - val_loss: 4.1529 - val_accuracy: 0.7308\n",
            "Epoch 27/100\n",
            "42/42 [==============================] - 0s 6ms/step - loss: 4.1457 - accuracy: 0.7312 - val_loss: 4.1529 - val_accuracy: 0.7308\n",
            "Epoch 28/100\n",
            "42/42 [==============================] - 0s 5ms/step - loss: 4.1457 - accuracy: 0.7312 - val_loss: 4.1529 - val_accuracy: 0.7308\n",
            "Epoch 29/100\n",
            "42/42 [==============================] - 0s 5ms/step - loss: 4.1457 - accuracy: 0.7312 - val_loss: 4.1529 - val_accuracy: 0.7308\n",
            "Epoch 30/100\n",
            "42/42 [==============================] - 0s 6ms/step - loss: 4.1457 - accuracy: 0.7312 - val_loss: 4.1529 - val_accuracy: 0.7308\n",
            "Epoch 31/100\n",
            "42/42 [==============================] - 0s 5ms/step - loss: 4.1457 - accuracy: 0.7312 - val_loss: 4.1529 - val_accuracy: 0.7308\n",
            "Epoch 32/100\n",
            "42/42 [==============================] - 0s 6ms/step - loss: 4.1457 - accuracy: 0.7312 - val_loss: 4.1529 - val_accuracy: 0.7308\n",
            "Epoch 33/100\n",
            "42/42 [==============================] - 0s 6ms/step - loss: 4.1457 - accuracy: 0.7312 - val_loss: 4.1529 - val_accuracy: 0.7308\n",
            "Epoch 34/100\n",
            "42/42 [==============================] - 0s 6ms/step - loss: 4.1457 - accuracy: 0.7312 - val_loss: 4.1529 - val_accuracy: 0.7308\n",
            "Epoch 35/100\n",
            "42/42 [==============================] - 0s 5ms/step - loss: 4.1457 - accuracy: 0.7312 - val_loss: 4.1529 - val_accuracy: 0.7308\n",
            "Epoch 36/100\n",
            "42/42 [==============================] - 0s 6ms/step - loss: 4.1457 - accuracy: 0.7312 - val_loss: 4.1529 - val_accuracy: 0.7308\n",
            "Epoch 37/100\n",
            "42/42 [==============================] - 0s 5ms/step - loss: 4.1457 - accuracy: 0.7312 - val_loss: 4.1529 - val_accuracy: 0.7308\n",
            "Epoch 38/100\n",
            "42/42 [==============================] - 0s 7ms/step - loss: 4.1457 - accuracy: 0.7312 - val_loss: 4.1529 - val_accuracy: 0.7308\n",
            "Epoch 39/100\n",
            "42/42 [==============================] - 0s 6ms/step - loss: 4.1457 - accuracy: 0.7312 - val_loss: 4.1529 - val_accuracy: 0.7308\n",
            "Epoch 40/100\n",
            "42/42 [==============================] - 0s 6ms/step - loss: 4.1457 - accuracy: 0.7312 - val_loss: 4.1529 - val_accuracy: 0.7308\n",
            "Epoch 41/100\n",
            "42/42 [==============================] - 0s 6ms/step - loss: 4.1457 - accuracy: 0.7312 - val_loss: 4.1529 - val_accuracy: 0.7308\n",
            "Epoch 42/100\n",
            "42/42 [==============================] - 0s 6ms/step - loss: 4.1457 - accuracy: 0.7312 - val_loss: 4.1529 - val_accuracy: 0.7308\n",
            "Epoch 43/100\n",
            "42/42 [==============================] - 0s 6ms/step - loss: 4.1457 - accuracy: 0.7312 - val_loss: 4.1529 - val_accuracy: 0.7308\n",
            "Epoch 44/100\n",
            "42/42 [==============================] - 0s 5ms/step - loss: 4.1457 - accuracy: 0.7312 - val_loss: 4.1529 - val_accuracy: 0.7308\n",
            "Epoch 45/100\n",
            "42/42 [==============================] - 0s 6ms/step - loss: 4.1457 - accuracy: 0.7312 - val_loss: 4.1529 - val_accuracy: 0.7308\n",
            "Epoch 46/100\n",
            "42/42 [==============================] - 0s 6ms/step - loss: 4.1457 - accuracy: 0.7312 - val_loss: 4.1529 - val_accuracy: 0.7308\n",
            "Epoch 47/100\n",
            "42/42 [==============================] - 0s 5ms/step - loss: 4.1457 - accuracy: 0.7312 - val_loss: 4.1529 - val_accuracy: 0.7308\n",
            "Epoch 48/100\n",
            "42/42 [==============================] - 0s 6ms/step - loss: 4.1457 - accuracy: 0.7312 - val_loss: 4.1529 - val_accuracy: 0.7308\n",
            "Epoch 49/100\n",
            "42/42 [==============================] - 0s 5ms/step - loss: 4.1457 - accuracy: 0.7312 - val_loss: 4.1529 - val_accuracy: 0.7308\n",
            "Epoch 50/100\n",
            "42/42 [==============================] - 0s 6ms/step - loss: 4.1457 - accuracy: 0.7312 - val_loss: 4.1529 - val_accuracy: 0.7308\n",
            "Epoch 51/100\n",
            "42/42 [==============================] - 0s 5ms/step - loss: 4.1457 - accuracy: 0.7312 - val_loss: 4.1529 - val_accuracy: 0.7308\n",
            "Epoch 52/100\n",
            "42/42 [==============================] - 0s 7ms/step - loss: 4.1457 - accuracy: 0.7312 - val_loss: 4.1529 - val_accuracy: 0.7308\n",
            "Epoch 53/100\n",
            "42/42 [==============================] - 0s 7ms/step - loss: 4.1457 - accuracy: 0.7312 - val_loss: 4.1529 - val_accuracy: 0.7308\n",
            "Epoch 54/100\n",
            "42/42 [==============================] - 0s 6ms/step - loss: 4.1457 - accuracy: 0.7312 - val_loss: 4.1529 - val_accuracy: 0.7308\n",
            "Epoch 55/100\n",
            "42/42 [==============================] - 0s 5ms/step - loss: 4.1457 - accuracy: 0.7312 - val_loss: 4.1529 - val_accuracy: 0.7308\n",
            "Epoch 56/100\n",
            "42/42 [==============================] - 0s 6ms/step - loss: 4.1457 - accuracy: 0.7312 - val_loss: 4.1529 - val_accuracy: 0.7308\n",
            "Epoch 57/100\n",
            "42/42 [==============================] - 0s 6ms/step - loss: 4.1457 - accuracy: 0.7312 - val_loss: 4.1529 - val_accuracy: 0.7308\n",
            "Epoch 58/100\n",
            "42/42 [==============================] - 0s 6ms/step - loss: 4.1457 - accuracy: 0.7312 - val_loss: 4.1529 - val_accuracy: 0.7308\n",
            "Epoch 59/100\n",
            "42/42 [==============================] - 0s 6ms/step - loss: 4.1457 - accuracy: 0.7312 - val_loss: 4.1529 - val_accuracy: 0.7308\n",
            "Epoch 60/100\n",
            "42/42 [==============================] - 0s 5ms/step - loss: 4.1457 - accuracy: 0.7312 - val_loss: 4.1529 - val_accuracy: 0.7308\n",
            "Epoch 61/100\n",
            "42/42 [==============================] - 0s 5ms/step - loss: 4.1457 - accuracy: 0.7312 - val_loss: 4.1529 - val_accuracy: 0.7308\n",
            "Epoch 62/100\n",
            "42/42 [==============================] - 0s 7ms/step - loss: 4.1457 - accuracy: 0.7312 - val_loss: 4.1529 - val_accuracy: 0.7308\n",
            "Epoch 63/100\n",
            "42/42 [==============================] - 0s 5ms/step - loss: 4.1457 - accuracy: 0.7312 - val_loss: 4.1529 - val_accuracy: 0.7308\n",
            "Epoch 64/100\n",
            "42/42 [==============================] - 0s 6ms/step - loss: 4.1457 - accuracy: 0.7312 - val_loss: 4.1529 - val_accuracy: 0.7308\n",
            "Epoch 65/100\n",
            "42/42 [==============================] - 0s 6ms/step - loss: 4.1457 - accuracy: 0.7312 - val_loss: 4.1529 - val_accuracy: 0.7308\n",
            "Epoch 66/100\n",
            "42/42 [==============================] - 0s 6ms/step - loss: 4.1457 - accuracy: 0.7312 - val_loss: 4.1529 - val_accuracy: 0.7308\n",
            "Epoch 67/100\n",
            "42/42 [==============================] - 0s 5ms/step - loss: 4.1457 - accuracy: 0.7312 - val_loss: 4.1529 - val_accuracy: 0.7308\n",
            "Epoch 68/100\n",
            "42/42 [==============================] - 0s 5ms/step - loss: 4.1457 - accuracy: 0.7312 - val_loss: 4.1529 - val_accuracy: 0.7308\n",
            "Epoch 69/100\n",
            "42/42 [==============================] - 0s 5ms/step - loss: 4.1457 - accuracy: 0.7312 - val_loss: 4.1529 - val_accuracy: 0.7308\n",
            "Epoch 70/100\n",
            "42/42 [==============================] - 0s 6ms/step - loss: 4.1457 - accuracy: 0.7312 - val_loss: 4.1529 - val_accuracy: 0.7308\n",
            "Epoch 71/100\n",
            "42/42 [==============================] - 0s 5ms/step - loss: 4.1457 - accuracy: 0.7312 - val_loss: 4.1529 - val_accuracy: 0.7308\n",
            "Epoch 72/100\n",
            "42/42 [==============================] - 0s 5ms/step - loss: 4.1457 - accuracy: 0.7312 - val_loss: 4.1529 - val_accuracy: 0.7308\n",
            "Epoch 73/100\n",
            "42/42 [==============================] - 0s 6ms/step - loss: 4.1457 - accuracy: 0.7312 - val_loss: 4.1529 - val_accuracy: 0.7308\n",
            "Epoch 74/100\n",
            "42/42 [==============================] - 0s 6ms/step - loss: 4.1457 - accuracy: 0.7312 - val_loss: 4.1529 - val_accuracy: 0.7308\n",
            "Epoch 75/100\n",
            "42/42 [==============================] - 0s 6ms/step - loss: 4.1457 - accuracy: 0.7312 - val_loss: 4.1529 - val_accuracy: 0.7308\n",
            "Epoch 76/100\n",
            "42/42 [==============================] - 0s 6ms/step - loss: 4.1457 - accuracy: 0.7312 - val_loss: 4.1529 - val_accuracy: 0.7308\n",
            "Epoch 77/100\n",
            "42/42 [==============================] - 0s 6ms/step - loss: 4.1457 - accuracy: 0.7312 - val_loss: 4.1529 - val_accuracy: 0.7308\n",
            "Epoch 78/100\n",
            "42/42 [==============================] - 0s 6ms/step - loss: 4.1457 - accuracy: 0.7312 - val_loss: 4.1529 - val_accuracy: 0.7308\n",
            "Epoch 79/100\n",
            "42/42 [==============================] - 0s 6ms/step - loss: 4.1457 - accuracy: 0.7312 - val_loss: 4.1529 - val_accuracy: 0.7308\n",
            "Epoch 80/100\n",
            "42/42 [==============================] - 0s 6ms/step - loss: 4.1457 - accuracy: 0.7312 - val_loss: 4.1529 - val_accuracy: 0.7308\n",
            "Epoch 81/100\n",
            "42/42 [==============================] - 0s 5ms/step - loss: 4.1457 - accuracy: 0.7312 - val_loss: 4.1529 - val_accuracy: 0.7308\n",
            "Epoch 82/100\n",
            "42/42 [==============================] - 0s 6ms/step - loss: 4.1457 - accuracy: 0.7312 - val_loss: 4.1529 - val_accuracy: 0.7308\n",
            "Epoch 83/100\n",
            "42/42 [==============================] - 0s 6ms/step - loss: 4.1457 - accuracy: 0.7312 - val_loss: 4.1529 - val_accuracy: 0.7308\n",
            "Epoch 84/100\n",
            "42/42 [==============================] - 0s 5ms/step - loss: 4.1457 - accuracy: 0.7312 - val_loss: 4.1529 - val_accuracy: 0.7308\n",
            "Epoch 85/100\n",
            "42/42 [==============================] - 0s 6ms/step - loss: 4.1457 - accuracy: 0.7312 - val_loss: 4.1529 - val_accuracy: 0.7308\n",
            "Epoch 86/100\n",
            "42/42 [==============================] - 0s 6ms/step - loss: 4.1457 - accuracy: 0.7312 - val_loss: 4.1529 - val_accuracy: 0.7308\n",
            "Epoch 87/100\n",
            "42/42 [==============================] - 0s 6ms/step - loss: 4.1457 - accuracy: 0.7312 - val_loss: 4.1529 - val_accuracy: 0.7308\n",
            "Epoch 88/100\n",
            "42/42 [==============================] - 0s 5ms/step - loss: 4.1457 - accuracy: 0.7312 - val_loss: 4.1529 - val_accuracy: 0.7308\n",
            "Epoch 89/100\n",
            "42/42 [==============================] - 0s 6ms/step - loss: 4.1457 - accuracy: 0.7312 - val_loss: 4.1529 - val_accuracy: 0.7308\n",
            "Epoch 90/100\n",
            "42/42 [==============================] - 0s 5ms/step - loss: 4.1457 - accuracy: 0.7312 - val_loss: 4.1529 - val_accuracy: 0.7308\n",
            "Epoch 91/100\n",
            "42/42 [==============================] - 0s 6ms/step - loss: 4.1457 - accuracy: 0.7312 - val_loss: 4.1529 - val_accuracy: 0.7308\n",
            "Epoch 92/100\n",
            "42/42 [==============================] - 0s 6ms/step - loss: 4.1457 - accuracy: 0.7312 - val_loss: 4.1529 - val_accuracy: 0.7308\n",
            "Epoch 93/100\n",
            "42/42 [==============================] - 0s 6ms/step - loss: 4.1457 - accuracy: 0.7312 - val_loss: 4.1529 - val_accuracy: 0.7308\n",
            "Epoch 94/100\n",
            "42/42 [==============================] - 0s 6ms/step - loss: 4.1457 - accuracy: 0.7312 - val_loss: 4.1529 - val_accuracy: 0.7308\n",
            "Epoch 95/100\n",
            "42/42 [==============================] - 0s 6ms/step - loss: 4.1457 - accuracy: 0.7312 - val_loss: 4.1529 - val_accuracy: 0.7308\n",
            "Epoch 96/100\n",
            "42/42 [==============================] - 0s 6ms/step - loss: 4.1457 - accuracy: 0.7312 - val_loss: 4.1529 - val_accuracy: 0.7308\n",
            "Epoch 97/100\n",
            "42/42 [==============================] - 0s 5ms/step - loss: 4.1457 - accuracy: 0.7312 - val_loss: 4.1529 - val_accuracy: 0.7308\n",
            "Epoch 98/100\n",
            "42/42 [==============================] - 0s 7ms/step - loss: 4.1457 - accuracy: 0.7312 - val_loss: 4.1529 - val_accuracy: 0.7308\n",
            "Epoch 99/100\n",
            "42/42 [==============================] - 0s 6ms/step - loss: 4.1457 - accuracy: 0.7312 - val_loss: 4.1529 - val_accuracy: 0.7308\n",
            "Epoch 100/100\n",
            "42/42 [==============================] - 0s 6ms/step - loss: 4.1457 - accuracy: 0.7312 - val_loss: 4.1529 - val_accuracy: 0.7308\n"
          ]
        }
      ]
    },
    {
      "cell_type": "code",
      "source": [
        "_, train_acc = model.evaluate(X_train, y_train, verbose=0)\n",
        "_, valid_acc = model.evaluate(X_test, y_test, verbose=0)\n",
        "print('Train: %.3f, Valid: %.3f' % (train_acc, valid_acc))"
      ],
      "metadata": {
        "colab": {
          "base_uri": "https://localhost:8080/"
        },
        "id": "9AAvus2TUTtS",
        "outputId": "259add6f-769b-4139-8a0b-3a6f80d36000"
      },
      "execution_count": null,
      "outputs": [
        {
          "output_type": "stream",
          "name": "stdout",
          "text": [
            "Train: 0.731, Valid: 0.731\n"
          ]
        }
      ]
    },
    {
      "cell_type": "code",
      "source": [
        "plt.figure(figsize=[8,5])\n",
        "plt.plot(history.history['accuracy'], label='Train')\n",
        "plt.plot(history.history['val_accuracy'], label='Valid')\n",
        "plt.legend()\n",
        "plt.xlabel('Epochs', fontsize=16)\n",
        "plt.ylabel('Accuracy', fontsize=16)\n",
        "plt.title('Accuracy Curves Epoch 100, Batch Size 10', fontsize=16)\n",
        "\n",
        "plt.show()"
      ],
      "metadata": {
        "colab": {
          "base_uri": "https://localhost:8080/",
          "height": 357
        },
        "id": "XqKVeLFt0rrT",
        "outputId": "2511a8c8-eb75-4e4d-80cd-7d10ce5defc1"
      },
      "execution_count": null,
      "outputs": [
        {
          "output_type": "display_data",
          "data": {
            "image/png": "[encoded data removed]",
            "text/plain": [
              "<Figure size 576x360 with 1 Axes>"
            ]
          },
          "metadata": {
            "needs_background": "light"
          }
        }
      ]
    },
    {
      "cell_type": "markdown",
      "source": [
        "## 2) Eksperimen 2 : Base Model (drop X and Y) "
      ],
      "metadata": {
        "id": "HrgbPpVYT9Xp"
      }
    },
    {
      "cell_type": "code",
      "source": [
        "features_coba = df.drop(['size_category','X','Y'], axis = 1)\n",
        "labels_coba = df['size_category'].values.reshape(-1, 1)"
      ],
      "metadata": {
        "id": "bfPgVftFT_aX"
      },
      "execution_count": null,
      "outputs": []
    },
    {
      "cell_type": "code",
      "source": [
        "features_coba"
      ],
      "metadata": {
        "colab": {
          "base_uri": "https://localhost:8080/",
          "height": 424
        },
        "id": "qwxekzmWEOgm",
        "outputId": "03f1566b-451d-4fd2-a5c8-f750f4c72644"
      },
      "execution_count": null,
      "outputs": [
        {
          "output_type": "execute_result",
          "data": {
            "text/html": [
              "\n",
              "  <div id=\"df-497b66e4-f8f2-44c5-b101-7c7894d67cb1\">\n",
              "    <div class=\"colab-df-container\">\n",
              "      <div>\n",
              "<style scoped>\n",
              "    .dataframe tbody tr th:only-of-type {\n",
              "        vertical-align: middle;\n",
              "    }\n",
              "\n",
              "    .dataframe tbody tr th {\n",
              "        vertical-align: top;\n",
              "    }\n",
              "\n",
              "    .dataframe thead th {\n",
              "        text-align: right;\n",
              "    }\n",
              "</style>\n",
              "<table border=\"1\" class=\"dataframe\">\n",
              "  <thead>\n",
              "    <tr style=\"text-align: right;\">\n",
              "      <th></th>\n",
              "      <th>is_summer</th>\n",
              "      <th>is_weekend</th>\n",
              "      <th>FFMC</th>\n",
              "      <th>DMC</th>\n",
              "      <th>DC</th>\n",
              "      <th>ISI</th>\n",
              "      <th>temp</th>\n",
              "      <th>RH</th>\n",
              "      <th>wind</th>\n",
              "      <th>rain</th>\n",
              "      <th>area</th>\n",
              "    </tr>\n",
              "  </thead>\n",
              "  <tbody>\n",
              "    <tr>\n",
              "      <th>0</th>\n",
              "      <td>False</td>\n",
              "      <td>False</td>\n",
              "      <td>86.2</td>\n",
              "      <td>26.2</td>\n",
              "      <td>94.3</td>\n",
              "      <td>5.1</td>\n",
              "      <td>8.2</td>\n",
              "      <td>51</td>\n",
              "      <td>6.7</td>\n",
              "      <td>0.000000</td>\n",
              "      <td>0.000000</td>\n",
              "    </tr>\n",
              "    <tr>\n",
              "      <th>1</th>\n",
              "      <td>False</td>\n",
              "      <td>False</td>\n",
              "      <td>90.6</td>\n",
              "      <td>35.4</td>\n",
              "      <td>669.1</td>\n",
              "      <td>6.7</td>\n",
              "      <td>18.0</td>\n",
              "      <td>33</td>\n",
              "      <td>0.9</td>\n",
              "      <td>0.000000</td>\n",
              "      <td>0.000000</td>\n",
              "    </tr>\n",
              "    <tr>\n",
              "      <th>2</th>\n",
              "      <td>False</td>\n",
              "      <td>True</td>\n",
              "      <td>90.6</td>\n",
              "      <td>43.7</td>\n",
              "      <td>686.9</td>\n",
              "      <td>6.7</td>\n",
              "      <td>14.6</td>\n",
              "      <td>33</td>\n",
              "      <td>1.3</td>\n",
              "      <td>0.000000</td>\n",
              "      <td>0.000000</td>\n",
              "    </tr>\n",
              "    <tr>\n",
              "      <th>3</th>\n",
              "      <td>False</td>\n",
              "      <td>False</td>\n",
              "      <td>91.7</td>\n",
              "      <td>33.3</td>\n",
              "      <td>77.5</td>\n",
              "      <td>9.0</td>\n",
              "      <td>8.3</td>\n",
              "      <td>97</td>\n",
              "      <td>4.0</td>\n",
              "      <td>0.182322</td>\n",
              "      <td>0.000000</td>\n",
              "    </tr>\n",
              "    <tr>\n",
              "      <th>4</th>\n",
              "      <td>False</td>\n",
              "      <td>True</td>\n",
              "      <td>89.3</td>\n",
              "      <td>51.3</td>\n",
              "      <td>102.2</td>\n",
              "      <td>9.6</td>\n",
              "      <td>11.4</td>\n",
              "      <td>99</td>\n",
              "      <td>1.8</td>\n",
              "      <td>0.000000</td>\n",
              "      <td>0.000000</td>\n",
              "    </tr>\n",
              "    <tr>\n",
              "      <th>...</th>\n",
              "      <td>...</td>\n",
              "      <td>...</td>\n",
              "      <td>...</td>\n",
              "      <td>...</td>\n",
              "      <td>...</td>\n",
              "      <td>...</td>\n",
              "      <td>...</td>\n",
              "      <td>...</td>\n",
              "      <td>...</td>\n",
              "      <td>...</td>\n",
              "      <td>...</td>\n",
              "    </tr>\n",
              "    <tr>\n",
              "      <th>512</th>\n",
              "      <td>True</td>\n",
              "      <td>True</td>\n",
              "      <td>81.6</td>\n",
              "      <td>56.7</td>\n",
              "      <td>665.6</td>\n",
              "      <td>1.9</td>\n",
              "      <td>27.8</td>\n",
              "      <td>32</td>\n",
              "      <td>2.7</td>\n",
              "      <td>0.000000</td>\n",
              "      <td>2.006871</td>\n",
              "    </tr>\n",
              "    <tr>\n",
              "      <th>513</th>\n",
              "      <td>True</td>\n",
              "      <td>True</td>\n",
              "      <td>81.6</td>\n",
              "      <td>56.7</td>\n",
              "      <td>665.6</td>\n",
              "      <td>1.9</td>\n",
              "      <td>21.9</td>\n",
              "      <td>71</td>\n",
              "      <td>5.8</td>\n",
              "      <td>0.000000</td>\n",
              "      <td>4.012592</td>\n",
              "    </tr>\n",
              "    <tr>\n",
              "      <th>514</th>\n",
              "      <td>True</td>\n",
              "      <td>True</td>\n",
              "      <td>81.6</td>\n",
              "      <td>56.7</td>\n",
              "      <td>665.6</td>\n",
              "      <td>1.9</td>\n",
              "      <td>21.2</td>\n",
              "      <td>70</td>\n",
              "      <td>6.7</td>\n",
              "      <td>0.000000</td>\n",
              "      <td>2.498152</td>\n",
              "    </tr>\n",
              "    <tr>\n",
              "      <th>515</th>\n",
              "      <td>True</td>\n",
              "      <td>True</td>\n",
              "      <td>94.4</td>\n",
              "      <td>146.0</td>\n",
              "      <td>614.7</td>\n",
              "      <td>11.3</td>\n",
              "      <td>25.6</td>\n",
              "      <td>42</td>\n",
              "      <td>4.0</td>\n",
              "      <td>0.000000</td>\n",
              "      <td>0.000000</td>\n",
              "    </tr>\n",
              "    <tr>\n",
              "      <th>516</th>\n",
              "      <td>False</td>\n",
              "      <td>False</td>\n",
              "      <td>79.5</td>\n",
              "      <td>3.0</td>\n",
              "      <td>106.7</td>\n",
              "      <td>1.1</td>\n",
              "      <td>11.8</td>\n",
              "      <td>31</td>\n",
              "      <td>4.5</td>\n",
              "      <td>0.000000</td>\n",
              "      <td>0.000000</td>\n",
              "    </tr>\n",
              "  </tbody>\n",
              "</table>\n",
              "<p>517 rows × 11 columns</p>\n",
              "</div>\n",
              "      <button class=\"colab-df-convert\" onclick=\"convertToInteractive('df-497b66e4-f8f2-44c5-b101-7c7894d67cb1')\"\n",
              "              title=\"Convert this dataframe to an interactive table.\"\n",
              "              style=\"display:none;\">\n",
              "        \n",
              "  <svg xmlns=\"http://www.w3.org/2000/svg\" height=\"24px\"viewBox=\"0 0 24 24\"\n",
              "       width=\"24px\">\n",
              "    <path d=\"M0 0h24v24H0V0z\" fill=\"none\"/>\n",
              "    <path d=\"M18.56 5.44l.94 2.06.94-2.06 2.06-.94-2.06-.94-.94-2.06-.94 2.06-2.06.94zm-11 1L8.5 8.5l.94-2.06 2.06-.94-2.06-.94L8.5 2.5l-.94 2.06-2.06.94zm10 10l.94 2.06.94-2.06 2.06-.94-2.06-.94-.94-2.06-.94 2.06-2.06.94z\"/><path d=\"M17.41 7.96l-1.37-1.37c-.4-.4-.92-.59-1.43-.59-.52 0-1.04.2-1.43.59L10.3 9.45l-7.72 7.72c-.78.78-.78 2.05 0 2.83L4 21.41c.39.39.9.59 1.41.59.51 0 1.02-.2 1.41-.59l7.78-7.78 2.81-2.81c.8-.78.8-2.07 0-2.86zM5.41 20L4 18.59l7.72-7.72 1.47 1.35L5.41 20z\"/>\n",
              "  </svg>\n",
              "      </button>\n",
              "      \n",
              "  <style>\n",
              "    .colab-df-container {\n",
              "      display:flex;\n",
              "      flex-wrap:wrap;\n",
              "      gap: 12px;\n",
              "    }\n",
              "\n",
              "    .colab-df-convert {\n",
              "      background-color: #E8F0FE;\n",
              "      border: none;\n",
              "      border-radius: 50%;\n",
              "      cursor: pointer;\n",
              "      display: none;\n",
              "      fill: #1967D2;\n",
              "      height: 32px;\n",
              "      padding: 0 0 0 0;\n",
              "      width: 32px;\n",
              "    }\n",
              "\n",
              "    .colab-df-convert:hover {\n",
              "      background-color: #E2EBFA;\n",
              "      box-shadow: 0px 1px 2px rgba(60, 64, 67, 0.3), 0px 1px 3px 1px rgba(60, 64, 67, 0.15);\n",
              "      fill: #174EA6;\n",
              "    }\n",
              "\n",
              "    [theme=dark] .colab-df-convert {\n",
              "      background-color: #3B4455;\n",
              "      fill: #D2E3FC;\n",
              "    }\n",
              "\n",
              "    [theme=dark] .colab-df-convert:hover {\n",
              "      background-color: #434B5C;\n",
              "      box-shadow: 0px 1px 3px 1px rgba(0, 0, 0, 0.15);\n",
              "      filter: drop-shadow(0px 1px 2px rgba(0, 0, 0, 0.3));\n",
              "      fill: #FFFFFF;\n",
              "    }\n",
              "  </style>\n",
              "\n",
              "      <script>\n",
              "        const buttonEl =\n",
              "          document.querySelector('#df-497b66e4-f8f2-44c5-b101-7c7894d67cb1 button.colab-df-convert');\n",
              "        buttonEl.style.display =\n",
              "          google.colab.kernel.accessAllowed ? 'block' : 'none';\n",
              "\n",
              "        async function convertToInteractive(key) {\n",
              "          const element = document.querySelector('#df-497b66e4-f8f2-44c5-b101-7c7894d67cb1');\n",
              "          const dataTable =\n",
              "            await google.colab.kernel.invokeFunction('convertToInteractive',\n",
              "                                                     [key], {});\n",
              "          if (!dataTable) return;\n",
              "\n",
              "          const docLinkHtml = 'Like what you see? Visit the ' +\n",
              "            '<a target=\"_blank\" href=https://colab.research.google.com/notebooks/data_table.ipynb>data table notebook</a>'\n",
              "            + ' to learn more about interactive tables.';\n",
              "          element.innerHTML = '';\n",
              "          dataTable['output_type'] = 'display_data';\n",
              "          await google.colab.output.renderOutput(dataTable, element);\n",
              "          const docLink = document.createElement('div');\n",
              "          docLink.innerHTML = docLinkHtml;\n",
              "          element.appendChild(docLink);\n",
              "        }\n",
              "      </script>\n",
              "    </div>\n",
              "  </div>\n",
              "  "
            ],
            "text/plain": [
              "     is_summer  is_weekend  FFMC    DMC  ...  RH  wind      rain      area\n",
              "0        False       False  86.2   26.2  ...  51   6.7  0.000000  0.000000\n",
              "1        False       False  90.6   35.4  ...  33   0.9  0.000000  0.000000\n",
              "2        False        True  90.6   43.7  ...  33   1.3  0.000000  0.000000\n",
              "3        False       False  91.7   33.3  ...  97   4.0  0.182322  0.000000\n",
              "4        False        True  89.3   51.3  ...  99   1.8  0.000000  0.000000\n",
              "..         ...         ...   ...    ...  ...  ..   ...       ...       ...\n",
              "512       True        True  81.6   56.7  ...  32   2.7  0.000000  2.006871\n",
              "513       True        True  81.6   56.7  ...  71   5.8  0.000000  4.012592\n",
              "514       True        True  81.6   56.7  ...  70   6.7  0.000000  2.498152\n",
              "515       True        True  94.4  146.0  ...  42   4.0  0.000000  0.000000\n",
              "516      False       False  79.5    3.0  ...  31   4.5  0.000000  0.000000\n",
              "\n",
              "[517 rows x 11 columns]"
            ]
          },
          "metadata": {},
          "execution_count": 37
        }
      ]
    },
    {
      "cell_type": "code",
      "source": [
        "X_train_coba, X_test_coba, y_train_coba, y_test_coba = train_test_split(features_coba,\n",
        "                                                                        labels_coba,\n",
        "                                                                        test_size = 0.2,\n",
        "                                                                        random_state = 42)"
      ],
      "metadata": {
        "id": "Jl3lT_x_UIzy"
      },
      "execution_count": null,
      "outputs": []
    },
    {
      "cell_type": "code",
      "source": [
        "# fitting scaler\n",
        "sc_features = StandardScaler()\n",
        "\n",
        "# transforming features\n",
        "X_test_coba = sc_features.fit_transform(X_test_coba)\n",
        "X_train_coba = sc_features.transform(X_train_coba)"
      ],
      "metadata": {
        "id": "yaqr3VMpUlEz"
      },
      "execution_count": null,
      "outputs": []
    },
    {
      "cell_type": "code",
      "source": [
        "# features\n",
        "X_test_coba = pd.DataFrame(X_test_coba, columns = features_coba.columns)\n",
        "X_train_coba = pd.DataFrame(X_train_coba, columns = features_coba.columns)\n",
        "\n",
        "# labels\n",
        "y_test_coba = pd.DataFrame(y_test_coba, columns = ['size_category'])\n",
        "y_train_coba = pd.DataFrame(y_train_coba, columns = ['size_category'])"
      ],
      "metadata": {
        "id": "ixjkmJytUszF"
      },
      "execution_count": null,
      "outputs": []
    },
    {
      "cell_type": "code",
      "source": [
        "X_train_coba.head()"
      ],
      "metadata": {
        "colab": {
          "base_uri": "https://localhost:8080/",
          "height": 270
        },
        "id": "bbG5WiqoV_6E",
        "outputId": "2e2a9d44-7eea-4407-e1b7-33db13aba7f5"
      },
      "execution_count": null,
      "outputs": [
        {
          "output_type": "execute_result",
          "data": {
            "text/html": [
              "\n",
              "  <div id=\"df-b774ab18-d279-4c7c-9c45-02b33e7f89f1\">\n",
              "    <div class=\"colab-df-container\">\n",
              "      <div>\n",
              "<style scoped>\n",
              "    .dataframe tbody tr th:only-of-type {\n",
              "        vertical-align: middle;\n",
              "    }\n",
              "\n",
              "    .dataframe tbody tr th {\n",
              "        vertical-align: top;\n",
              "    }\n",
              "\n",
              "    .dataframe thead th {\n",
              "        text-align: right;\n",
              "    }\n",
              "</style>\n",
              "<table border=\"1\" class=\"dataframe\">\n",
              "  <thead>\n",
              "    <tr style=\"text-align: right;\">\n",
              "      <th></th>\n",
              "      <th>is_summer</th>\n",
              "      <th>is_weekend</th>\n",
              "      <th>FFMC</th>\n",
              "      <th>DMC</th>\n",
              "      <th>DC</th>\n",
              "      <th>ISI</th>\n",
              "      <th>temp</th>\n",
              "      <th>RH</th>\n",
              "      <th>wind</th>\n",
              "      <th>rain</th>\n",
              "      <th>area</th>\n",
              "    </tr>\n",
              "  </thead>\n",
              "  <tbody>\n",
              "    <tr>\n",
              "      <th>0</th>\n",
              "      <td>0.53287</td>\n",
              "      <td>1.404076</td>\n",
              "      <td>0.342959</td>\n",
              "      <td>-0.060220</td>\n",
              "      <td>0.867158</td>\n",
              "      <td>-0.249015</td>\n",
              "      <td>0.784070</td>\n",
              "      <td>-1.071784</td>\n",
              "      <td>-0.054362</td>\n",
              "      <td>-0.137348</td>\n",
              "      <td>0.219260</td>\n",
              "    </tr>\n",
              "    <tr>\n",
              "      <th>1</th>\n",
              "      <td>0.53287</td>\n",
              "      <td>-0.712212</td>\n",
              "      <td>-0.057456</td>\n",
              "      <td>0.370353</td>\n",
              "      <td>0.600021</td>\n",
              "      <td>-0.465731</td>\n",
              "      <td>-0.203920</td>\n",
              "      <td>-0.279375</td>\n",
              "      <td>-1.042369</td>\n",
              "      <td>-0.137348</td>\n",
              "      <td>0.177491</td>\n",
              "    </tr>\n",
              "    <tr>\n",
              "      <th>2</th>\n",
              "      <td>0.53287</td>\n",
              "      <td>-0.712212</td>\n",
              "      <td>0.312158</td>\n",
              "      <td>0.834731</td>\n",
              "      <td>0.483714</td>\n",
              "      <td>0.664288</td>\n",
              "      <td>0.221938</td>\n",
              "      <td>0.248898</td>\n",
              "      <td>-0.054362</td>\n",
              "      <td>-0.137348</td>\n",
              "      <td>0.180797</td>\n",
              "    </tr>\n",
              "    <tr>\n",
              "      <th>3</th>\n",
              "      <td>0.53287</td>\n",
              "      <td>-0.712212</td>\n",
              "      <td>1.544206</td>\n",
              "      <td>1.341810</td>\n",
              "      <td>0.537142</td>\n",
              "      <td>0.664288</td>\n",
              "      <td>2.283090</td>\n",
              "      <td>-1.071784</td>\n",
              "      <td>-1.042369</td>\n",
              "      <td>-0.137348</td>\n",
              "      <td>1.087255</td>\n",
              "    </tr>\n",
              "    <tr>\n",
              "      <th>4</th>\n",
              "      <td>-1.87663</td>\n",
              "      <td>1.404076</td>\n",
              "      <td>-1.320305</td>\n",
              "      <td>-1.602809</td>\n",
              "      <td>-2.022846</td>\n",
              "      <td>-0.945602</td>\n",
              "      <td>-1.106740</td>\n",
              "      <td>0.645102</td>\n",
              "      <td>-1.042369</td>\n",
              "      <td>-0.137348</td>\n",
              "      <td>0.578923</td>\n",
              "    </tr>\n",
              "  </tbody>\n",
              "</table>\n",
              "</div>\n",
              "      <button class=\"colab-df-convert\" onclick=\"convertToInteractive('df-b774ab18-d279-4c7c-9c45-02b33e7f89f1')\"\n",
              "              title=\"Convert this dataframe to an interactive table.\"\n",
              "              style=\"display:none;\">\n",
              "        \n",
              "  <svg xmlns=\"http://www.w3.org/2000/svg\" height=\"24px\"viewBox=\"0 0 24 24\"\n",
              "       width=\"24px\">\n",
              "    <path d=\"M0 0h24v24H0V0z\" fill=\"none\"/>\n",
              "    <path d=\"M18.56 5.44l.94 2.06.94-2.06 2.06-.94-2.06-.94-.94-2.06-.94 2.06-2.06.94zm-11 1L8.5 8.5l.94-2.06 2.06-.94-2.06-.94L8.5 2.5l-.94 2.06-2.06.94zm10 10l.94 2.06.94-2.06 2.06-.94-2.06-.94-.94-2.06-.94 2.06-2.06.94z\"/><path d=\"M17.41 7.96l-1.37-1.37c-.4-.4-.92-.59-1.43-.59-.52 0-1.04.2-1.43.59L10.3 9.45l-7.72 7.72c-.78.78-.78 2.05 0 2.83L4 21.41c.39.39.9.59 1.41.59.51 0 1.02-.2 1.41-.59l7.78-7.78 2.81-2.81c.8-.78.8-2.07 0-2.86zM5.41 20L4 18.59l7.72-7.72 1.47 1.35L5.41 20z\"/>\n",
              "  </svg>\n",
              "      </button>\n",
              "      \n",
              "  <style>\n",
              "    .colab-df-container {\n",
              "      display:flex;\n",
              "      flex-wrap:wrap;\n",
              "      gap: 12px;\n",
              "    }\n",
              "\n",
              "    .colab-df-convert {\n",
              "      background-color: #E8F0FE;\n",
              "      border: none;\n",
              "      border-radius: 50%;\n",
              "      cursor: pointer;\n",
              "      display: none;\n",
              "      fill: #1967D2;\n",
              "      height: 32px;\n",
              "      padding: 0 0 0 0;\n",
              "      width: 32px;\n",
              "    }\n",
              "\n",
              "    .colab-df-convert:hover {\n",
              "      background-color: #E2EBFA;\n",
              "      box-shadow: 0px 1px 2px rgba(60, 64, 67, 0.3), 0px 1px 3px 1px rgba(60, 64, 67, 0.15);\n",
              "      fill: #174EA6;\n",
              "    }\n",
              "\n",
              "    [theme=dark] .colab-df-convert {\n",
              "      background-color: #3B4455;\n",
              "      fill: #D2E3FC;\n",
              "    }\n",
              "\n",
              "    [theme=dark] .colab-df-convert:hover {\n",
              "      background-color: #434B5C;\n",
              "      box-shadow: 0px 1px 3px 1px rgba(0, 0, 0, 0.15);\n",
              "      filter: drop-shadow(0px 1px 2px rgba(0, 0, 0, 0.3));\n",
              "      fill: #FFFFFF;\n",
              "    }\n",
              "  </style>\n",
              "\n",
              "      <script>\n",
              "        const buttonEl =\n",
              "          document.querySelector('#df-b774ab18-d279-4c7c-9c45-02b33e7f89f1 button.colab-df-convert');\n",
              "        buttonEl.style.display =\n",
              "          google.colab.kernel.accessAllowed ? 'block' : 'none';\n",
              "\n",
              "        async function convertToInteractive(key) {\n",
              "          const element = document.querySelector('#df-b774ab18-d279-4c7c-9c45-02b33e7f89f1');\n",
              "          const dataTable =\n",
              "            await google.colab.kernel.invokeFunction('convertToInteractive',\n",
              "                                                     [key], {});\n",
              "          if (!dataTable) return;\n",
              "\n",
              "          const docLinkHtml = 'Like what you see? Visit the ' +\n",
              "            '<a target=\"_blank\" href=https://colab.research.google.com/notebooks/data_table.ipynb>data table notebook</a>'\n",
              "            + ' to learn more about interactive tables.';\n",
              "          element.innerHTML = '';\n",
              "          dataTable['output_type'] = 'display_data';\n",
              "          await google.colab.output.renderOutput(dataTable, element);\n",
              "          const docLink = document.createElement('div');\n",
              "          docLink.innerHTML = docLinkHtml;\n",
              "          element.appendChild(docLink);\n",
              "        }\n",
              "      </script>\n",
              "    </div>\n",
              "  </div>\n",
              "  "
            ],
            "text/plain": [
              "   is_summer  is_weekend      FFMC  ...      wind      rain      area\n",
              "0    0.53287    1.404076  0.342959  ... -0.054362 -0.137348  0.219260\n",
              "1    0.53287   -0.712212 -0.057456  ... -1.042369 -0.137348  0.177491\n",
              "2    0.53287   -0.712212  0.312158  ... -0.054362 -0.137348  0.180797\n",
              "3    0.53287   -0.712212  1.544206  ... -1.042369 -0.137348  1.087255\n",
              "4   -1.87663    1.404076 -1.320305  ... -1.042369 -0.137348  0.578923\n",
              "\n",
              "[5 rows x 11 columns]"
            ]
          },
          "metadata": {},
          "execution_count": 41
        }
      ]
    },
    {
      "cell_type": "code",
      "source": [
        "model_coba = Sequential()"
      ],
      "metadata": {
        "id": "irDTR7_lWhjW"
      },
      "execution_count": null,
      "outputs": []
    },
    {
      "cell_type": "code",
      "source": [
        "# input layer + 1st hidden layer\n",
        "model_coba.add(Dense(6, input_dim=11, activation='relu'))\n",
        "# 2nd hidden layer\n",
        "model_coba.add(Dense(6, activation='relu'))\n",
        "# output layer\n",
        "model_coba.add(Dense(6, activation='sigmoid'))\n",
        "model_coba.add(Dropout(0.2))\n",
        "model_coba.add(Dense(1, activation = 'relu'))"
      ],
      "metadata": {
        "id": "aut269uYWiaA"
      },
      "execution_count": null,
      "outputs": []
    },
    {
      "cell_type": "code",
      "source": [
        "model_coba.summary()"
      ],
      "metadata": {
        "colab": {
          "base_uri": "https://localhost:8080/"
        },
        "id": "a0L6rIlIBUei",
        "outputId": "7d614681-4c97-4830-9fe6-67f8984ea33b"
      },
      "execution_count": null,
      "outputs": [
        {
          "output_type": "stream",
          "name": "stdout",
          "text": [
            "Model: \"sequential_1\"\n",
            "_________________________________________________________________\n",
            " Layer (type)                Output Shape              Param #   \n",
            "=================================================================\n",
            " dense_4 (Dense)             (None, 6)                 72        \n",
            "                                                                 \n",
            " dense_5 (Dense)             (None, 6)                 42        \n",
            "                                                                 \n",
            " dense_6 (Dense)             (None, 6)                 42        \n",
            "                                                                 \n",
            " dropout_1 (Dropout)         (None, 6)                 0         \n",
            "                                                                 \n",
            " dense_7 (Dense)             (None, 1)                 7         \n",
            "                                                                 \n",
            "=================================================================\n",
            "Total params: 163\n",
            "Trainable params: 163\n",
            "Non-trainable params: 0\n",
            "_________________________________________________________________\n"
          ]
        }
      ]
    },
    {
      "cell_type": "code",
      "source": [
        "model_coba.compile(optimizer = 'adam', metrics=['accuracy'], loss = 'binary_crossentropy')"
      ],
      "metadata": {
        "id": "X_D4RU6NWIJp"
      },
      "execution_count": null,
      "outputs": []
    },
    {
      "cell_type": "code",
      "source": [
        "history_coba = model_coba.fit(X_train_coba,\n",
        "                    y_train_coba,\n",
        "                    validation_data = (X_test_coba, y_test_coba), \n",
        "                    batch_size = 10,\n",
        "                    epochs = 100)"
      ],
      "metadata": {
        "colab": {
          "base_uri": "https://localhost:8080/"
        },
        "id": "3yuxNkLhWSkm",
        "outputId": "f94d4d0f-cb59-4908-d817-5269a21c0c4d"
      },
      "execution_count": null,
      "outputs": [
        {
          "output_type": "stream",
          "name": "stdout",
          "text": [
            "Epoch 1/100\n",
            "42/42 [==============================] - 1s 10ms/step - loss: 3.9847 - accuracy: 0.7312 - val_loss: 4.1529 - val_accuracy: 0.7308\n",
            "Epoch 2/100\n",
            "42/42 [==============================] - 0s 7ms/step - loss: 3.8559 - accuracy: 0.7312 - val_loss: 4.1529 - val_accuracy: 0.7308\n",
            "Epoch 3/100\n",
            "42/42 [==============================] - 0s 5ms/step - loss: 3.6969 - accuracy: 0.7312 - val_loss: 4.1529 - val_accuracy: 0.7308\n",
            "Epoch 4/100\n",
            "42/42 [==============================] - 0s 5ms/step - loss: 3.5223 - accuracy: 0.7312 - val_loss: 4.1529 - val_accuracy: 0.7308\n",
            "Epoch 5/100\n",
            "42/42 [==============================] - 0s 7ms/step - loss: 3.5524 - accuracy: 0.7264 - val_loss: 4.1529 - val_accuracy: 0.7308\n",
            "Epoch 6/100\n",
            "42/42 [==============================] - 0s 6ms/step - loss: 3.1532 - accuracy: 0.7312 - val_loss: 3.4632 - val_accuracy: 0.7308\n",
            "Epoch 7/100\n",
            "42/42 [==============================] - 0s 5ms/step - loss: 2.3845 - accuracy: 0.7312 - val_loss: 2.5471 - val_accuracy: 0.7308\n",
            "Epoch 8/100\n",
            "42/42 [==============================] - 0s 5ms/step - loss: 1.9378 - accuracy: 0.7337 - val_loss: 1.9601 - val_accuracy: 0.7308\n",
            "Epoch 9/100\n",
            "42/42 [==============================] - 0s 5ms/step - loss: 1.7611 - accuracy: 0.7288 - val_loss: 1.8372 - val_accuracy: 0.7308\n",
            "Epoch 10/100\n",
            "42/42 [==============================] - 0s 6ms/step - loss: 1.8171 - accuracy: 0.7191 - val_loss: 1.6972 - val_accuracy: 0.7308\n",
            "Epoch 11/100\n",
            "42/42 [==============================] - 1s 12ms/step - loss: 1.7072 - accuracy: 0.7361 - val_loss: 1.4812 - val_accuracy: 0.7308\n",
            "Epoch 12/100\n",
            "42/42 [==============================] - 1s 13ms/step - loss: 1.6937 - accuracy: 0.7240 - val_loss: 1.4455 - val_accuracy: 0.7308\n",
            "Epoch 13/100\n",
            "42/42 [==============================] - 0s 9ms/step - loss: 1.7839 - accuracy: 0.7191 - val_loss: 1.2087 - val_accuracy: 0.7308\n",
            "Epoch 14/100\n",
            "42/42 [==============================] - 0s 7ms/step - loss: 1.7920 - accuracy: 0.7264 - val_loss: 1.0638 - val_accuracy: 0.7308\n",
            "Epoch 15/100\n",
            "42/42 [==============================] - 1s 12ms/step - loss: 1.5057 - accuracy: 0.7409 - val_loss: 1.0369 - val_accuracy: 0.7308\n",
            "Epoch 16/100\n",
            "42/42 [==============================] - 1s 15ms/step - loss: 1.4546 - accuracy: 0.7312 - val_loss: 0.7747 - val_accuracy: 0.7308\n",
            "Epoch 17/100\n",
            "42/42 [==============================] - 0s 9ms/step - loss: 1.5502 - accuracy: 0.7240 - val_loss: 0.7660 - val_accuracy: 0.7308\n",
            "Epoch 18/100\n",
            "42/42 [==============================] - 0s 5ms/step - loss: 1.2865 - accuracy: 0.7264 - val_loss: 0.7590 - val_accuracy: 0.7308\n",
            "Epoch 19/100\n",
            "42/42 [==============================] - 0s 11ms/step - loss: 1.3531 - accuracy: 0.7361 - val_loss: 0.7593 - val_accuracy: 0.7308\n",
            "Epoch 20/100\n",
            "42/42 [==============================] - 1s 16ms/step - loss: 1.4845 - accuracy: 0.7288 - val_loss: 0.7566 - val_accuracy: 0.7308\n",
            "Epoch 21/100\n",
            "42/42 [==============================] - 0s 11ms/step - loss: 1.3149 - accuracy: 0.7215 - val_loss: 0.7865 - val_accuracy: 0.7308\n",
            "Epoch 22/100\n",
            "42/42 [==============================] - 0s 5ms/step - loss: 1.0567 - accuracy: 0.7312 - val_loss: 0.7410 - val_accuracy: 0.7308\n",
            "Epoch 23/100\n",
            "42/42 [==============================] - 0s 7ms/step - loss: 1.3229 - accuracy: 0.7167 - val_loss: 0.7001 - val_accuracy: 0.7308\n",
            "Epoch 24/100\n",
            "42/42 [==============================] - 0s 6ms/step - loss: 1.1442 - accuracy: 0.7409 - val_loss: 0.5695 - val_accuracy: 0.7308\n",
            "Epoch 25/100\n",
            "42/42 [==============================] - 0s 7ms/step - loss: 1.1777 - accuracy: 0.7433 - val_loss: 0.5687 - val_accuracy: 0.7308\n",
            "Epoch 26/100\n",
            "42/42 [==============================] - 0s 6ms/step - loss: 1.1259 - accuracy: 0.7482 - val_loss: 0.5646 - val_accuracy: 0.7308\n",
            "Epoch 27/100\n",
            "42/42 [==============================] - 0s 5ms/step - loss: 1.2259 - accuracy: 0.7554 - val_loss: 0.5499 - val_accuracy: 0.7308\n",
            "Epoch 28/100\n",
            "42/42 [==============================] - 0s 6ms/step - loss: 1.0501 - accuracy: 0.7579 - val_loss: 0.5488 - val_accuracy: 0.7308\n",
            "Epoch 29/100\n",
            "42/42 [==============================] - 0s 7ms/step - loss: 1.1834 - accuracy: 0.7724 - val_loss: 0.5264 - val_accuracy: 0.7500\n",
            "Epoch 30/100\n",
            "42/42 [==============================] - 0s 6ms/step - loss: 1.0703 - accuracy: 0.8111 - val_loss: 0.5220 - val_accuracy: 0.7500\n",
            "Epoch 31/100\n",
            "42/42 [==============================] - 0s 5ms/step - loss: 1.4427 - accuracy: 0.7506 - val_loss: 0.5176 - val_accuracy: 0.7596\n",
            "Epoch 32/100\n",
            "42/42 [==============================] - 0s 6ms/step - loss: 1.4123 - accuracy: 0.7724 - val_loss: 0.5079 - val_accuracy: 0.7788\n",
            "Epoch 33/100\n",
            "42/42 [==============================] - 0s 6ms/step - loss: 1.1491 - accuracy: 0.7748 - val_loss: 0.4761 - val_accuracy: 0.7788\n",
            "Epoch 34/100\n",
            "42/42 [==============================] - 0s 5ms/step - loss: 1.2837 - accuracy: 0.7845 - val_loss: 0.4632 - val_accuracy: 0.7885\n",
            "Epoch 35/100\n",
            "42/42 [==============================] - 0s 6ms/step - loss: 1.3107 - accuracy: 0.7821 - val_loss: 0.4585 - val_accuracy: 0.7981\n",
            "Epoch 36/100\n",
            "42/42 [==============================] - 0s 6ms/step - loss: 1.1280 - accuracy: 0.8111 - val_loss: 0.4556 - val_accuracy: 0.7885\n",
            "Epoch 37/100\n",
            "42/42 [==============================] - 0s 6ms/step - loss: 1.1022 - accuracy: 0.7942 - val_loss: 0.4529 - val_accuracy: 0.7981\n",
            "Epoch 38/100\n",
            "42/42 [==============================] - 0s 6ms/step - loss: 1.2440 - accuracy: 0.8136 - val_loss: 0.4496 - val_accuracy: 0.7981\n",
            "Epoch 39/100\n",
            "42/42 [==============================] - 0s 6ms/step - loss: 1.4680 - accuracy: 0.7845 - val_loss: 0.4497 - val_accuracy: 0.8077\n",
            "Epoch 40/100\n",
            "42/42 [==============================] - 0s 6ms/step - loss: 1.2044 - accuracy: 0.7869 - val_loss: 0.4449 - val_accuracy: 0.8077\n",
            "Epoch 41/100\n",
            "42/42 [==============================] - 0s 5ms/step - loss: 0.9923 - accuracy: 0.8111 - val_loss: 0.4425 - val_accuracy: 0.8173\n",
            "Epoch 42/100\n",
            "42/42 [==============================] - 0s 5ms/step - loss: 1.1247 - accuracy: 0.7797 - val_loss: 0.4363 - val_accuracy: 0.8173\n",
            "Epoch 43/100\n",
            "42/42 [==============================] - 0s 5ms/step - loss: 1.1100 - accuracy: 0.8354 - val_loss: 0.4238 - val_accuracy: 0.8173\n",
            "Epoch 44/100\n",
            "42/42 [==============================] - 0s 5ms/step - loss: 1.1425 - accuracy: 0.8257 - val_loss: 0.4285 - val_accuracy: 0.8173\n",
            "Epoch 45/100\n",
            "42/42 [==============================] - 0s 6ms/step - loss: 0.8204 - accuracy: 0.8402 - val_loss: 0.5238 - val_accuracy: 0.8173\n",
            "Epoch 46/100\n",
            "42/42 [==============================] - 0s 6ms/step - loss: 0.9721 - accuracy: 0.8475 - val_loss: 0.3681 - val_accuracy: 0.8462\n",
            "Epoch 47/100\n",
            "42/42 [==============================] - 0s 5ms/step - loss: 0.9486 - accuracy: 0.8184 - val_loss: 0.3512 - val_accuracy: 0.8365\n",
            "Epoch 48/100\n",
            "42/42 [==============================] - 0s 6ms/step - loss: 0.7257 - accuracy: 0.8329 - val_loss: 0.3383 - val_accuracy: 0.8365\n",
            "Epoch 49/100\n",
            "42/42 [==============================] - 0s 6ms/step - loss: 0.6529 - accuracy: 0.8426 - val_loss: 0.3255 - val_accuracy: 0.8365\n",
            "Epoch 50/100\n",
            "42/42 [==============================] - 0s 8ms/step - loss: 0.7274 - accuracy: 0.8523 - val_loss: 0.3130 - val_accuracy: 0.8365\n",
            "Epoch 51/100\n",
            "42/42 [==============================] - 0s 8ms/step - loss: 0.7160 - accuracy: 0.8450 - val_loss: 0.3001 - val_accuracy: 0.8462\n",
            "Epoch 52/100\n",
            "42/42 [==============================] - 1s 12ms/step - loss: 0.7384 - accuracy: 0.8378 - val_loss: 0.2838 - val_accuracy: 0.8558\n",
            "Epoch 53/100\n",
            "42/42 [==============================] - 0s 6ms/step - loss: 0.8201 - accuracy: 0.8571 - val_loss: 0.2726 - val_accuracy: 0.8558\n",
            "Epoch 54/100\n",
            "42/42 [==============================] - 0s 6ms/step - loss: 0.5335 - accuracy: 0.8620 - val_loss: 0.2634 - val_accuracy: 0.8558\n",
            "Epoch 55/100\n",
            "42/42 [==============================] - 0s 6ms/step - loss: 0.6505 - accuracy: 0.8814 - val_loss: 0.2540 - val_accuracy: 0.8558\n",
            "Epoch 56/100\n",
            "42/42 [==============================] - 0s 6ms/step - loss: 0.8500 - accuracy: 0.8644 - val_loss: 0.2446 - val_accuracy: 0.8558\n",
            "Epoch 57/100\n",
            "42/42 [==============================] - 0s 5ms/step - loss: 0.6451 - accuracy: 0.8838 - val_loss: 0.2335 - val_accuracy: 0.8750\n",
            "Epoch 58/100\n",
            "42/42 [==============================] - 0s 6ms/step - loss: 0.5947 - accuracy: 0.8886 - val_loss: 0.2213 - val_accuracy: 0.9327\n",
            "Epoch 59/100\n",
            "42/42 [==============================] - 0s 6ms/step - loss: 0.4163 - accuracy: 0.8668 - val_loss: 0.2349 - val_accuracy: 0.9231\n",
            "Epoch 60/100\n",
            "42/42 [==============================] - 0s 6ms/step - loss: 0.5677 - accuracy: 0.8450 - val_loss: 0.2130 - val_accuracy: 0.9135\n",
            "Epoch 61/100\n",
            "42/42 [==============================] - 0s 6ms/step - loss: 0.5289 - accuracy: 0.8475 - val_loss: 0.1977 - val_accuracy: 0.9231\n",
            "Epoch 62/100\n",
            "42/42 [==============================] - 0s 6ms/step - loss: 0.3677 - accuracy: 0.8596 - val_loss: 0.1875 - val_accuracy: 0.9231\n",
            "Epoch 63/100\n",
            "42/42 [==============================] - 0s 6ms/step - loss: 0.3351 - accuracy: 0.8862 - val_loss: 0.1799 - val_accuracy: 0.9231\n",
            "Epoch 64/100\n",
            "42/42 [==============================] - 0s 6ms/step - loss: 0.3363 - accuracy: 0.8571 - val_loss: 0.1740 - val_accuracy: 0.9231\n",
            "Epoch 65/100\n",
            "42/42 [==============================] - 0s 6ms/step - loss: 0.3955 - accuracy: 0.8571 - val_loss: 0.1689 - val_accuracy: 0.9231\n",
            "Epoch 66/100\n",
            "42/42 [==============================] - 0s 6ms/step - loss: 0.3496 - accuracy: 0.9007 - val_loss: 0.1653 - val_accuracy: 0.9327\n",
            "Epoch 67/100\n",
            "42/42 [==============================] - 0s 6ms/step - loss: 0.3088 - accuracy: 0.8814 - val_loss: 0.1620 - val_accuracy: 0.9423\n",
            "Epoch 68/100\n",
            "42/42 [==============================] - 0s 6ms/step - loss: 0.3572 - accuracy: 0.8765 - val_loss: 0.1579 - val_accuracy: 0.9519\n",
            "Epoch 69/100\n",
            "42/42 [==============================] - 0s 5ms/step - loss: 0.2672 - accuracy: 0.8862 - val_loss: 0.1549 - val_accuracy: 0.9519\n",
            "Epoch 70/100\n",
            "42/42 [==============================] - 0s 6ms/step - loss: 0.3341 - accuracy: 0.9104 - val_loss: 0.1522 - val_accuracy: 0.9519\n",
            "Epoch 71/100\n",
            "42/42 [==============================] - 0s 7ms/step - loss: 0.4020 - accuracy: 0.8838 - val_loss: 0.1496 - val_accuracy: 0.9519\n",
            "Epoch 72/100\n",
            "42/42 [==============================] - 0s 5ms/step - loss: 0.4779 - accuracy: 0.8838 - val_loss: 0.1477 - val_accuracy: 0.9519\n",
            "Epoch 73/100\n",
            "42/42 [==============================] - 0s 6ms/step - loss: 0.2988 - accuracy: 0.9104 - val_loss: 0.1451 - val_accuracy: 0.9712\n",
            "Epoch 74/100\n",
            "42/42 [==============================] - 0s 6ms/step - loss: 0.2956 - accuracy: 0.9104 - val_loss: 0.1429 - val_accuracy: 0.9615\n",
            "Epoch 75/100\n",
            "42/42 [==============================] - 0s 6ms/step - loss: 0.4150 - accuracy: 0.8910 - val_loss: 0.1404 - val_accuracy: 0.9615\n",
            "Epoch 76/100\n",
            "42/42 [==============================] - 0s 6ms/step - loss: 0.3102 - accuracy: 0.9080 - val_loss: 0.1385 - val_accuracy: 0.9615\n",
            "Epoch 77/100\n",
            "42/42 [==============================] - 0s 5ms/step - loss: 0.3621 - accuracy: 0.9007 - val_loss: 0.1384 - val_accuracy: 0.9615\n",
            "Epoch 78/100\n",
            "42/42 [==============================] - 0s 5ms/step - loss: 0.2720 - accuracy: 0.9031 - val_loss: 0.1362 - val_accuracy: 0.9615\n",
            "Epoch 79/100\n",
            "42/42 [==============================] - 0s 6ms/step - loss: 0.4260 - accuracy: 0.8814 - val_loss: 0.1349 - val_accuracy: 0.9615\n",
            "Epoch 80/100\n",
            "42/42 [==============================] - 0s 6ms/step - loss: 0.3014 - accuracy: 0.9274 - val_loss: 0.1327 - val_accuracy: 0.9615\n",
            "Epoch 81/100\n",
            "42/42 [==============================] - 0s 7ms/step - loss: 0.2792 - accuracy: 0.9056 - val_loss: 0.1305 - val_accuracy: 0.9615\n",
            "Epoch 82/100\n",
            "42/42 [==============================] - 0s 7ms/step - loss: 0.2154 - accuracy: 0.9322 - val_loss: 0.1283 - val_accuracy: 0.9615\n",
            "Epoch 83/100\n",
            "42/42 [==============================] - 0s 6ms/step - loss: 0.2422 - accuracy: 0.9080 - val_loss: 0.1271 - val_accuracy: 0.9615\n",
            "Epoch 84/100\n",
            "42/42 [==============================] - 0s 5ms/step - loss: 0.3582 - accuracy: 0.9153 - val_loss: 0.1282 - val_accuracy: 0.9519\n",
            "Epoch 85/100\n",
            "42/42 [==============================] - 0s 6ms/step - loss: 0.3197 - accuracy: 0.9177 - val_loss: 0.1267 - val_accuracy: 0.9519\n",
            "Epoch 86/100\n",
            "42/42 [==============================] - 0s 6ms/step - loss: 0.2325 - accuracy: 0.9128 - val_loss: 0.1252 - val_accuracy: 0.9519\n",
            "Epoch 87/100\n",
            "42/42 [==============================] - 0s 6ms/step - loss: 0.2962 - accuracy: 0.9056 - val_loss: 0.1236 - val_accuracy: 0.9519\n",
            "Epoch 88/100\n",
            "42/42 [==============================] - 0s 6ms/step - loss: 0.3168 - accuracy: 0.8983 - val_loss: 0.1220 - val_accuracy: 0.9519\n",
            "Epoch 89/100\n",
            "42/42 [==============================] - 0s 6ms/step - loss: 0.2716 - accuracy: 0.8959 - val_loss: 0.1207 - val_accuracy: 0.9615\n",
            "Epoch 90/100\n",
            "42/42 [==============================] - 0s 6ms/step - loss: 0.2295 - accuracy: 0.9249 - val_loss: 0.1192 - val_accuracy: 0.9615\n",
            "Epoch 91/100\n",
            "42/42 [==============================] - 0s 6ms/step - loss: 0.3077 - accuracy: 0.9201 - val_loss: 0.1176 - val_accuracy: 0.9615\n",
            "Epoch 92/100\n",
            "42/42 [==============================] - 0s 5ms/step - loss: 0.2739 - accuracy: 0.9128 - val_loss: 0.1164 - val_accuracy: 0.9615\n",
            "Epoch 93/100\n",
            "42/42 [==============================] - 0s 6ms/step - loss: 0.2488 - accuracy: 0.9153 - val_loss: 0.1150 - val_accuracy: 0.9519\n",
            "Epoch 94/100\n",
            "42/42 [==============================] - 0s 5ms/step - loss: 0.1984 - accuracy: 0.9177 - val_loss: 0.1142 - val_accuracy: 0.9519\n",
            "Epoch 95/100\n",
            "42/42 [==============================] - 0s 6ms/step - loss: 0.3596 - accuracy: 0.9031 - val_loss: 0.1128 - val_accuracy: 0.9519\n",
            "Epoch 96/100\n",
            "42/42 [==============================] - 0s 6ms/step - loss: 0.1864 - accuracy: 0.9177 - val_loss: 0.1117 - val_accuracy: 0.9519\n",
            "Epoch 97/100\n",
            "42/42 [==============================] - 0s 7ms/step - loss: 0.2451 - accuracy: 0.9080 - val_loss: 0.1102 - val_accuracy: 0.9519\n",
            "Epoch 98/100\n",
            "42/42 [==============================] - 0s 5ms/step - loss: 0.2684 - accuracy: 0.9153 - val_loss: 0.1090 - val_accuracy: 0.9615\n",
            "Epoch 99/100\n",
            "42/42 [==============================] - 0s 7ms/step - loss: 0.2904 - accuracy: 0.9056 - val_loss: 0.1067 - val_accuracy: 0.9615\n",
            "Epoch 100/100\n",
            "42/42 [==============================] - 0s 5ms/step - loss: 0.2908 - accuracy: 0.9104 - val_loss: 0.1037 - val_accuracy: 0.9615\n"
          ]
        }
      ]
    },
    {
      "cell_type": "code",
      "source": [
        "_, train_acc_coba = model_coba.evaluate(X_train_coba, y_train_coba, verbose=0)\n",
        "_, valid_acc_coba = model_coba.evaluate(X_test_coba, y_test_coba, verbose=0)\n",
        "print('Train: %.3f, Valid: %.3f' % (train_acc_coba, valid_acc_coba))"
      ],
      "metadata": {
        "colab": {
          "base_uri": "https://localhost:8080/"
        },
        "id": "kvCjZv3DXKtq",
        "outputId": "1982b262-982c-4dc3-ee38-74b280234f00"
      },
      "execution_count": null,
      "outputs": [
        {
          "output_type": "stream",
          "name": "stdout",
          "text": [
            "Train: 0.973, Valid: 0.962\n"
          ]
        }
      ]
    },
    {
      "cell_type": "code",
      "source": [
        "plt.figure(figsize=[8,5])\n",
        "plt.plot(history_coba.history['accuracy'], label='Train')\n",
        "plt.plot(history_coba.history['val_accuracy'], label='Valid')\n",
        "plt.legend()\n",
        "plt.xlabel('Epochs', fontsize=16)\n",
        "plt.ylabel('Accuracy', fontsize=16)\n",
        "plt.title('Accuracy Curves Epoch 100 Batch Size 10', fontsize=16)\n",
        "\n",
        "plt.show()"
      ],
      "metadata": {
        "colab": {
          "base_uri": "https://localhost:8080/",
          "height": 357
        },
        "id": "DSHGpYyaXYbM",
        "outputId": "3ac2c122-85da-4a3b-d1d2-2d8ba4180663"
      },
      "execution_count": null,
      "outputs": [
        {
          "output_type": "display_data",
          "data": {
            "image/png": "[encoded data removed]",
            "text/plain": [
              "<Figure size 576x360 with 1 Axes>"
            ]
          },
          "metadata": {
            "needs_background": "light"
          }
        }
      ]
    },
    {
      "cell_type": "markdown",
      "source": [
        "## 3) Eksperimen 3 : Batch Size = 4, 6, 10, 16, 32, 64, 128, 260"
      ],
      "metadata": {
        "id": "Zx7gM6crB3Fa"
      }
    },
    {
      "cell_type": "code",
      "source": [
        "X_train"
      ],
      "metadata": {
        "colab": {
          "base_uri": "https://localhost:8080/",
          "height": 488
        },
        "id": "_lLO6tVlCSm9",
        "outputId": "7b88ecb1-693c-45df-d8d1-c176e32ba8a0"
      },
      "execution_count": null,
      "outputs": [
        {
          "output_type": "execute_result",
          "data": {
            "text/html": [
              "\n",
              "  <div id=\"df-46149993-e9cc-4f9b-9652-6bcfbc77ad31\">\n",
              "    <div class=\"colab-df-container\">\n",
              "      <div>\n",
              "<style scoped>\n",
              "    .dataframe tbody tr th:only-of-type {\n",
              "        vertical-align: middle;\n",
              "    }\n",
              "\n",
              "    .dataframe tbody tr th {\n",
              "        vertical-align: top;\n",
              "    }\n",
              "\n",
              "    .dataframe thead th {\n",
              "        text-align: right;\n",
              "    }\n",
              "</style>\n",
              "<table border=\"1\" class=\"dataframe\">\n",
              "  <thead>\n",
              "    <tr style=\"text-align: right;\">\n",
              "      <th></th>\n",
              "      <th>X</th>\n",
              "      <th>Y</th>\n",
              "      <th>is_summer</th>\n",
              "      <th>is_weekend</th>\n",
              "      <th>FFMC</th>\n",
              "      <th>DMC</th>\n",
              "      <th>DC</th>\n",
              "      <th>ISI</th>\n",
              "      <th>temp</th>\n",
              "      <th>RH</th>\n",
              "      <th>wind</th>\n",
              "      <th>rain</th>\n",
              "      <th>area</th>\n",
              "    </tr>\n",
              "  </thead>\n",
              "  <tbody>\n",
              "    <tr>\n",
              "      <th>0</th>\n",
              "      <td>-0.293766</td>\n",
              "      <td>-0.927776</td>\n",
              "      <td>0.53287</td>\n",
              "      <td>1.404076</td>\n",
              "      <td>0.342959</td>\n",
              "      <td>-0.060220</td>\n",
              "      <td>0.867158</td>\n",
              "      <td>-0.249015</td>\n",
              "      <td>0.784070</td>\n",
              "      <td>-1.071784</td>\n",
              "      <td>-0.054362</td>\n",
              "      <td>-0.137348</td>\n",
              "      <td>0.219260</td>\n",
              "    </tr>\n",
              "    <tr>\n",
              "      <th>1</th>\n",
              "      <td>-0.293766</td>\n",
              "      <td>-0.161993</td>\n",
              "      <td>0.53287</td>\n",
              "      <td>-0.712212</td>\n",
              "      <td>-0.057456</td>\n",
              "      <td>0.370353</td>\n",
              "      <td>0.600021</td>\n",
              "      <td>-0.465731</td>\n",
              "      <td>-0.203920</td>\n",
              "      <td>-0.279375</td>\n",
              "      <td>-1.042369</td>\n",
              "      <td>-0.137348</td>\n",
              "      <td>0.177491</td>\n",
              "    </tr>\n",
              "    <tr>\n",
              "      <th>2</th>\n",
              "      <td>-1.130796</td>\n",
              "      <td>0.603791</td>\n",
              "      <td>0.53287</td>\n",
              "      <td>-0.712212</td>\n",
              "      <td>0.312158</td>\n",
              "      <td>0.834731</td>\n",
              "      <td>0.483714</td>\n",
              "      <td>0.664288</td>\n",
              "      <td>0.221938</td>\n",
              "      <td>0.248898</td>\n",
              "      <td>-0.054362</td>\n",
              "      <td>-0.137348</td>\n",
              "      <td>0.180797</td>\n",
              "    </tr>\n",
              "    <tr>\n",
              "      <th>3</th>\n",
              "      <td>-0.712281</td>\n",
              "      <td>-0.161993</td>\n",
              "      <td>0.53287</td>\n",
              "      <td>-0.712212</td>\n",
              "      <td>1.544206</td>\n",
              "      <td>1.341810</td>\n",
              "      <td>0.537142</td>\n",
              "      <td>0.664288</td>\n",
              "      <td>2.283090</td>\n",
              "      <td>-1.071784</td>\n",
              "      <td>-1.042369</td>\n",
              "      <td>-0.137348</td>\n",
              "      <td>1.087255</td>\n",
              "    </tr>\n",
              "    <tr>\n",
              "      <th>4</th>\n",
              "      <td>0.124750</td>\n",
              "      <td>-0.161993</td>\n",
              "      <td>-1.87663</td>\n",
              "      <td>1.404076</td>\n",
              "      <td>-1.320305</td>\n",
              "      <td>-1.602809</td>\n",
              "      <td>-2.022846</td>\n",
              "      <td>-0.945602</td>\n",
              "      <td>-1.106740</td>\n",
              "      <td>0.645102</td>\n",
              "      <td>-1.042369</td>\n",
              "      <td>-0.137348</td>\n",
              "      <td>0.578923</td>\n",
              "    </tr>\n",
              "    <tr>\n",
              "      <th>...</th>\n",
              "      <td>...</td>\n",
              "      <td>...</td>\n",
              "      <td>...</td>\n",
              "      <td>...</td>\n",
              "      <td>...</td>\n",
              "      <td>...</td>\n",
              "      <td>...</td>\n",
              "      <td>...</td>\n",
              "      <td>...</td>\n",
              "      <td>...</td>\n",
              "      <td>...</td>\n",
              "      <td>...</td>\n",
              "      <td>...</td>\n",
              "    </tr>\n",
              "    <tr>\n",
              "      <th>408</th>\n",
              "      <td>-0.293766</td>\n",
              "      <td>0.603791</td>\n",
              "      <td>0.53287</td>\n",
              "      <td>-0.712212</td>\n",
              "      <td>0.989785</td>\n",
              "      <td>-0.366247</td>\n",
              "      <td>0.623858</td>\n",
              "      <td>0.911963</td>\n",
              "      <td>-0.203920</td>\n",
              "      <td>-0.411443</td>\n",
              "      <td>-0.273919</td>\n",
              "      <td>-0.137348</td>\n",
              "      <td>-0.769306</td>\n",
              "    </tr>\n",
              "    <tr>\n",
              "      <th>409</th>\n",
              "      <td>-0.293766</td>\n",
              "      <td>0.603791</td>\n",
              "      <td>-1.87663</td>\n",
              "      <td>-0.712212</td>\n",
              "      <td>0.096550</td>\n",
              "      <td>-1.334146</td>\n",
              "      <td>-1.915992</td>\n",
              "      <td>-0.388332</td>\n",
              "      <td>-0.118749</td>\n",
              "      <td>-0.939716</td>\n",
              "      <td>-0.548365</td>\n",
              "      <td>-0.137348</td>\n",
              "      <td>-0.769306</td>\n",
              "    </tr>\n",
              "    <tr>\n",
              "      <th>410</th>\n",
              "      <td>-1.130796</td>\n",
              "      <td>-1.693559</td>\n",
              "      <td>0.53287</td>\n",
              "      <td>-0.712212</td>\n",
              "      <td>0.312158</td>\n",
              "      <td>0.834731</td>\n",
              "      <td>0.483714</td>\n",
              "      <td>0.664288</td>\n",
              "      <td>0.494487</td>\n",
              "      <td>0.843205</td>\n",
              "      <td>-0.548365</td>\n",
              "      <td>-0.137348</td>\n",
              "      <td>-0.486874</td>\n",
              "    </tr>\n",
              "    <tr>\n",
              "      <th>411</th>\n",
              "      <td>-1.130796</td>\n",
              "      <td>0.603791</td>\n",
              "      <td>0.53287</td>\n",
              "      <td>1.404076</td>\n",
              "      <td>-0.088257</td>\n",
              "      <td>-0.373364</td>\n",
              "      <td>-0.673602</td>\n",
              "      <td>-0.682447</td>\n",
              "      <td>0.835173</td>\n",
              "      <td>0.513034</td>\n",
              "      <td>-1.261926</td>\n",
              "      <td>-0.137348</td>\n",
              "      <td>-0.769306</td>\n",
              "    </tr>\n",
              "    <tr>\n",
              "      <th>412</th>\n",
              "      <td>-1.130796</td>\n",
              "      <td>-0.161993</td>\n",
              "      <td>0.53287</td>\n",
              "      <td>-0.712212</td>\n",
              "      <td>1.143791</td>\n",
              "      <td>0.046534</td>\n",
              "      <td>0.438096</td>\n",
              "      <td>1.082240</td>\n",
              "      <td>0.204903</td>\n",
              "      <td>-0.213341</td>\n",
              "      <td>-0.054362</td>\n",
              "      <td>-0.137348</td>\n",
              "      <td>-0.769306</td>\n",
              "    </tr>\n",
              "  </tbody>\n",
              "</table>\n",
              "<p>413 rows × 13 columns</p>\n",
              "</div>\n",
              "      <button class=\"colab-df-convert\" onclick=\"convertToInteractive('df-46149993-e9cc-4f9b-9652-6bcfbc77ad31')\"\n",
              "              title=\"Convert this dataframe to an interactive table.\"\n",
              "              style=\"display:none;\">\n",
              "        \n",
              "  <svg xmlns=\"http://www.w3.org/2000/svg\" height=\"24px\"viewBox=\"0 0 24 24\"\n",
              "       width=\"24px\">\n",
              "    <path d=\"M0 0h24v24H0V0z\" fill=\"none\"/>\n",
              "    <path d=\"M18.56 5.44l.94 2.06.94-2.06 2.06-.94-2.06-.94-.94-2.06-.94 2.06-2.06.94zm-11 1L8.5 8.5l.94-2.06 2.06-.94-2.06-.94L8.5 2.5l-.94 2.06-2.06.94zm10 10l.94 2.06.94-2.06 2.06-.94-2.06-.94-.94-2.06-.94 2.06-2.06.94z\"/><path d=\"M17.41 7.96l-1.37-1.37c-.4-.4-.92-.59-1.43-.59-.52 0-1.04.2-1.43.59L10.3 9.45l-7.72 7.72c-.78.78-.78 2.05 0 2.83L4 21.41c.39.39.9.59 1.41.59.51 0 1.02-.2 1.41-.59l7.78-7.78 2.81-2.81c.8-.78.8-2.07 0-2.86zM5.41 20L4 18.59l7.72-7.72 1.47 1.35L5.41 20z\"/>\n",
              "  </svg>\n",
              "      </button>\n",
              "      \n",
              "  <style>\n",
              "    .colab-df-container {\n",
              "      display:flex;\n",
              "      flex-wrap:wrap;\n",
              "      gap: 12px;\n",
              "    }\n",
              "\n",
              "    .colab-df-convert {\n",
              "      background-color: #E8F0FE;\n",
              "      border: none;\n",
              "      border-radius: 50%;\n",
              "      cursor: pointer;\n",
              "      display: none;\n",
              "      fill: #1967D2;\n",
              "      height: 32px;\n",
              "      padding: 0 0 0 0;\n",
              "      width: 32px;\n",
              "    }\n",
              "\n",
              "    .colab-df-convert:hover {\n",
              "      background-color: #E2EBFA;\n",
              "      box-shadow: 0px 1px 2px rgba(60, 64, 67, 0.3), 0px 1px 3px 1px rgba(60, 64, 67, 0.15);\n",
              "      fill: #174EA6;\n",
              "    }\n",
              "\n",
              "    [theme=dark] .colab-df-convert {\n",
              "      background-color: #3B4455;\n",
              "      fill: #D2E3FC;\n",
              "    }\n",
              "\n",
              "    [theme=dark] .colab-df-convert:hover {\n",
              "      background-color: #434B5C;\n",
              "      box-shadow: 0px 1px 3px 1px rgba(0, 0, 0, 0.15);\n",
              "      filter: drop-shadow(0px 1px 2px rgba(0, 0, 0, 0.3));\n",
              "      fill: #FFFFFF;\n",
              "    }\n",
              "  </style>\n",
              "\n",
              "      <script>\n",
              "        const buttonEl =\n",
              "          document.querySelector('#df-46149993-e9cc-4f9b-9652-6bcfbc77ad31 button.colab-df-convert');\n",
              "        buttonEl.style.display =\n",
              "          google.colab.kernel.accessAllowed ? 'block' : 'none';\n",
              "\n",
              "        async function convertToInteractive(key) {\n",
              "          const element = document.querySelector('#df-46149993-e9cc-4f9b-9652-6bcfbc77ad31');\n",
              "          const dataTable =\n",
              "            await google.colab.kernel.invokeFunction('convertToInteractive',\n",
              "                                                     [key], {});\n",
              "          if (!dataTable) return;\n",
              "\n",
              "          const docLinkHtml = 'Like what you see? Visit the ' +\n",
              "            '<a target=\"_blank\" href=https://colab.research.google.com/notebooks/data_table.ipynb>data table notebook</a>'\n",
              "            + ' to learn more about interactive tables.';\n",
              "          element.innerHTML = '';\n",
              "          dataTable['output_type'] = 'display_data';\n",
              "          await google.colab.output.renderOutput(dataTable, element);\n",
              "          const docLink = document.createElement('div');\n",
              "          docLink.innerHTML = docLinkHtml;\n",
              "          element.appendChild(docLink);\n",
              "        }\n",
              "      </script>\n",
              "    </div>\n",
              "  </div>\n",
              "  "
            ],
            "text/plain": [
              "            X         Y  is_summer  ...      wind      rain      area\n",
              "0   -0.293766 -0.927776    0.53287  ... -0.054362 -0.137348  0.219260\n",
              "1   -0.293766 -0.161993    0.53287  ... -1.042369 -0.137348  0.177491\n",
              "2   -1.130796  0.603791    0.53287  ... -0.054362 -0.137348  0.180797\n",
              "3   -0.712281 -0.161993    0.53287  ... -1.042369 -0.137348  1.087255\n",
              "4    0.124750 -0.161993   -1.87663  ... -1.042369 -0.137348  0.578923\n",
              "..        ...       ...        ...  ...       ...       ...       ...\n",
              "408 -0.293766  0.603791    0.53287  ... -0.273919 -0.137348 -0.769306\n",
              "409 -0.293766  0.603791   -1.87663  ... -0.548365 -0.137348 -0.769306\n",
              "410 -1.130796 -1.693559    0.53287  ... -0.548365 -0.137348 -0.486874\n",
              "411 -1.130796  0.603791    0.53287  ... -1.261926 -0.137348 -0.769306\n",
              "412 -1.130796 -0.161993    0.53287  ... -0.054362 -0.137348 -0.769306\n",
              "\n",
              "[413 rows x 13 columns]"
            ]
          },
          "metadata": {},
          "execution_count": 49
        }
      ]
    },
    {
      "cell_type": "code",
      "source": [
        "# Fit a model and plot learning curve\n",
        "def fit_model(X_train, y_train, X_test, y_test, n_batch):\n",
        "  # Define Model\n",
        "  model = Sequential()\n",
        "  model.add(Dense(6, input_dim=13, activation='relu'))\n",
        "  model.add(Dense(6, activation='relu'))\n",
        "  model.add(Dense(6, activation='sigmoid'))\n",
        "  model.add(Dropout(0.2))\n",
        "  model.add(Dense(1, activation = 'relu'))\n",
        "\n",
        "  # Compile Model\n",
        "  model.compile(optimizer = 'adam',\n",
        "                metrics=['accuracy'],\n",
        "                loss = 'binary_crossentropy')\n",
        "  \n",
        "  # Fit Model\n",
        "  history = model.fit(X_train,\n",
        "                      y_train,\n",
        "                      validation_data=(X_test, y_test),\n",
        "                      epochs=100,\n",
        "                      verbose=0,\n",
        "                      batch_size=n_batch)\n",
        "\n",
        "  # Plot Learning Curves\n",
        "  plt.plot(history.history['accuracy'], label='train') \n",
        "  plt.plot(history.history['val_accuracy'], label='test') \n",
        "  plt.title('batch='+str(n_batch)) \n",
        "  plt.legend()  "
      ],
      "metadata": {
        "id": "qVDVp2RsB9uo"
      },
      "execution_count": null,
      "outputs": []
    },
    {
      "cell_type": "code",
      "source": [
        "# Create learning curves for different batch sizes\n",
        "batch_sizes = [4, 6, 10, 16, 32, 64, 128, 260]\n",
        "\n",
        "plt.figure(figsize=(10,15))\n",
        "for i in range(len(batch_sizes)):\n",
        "\n",
        "  # Determine the Plot Number\n",
        "  plot_no = 420 + (i+1)\n",
        "  plt.subplot(plot_no)\n",
        "\n",
        "  # Fit model and plot learning curves for a batch size\n",
        "  fit_model(X_train, y_train, X_test, y_test, batch_sizes[i])\n",
        "\n",
        "# Show learning curves\n",
        "plt.show()"
      ],
      "metadata": {
        "colab": {
          "base_uri": "https://localhost:8080/",
          "height": 878
        },
        "id": "xTIr5CEAIS7M",
        "outputId": "e0af5728-dba0-41a2-8747-17d5b8039473"
      },
      "execution_count": null,
      "outputs": [
        {
          "output_type": "display_data",
          "data": {
            "image/png": "[encoded data removed]",
            "text/plain": [
              "<Figure size 720x1080 with 8 Axes>"
            ]
          },
          "metadata": {
            "needs_background": "light"
          }
        }
      ]
    },
    {
      "cell_type": "markdown",
      "source": [
        "## 4) Eksperimen 4 : Batch Size = 6, Epochs = 20, 50, 100, 120, 150, 200, 300, 400"
      ],
      "metadata": {
        "id": "dBuWUgJEJO1F"
      }
    },
    {
      "cell_type": "code",
      "source": [
        "# fit a model and plot learning curve\n",
        "def fit_model(trainX, trainy, validX, validy, n_epoch):\n",
        "    \n",
        "    # define model\n",
        "    model = Sequential()\n",
        "    model.add(Dense(6, input_dim=13, activation='relu'))\n",
        "    model.add(Dense(6, activation='relu'))\n",
        "    model.add(Dense(6, activation='sigmoid'))\n",
        "    model.add(Dropout(0.2))\n",
        "    model.add(Dense(1, activation = 'relu'))\n",
        "    \n",
        "    # compile model\n",
        "\n",
        "    model.compile(optimizer ='adam',\n",
        "                  metrics=['accuracy'],\n",
        "                  loss = 'binary_crossentropy')\n",
        "    \n",
        "    # fit model\n",
        "    history = model.fit(X_train,\n",
        "                        y_train,\n",
        "                        validation_data=(X_test, y_test),\n",
        "                        epochs=n_epoch,\n",
        "                        verbose=0,\n",
        "                        batch_size=6)\n",
        "    \n",
        "    # plot learning curves\n",
        "    plt.plot(history.history['accuracy'], label='train')\n",
        "    plt.plot(history.history['val_accuracy'], label='test')\n",
        "    plt.title('epoch='+str(n_epoch))\n",
        "    plt.legend()"
      ],
      "metadata": {
        "id": "3vt4tVjUJcdI"
      },
      "execution_count": null,
      "outputs": []
    },
    {
      "cell_type": "code",
      "source": [
        "# Create learning curves for different batch sizes\n",
        "epochs = [20, 50, 100, 120, 150, 200, 300, 400]\n",
        "\n",
        "plt.figure(figsize=(10,15))\n",
        "for i in range(len(batch_sizes)):\n",
        "\n",
        "  # Determine the Plot Number\n",
        "  plot_no = 420 + (i+1)\n",
        "  plt.subplot(plot_no)\n",
        "\n",
        "  # Fit model and plot learning curves for a batch size\n",
        "  fit_model(X_train, y_train, X_test, y_test, epochs[i])\n",
        "\n",
        "# Show learning curves\n",
        "plt.show()"
      ],
      "metadata": {
        "colab": {
          "base_uri": "https://localhost:8080/",
          "height": 878
        },
        "id": "Smki0jSAKrxz",
        "outputId": "d1cafc8c-639c-488d-8d32-c2fea1cc19f9"
      },
      "execution_count": null,
      "outputs": [
        {
          "output_type": "display_data",
          "data": {
            "image/png": "[encoded data removed]",
            "text/plain": [
              "<Figure size 720x1080 with 8 Axes>"
            ]
          },
          "metadata": {
            "needs_background": "light"
          }
        }
      ]
    },
    {
      "cell_type": "markdown",
      "source": [
        "## 5) Eksperimen 5 : Early Stopping (Patience, Model Checkpoint)"
      ],
      "metadata": {
        "id": "uK7nu6zROHIq"
      }
    },
    {
      "cell_type": "code",
      "source": [
        "def init_model():\n",
        "\n",
        "    # define model\n",
        "    model = Sequential()\n",
        "    model.add(Dense(6, input_dim=13, activation='relu'))\n",
        "    model.add(Dense(6, activation='relu'))\n",
        "    model.add(Dense(6, activation='sigmoid'))\n",
        "    model.add(Dropout(0.2))\n",
        "    model.add(Dense(1, activation = 'relu'))\n",
        "    \n",
        "    model.compile(optimizer ='adam',\n",
        "                  metrics=['accuracy'],\n",
        "                  loss = 'binary_crossentropy')\n",
        "    \n",
        "    return model"
      ],
      "metadata": {
        "id": "jZOf9xpaOrT_"
      },
      "execution_count": null,
      "outputs": []
    },
    {
      "cell_type": "code",
      "source": [
        "# init model\n",
        "model = init_model()"
      ],
      "metadata": {
        "id": "RO4Br4w-OGcW"
      },
      "execution_count": null,
      "outputs": []
    },
    {
      "cell_type": "code",
      "source": [
        "# simple early stopping\n",
        "es = EarlyStopping(monitor='val_loss',\n",
        "                   mode='min',\n",
        "                   verbose=1,\n",
        "                   patience=150)"
      ],
      "metadata": {
        "id": "gbo2ePSzO6dP"
      },
      "execution_count": null,
      "outputs": []
    },
    {
      "cell_type": "code",
      "source": [
        "mc = ModelCheckpoint('best_model.h5',\n",
        "                     monitor='val_accuracy',\n",
        "                     mode='max',\n",
        "                     verbose=1,\n",
        "                     save_best_only=True)"
      ],
      "metadata": {
        "id": "s4jAT0p_PRrC"
      },
      "execution_count": null,
      "outputs": []
    },
    {
      "cell_type": "code",
      "source": [
        "history = model.fit(X_train,\n",
        "                    y_train,\n",
        "                    validation_data=(X_test, y_test),\n",
        "                    epochs=250,\n",
        "                    verbose=0,\n",
        "                    batch_size=6,\n",
        "                    callbacks=[es, mc])"
      ],
      "metadata": {
        "colab": {
          "base_uri": "https://localhost:8080/"
        },
        "id": "RlfOC8BePIBk",
        "outputId": "0220c447-4e67-4664-c3b4-4b310e6cc216"
      },
      "execution_count": null,
      "outputs": [
        {
          "output_type": "stream",
          "name": "stdout",
          "text": [
            "\n",
            "Epoch 00001: val_accuracy improved from -inf to 0.73077, saving model to best_model.h5\n",
            "\n",
            "Epoch 00002: val_accuracy did not improve from 0.73077\n",
            "\n",
            "Epoch 00003: val_accuracy did not improve from 0.73077\n",
            "\n",
            "Epoch 00004: val_accuracy did not improve from 0.73077\n",
            "\n",
            "Epoch 00005: val_accuracy did not improve from 0.73077\n",
            "\n",
            "Epoch 00006: val_accuracy did not improve from 0.73077\n",
            "\n",
            "Epoch 00007: val_accuracy did not improve from 0.73077\n",
            "\n",
            "Epoch 00008: val_accuracy did not improve from 0.73077\n",
            "\n",
            "Epoch 00009: val_accuracy did not improve from 0.73077\n",
            "\n",
            "Epoch 00010: val_accuracy did not improve from 0.73077\n",
            "\n",
            "Epoch 00011: val_accuracy did not improve from 0.73077\n",
            "\n",
            "Epoch 00012: val_accuracy did not improve from 0.73077\n",
            "\n",
            "Epoch 00013: val_accuracy did not improve from 0.73077\n",
            "\n",
            "Epoch 00014: val_accuracy did not improve from 0.73077\n",
            "\n",
            "Epoch 00015: val_accuracy improved from 0.73077 to 0.74038, saving model to best_model.h5\n",
            "\n",
            "Epoch 00016: val_accuracy did not improve from 0.74038\n",
            "\n",
            "Epoch 00017: val_accuracy improved from 0.74038 to 0.79808, saving model to best_model.h5\n",
            "\n",
            "Epoch 00018: val_accuracy did not improve from 0.79808\n",
            "\n",
            "Epoch 00019: val_accuracy improved from 0.79808 to 0.80769, saving model to best_model.h5\n",
            "\n",
            "Epoch 00020: val_accuracy improved from 0.80769 to 0.83654, saving model to best_model.h5\n",
            "\n",
            "Epoch 00021: val_accuracy improved from 0.83654 to 0.88462, saving model to best_model.h5\n",
            "\n",
            "Epoch 00022: val_accuracy did not improve from 0.88462\n",
            "\n",
            "Epoch 00023: val_accuracy improved from 0.88462 to 0.89423, saving model to best_model.h5\n",
            "\n",
            "Epoch 00024: val_accuracy improved from 0.89423 to 0.92308, saving model to best_model.h5\n",
            "\n",
            "Epoch 00025: val_accuracy improved from 0.92308 to 0.95192, saving model to best_model.h5\n",
            "\n",
            "Epoch 00026: val_accuracy did not improve from 0.95192\n",
            "\n",
            "Epoch 00027: val_accuracy improved from 0.95192 to 0.96154, saving model to best_model.h5\n",
            "\n",
            "Epoch 00028: val_accuracy did not improve from 0.96154\n",
            "\n",
            "Epoch 00029: val_accuracy did not improve from 0.96154\n",
            "\n",
            "Epoch 00030: val_accuracy did not improve from 0.96154\n",
            "\n",
            "Epoch 00031: val_accuracy did not improve from 0.96154\n",
            "\n",
            "Epoch 00032: val_accuracy did not improve from 0.96154\n",
            "\n",
            "Epoch 00033: val_accuracy did not improve from 0.96154\n",
            "\n",
            "Epoch 00034: val_accuracy did not improve from 0.96154\n",
            "\n",
            "Epoch 00035: val_accuracy did not improve from 0.96154\n",
            "\n",
            "Epoch 00036: val_accuracy did not improve from 0.96154\n",
            "\n",
            "Epoch 00037: val_accuracy did not improve from 0.96154\n",
            "\n",
            "Epoch 00038: val_accuracy did not improve from 0.96154\n",
            "\n",
            "Epoch 00039: val_accuracy did not improve from 0.96154\n",
            "\n",
            "Epoch 00040: val_accuracy did not improve from 0.96154\n",
            "\n",
            "Epoch 00041: val_accuracy improved from 0.96154 to 0.97115, saving model to best_model.h5\n",
            "\n",
            "Epoch 00042: val_accuracy improved from 0.97115 to 0.98077, saving model to best_model.h5\n",
            "\n",
            "Epoch 00043: val_accuracy did not improve from 0.98077\n",
            "\n",
            "Epoch 00044: val_accuracy did not improve from 0.98077\n",
            "\n",
            "Epoch 00045: val_accuracy did not improve from 0.98077\n",
            "\n",
            "Epoch 00046: val_accuracy did not improve from 0.98077\n",
            "\n",
            "Epoch 00047: val_accuracy did not improve from 0.98077\n",
            "\n",
            "Epoch 00048: val_accuracy did not improve from 0.98077\n",
            "\n",
            "Epoch 00049: val_accuracy did not improve from 0.98077\n",
            "\n",
            "Epoch 00050: val_accuracy did not improve from 0.98077\n",
            "\n",
            "Epoch 00051: val_accuracy did not improve from 0.98077\n",
            "\n",
            "Epoch 00052: val_accuracy improved from 0.98077 to 0.99038, saving model to best_model.h5\n",
            "\n",
            "Epoch 00053: val_accuracy did not improve from 0.99038\n",
            "\n",
            "Epoch 00054: val_accuracy did not improve from 0.99038\n",
            "\n",
            "Epoch 00055: val_accuracy did not improve from 0.99038\n",
            "\n",
            "Epoch 00056: val_accuracy did not improve from 0.99038\n",
            "\n",
            "Epoch 00057: val_accuracy did not improve from 0.99038\n",
            "\n",
            "Epoch 00058: val_accuracy did not improve from 0.99038\n",
            "\n",
            "Epoch 00059: val_accuracy did not improve from 0.99038\n",
            "\n",
            "Epoch 00060: val_accuracy did not improve from 0.99038\n",
            "\n",
            "Epoch 00061: val_accuracy did not improve from 0.99038\n",
            "\n",
            "Epoch 00062: val_accuracy did not improve from 0.99038\n",
            "\n",
            "Epoch 00063: val_accuracy did not improve from 0.99038\n",
            "\n",
            "Epoch 00064: val_accuracy did not improve from 0.99038\n",
            "\n",
            "Epoch 00065: val_accuracy did not improve from 0.99038\n",
            "\n",
            "Epoch 00066: val_accuracy did not improve from 0.99038\n",
            "\n",
            "Epoch 00067: val_accuracy did not improve from 0.99038\n",
            "\n",
            "Epoch 00068: val_accuracy did not improve from 0.99038\n",
            "\n",
            "Epoch 00069: val_accuracy did not improve from 0.99038\n",
            "\n",
            "Epoch 00070: val_accuracy did not improve from 0.99038\n",
            "\n",
            "Epoch 00071: val_accuracy did not improve from 0.99038\n",
            "\n",
            "Epoch 00072: val_accuracy did not improve from 0.99038\n",
            "\n",
            "Epoch 00073: val_accuracy did not improve from 0.99038\n",
            "\n",
            "Epoch 00074: val_accuracy did not improve from 0.99038\n",
            "\n",
            "Epoch 00075: val_accuracy did not improve from 0.99038\n",
            "\n",
            "Epoch 00076: val_accuracy did not improve from 0.99038\n",
            "\n",
            "Epoch 00077: val_accuracy did not improve from 0.99038\n",
            "\n",
            "Epoch 00078: val_accuracy did not improve from 0.99038\n",
            "\n",
            "Epoch 00079: val_accuracy did not improve from 0.99038\n",
            "\n",
            "Epoch 00080: val_accuracy did not improve from 0.99038\n",
            "\n",
            "Epoch 00081: val_accuracy did not improve from 0.99038\n",
            "\n",
            "Epoch 00082: val_accuracy did not improve from 0.99038\n",
            "\n",
            "Epoch 00083: val_accuracy did not improve from 0.99038\n",
            "\n",
            "Epoch 00084: val_accuracy did not improve from 0.99038\n",
            "\n",
            "Epoch 00085: val_accuracy did not improve from 0.99038\n",
            "\n",
            "Epoch 00086: val_accuracy did not improve from 0.99038\n",
            "\n",
            "Epoch 00087: val_accuracy did not improve from 0.99038\n",
            "\n",
            "Epoch 00088: val_accuracy did not improve from 0.99038\n",
            "\n",
            "Epoch 00089: val_accuracy did not improve from 0.99038\n",
            "\n",
            "Epoch 00090: val_accuracy did not improve from 0.99038\n",
            "\n",
            "Epoch 00091: val_accuracy did not improve from 0.99038\n",
            "\n",
            "Epoch 00092: val_accuracy did not improve from 0.99038\n",
            "\n",
            "Epoch 00093: val_accuracy did not improve from 0.99038\n",
            "\n",
            "Epoch 00094: val_accuracy did not improve from 0.99038\n",
            "\n",
            "Epoch 00095: val_accuracy did not improve from 0.99038\n",
            "\n",
            "Epoch 00096: val_accuracy did not improve from 0.99038\n",
            "\n",
            "Epoch 00097: val_accuracy did not improve from 0.99038\n",
            "\n",
            "Epoch 00098: val_accuracy did not improve from 0.99038\n",
            "\n",
            "Epoch 00099: val_accuracy did not improve from 0.99038\n",
            "\n",
            "Epoch 00100: val_accuracy did not improve from 0.99038\n",
            "\n",
            "Epoch 00101: val_accuracy did not improve from 0.99038\n",
            "\n",
            "Epoch 00102: val_accuracy did not improve from 0.99038\n",
            "\n",
            "Epoch 00103: val_accuracy did not improve from 0.99038\n",
            "\n",
            "Epoch 00104: val_accuracy did not improve from 0.99038\n",
            "\n",
            "Epoch 00105: val_accuracy did not improve from 0.99038\n",
            "\n",
            "Epoch 00106: val_accuracy did not improve from 0.99038\n",
            "\n",
            "Epoch 00107: val_accuracy did not improve from 0.99038\n",
            "\n",
            "Epoch 00108: val_accuracy did not improve from 0.99038\n",
            "\n",
            "Epoch 00109: val_accuracy did not improve from 0.99038\n",
            "\n",
            "Epoch 00110: val_accuracy did not improve from 0.99038\n",
            "\n",
            "Epoch 00111: val_accuracy did not improve from 0.99038\n",
            "\n",
            "Epoch 00112: val_accuracy did not improve from 0.99038\n",
            "\n",
            "Epoch 00113: val_accuracy did not improve from 0.99038\n",
            "\n",
            "Epoch 00114: val_accuracy did not improve from 0.99038\n",
            "\n",
            "Epoch 00115: val_accuracy did not improve from 0.99038\n",
            "\n",
            "Epoch 00116: val_accuracy did not improve from 0.99038\n",
            "\n",
            "Epoch 00117: val_accuracy did not improve from 0.99038\n",
            "\n",
            "Epoch 00118: val_accuracy did not improve from 0.99038\n",
            "\n",
            "Epoch 00119: val_accuracy did not improve from 0.99038\n",
            "\n",
            "Epoch 00120: val_accuracy did not improve from 0.99038\n",
            "\n",
            "Epoch 00121: val_accuracy did not improve from 0.99038\n",
            "\n",
            "Epoch 00122: val_accuracy did not improve from 0.99038\n",
            "\n",
            "Epoch 00123: val_accuracy did not improve from 0.99038\n",
            "\n",
            "Epoch 00124: val_accuracy did not improve from 0.99038\n",
            "\n",
            "Epoch 00125: val_accuracy did not improve from 0.99038\n",
            "\n",
            "Epoch 00126: val_accuracy did not improve from 0.99038\n",
            "\n",
            "Epoch 00127: val_accuracy did not improve from 0.99038\n",
            "\n",
            "Epoch 00128: val_accuracy did not improve from 0.99038\n",
            "\n",
            "Epoch 00129: val_accuracy did not improve from 0.99038\n",
            "\n",
            "Epoch 00130: val_accuracy did not improve from 0.99038\n",
            "\n",
            "Epoch 00131: val_accuracy did not improve from 0.99038\n",
            "\n",
            "Epoch 00132: val_accuracy did not improve from 0.99038\n",
            "\n",
            "Epoch 00133: val_accuracy did not improve from 0.99038\n",
            "\n",
            "Epoch 00134: val_accuracy did not improve from 0.99038\n",
            "\n",
            "Epoch 00135: val_accuracy did not improve from 0.99038\n",
            "\n",
            "Epoch 00136: val_accuracy did not improve from 0.99038\n",
            "\n",
            "Epoch 00137: val_accuracy did not improve from 0.99038\n",
            "\n",
            "Epoch 00138: val_accuracy did not improve from 0.99038\n",
            "\n",
            "Epoch 00139: val_accuracy did not improve from 0.99038\n",
            "\n",
            "Epoch 00140: val_accuracy did not improve from 0.99038\n",
            "\n",
            "Epoch 00141: val_accuracy did not improve from 0.99038\n",
            "\n",
            "Epoch 00142: val_accuracy did not improve from 0.99038\n",
            "\n",
            "Epoch 00143: val_accuracy did not improve from 0.99038\n",
            "\n",
            "Epoch 00144: val_accuracy did not improve from 0.99038\n",
            "\n",
            "Epoch 00145: val_accuracy did not improve from 0.99038\n",
            "\n",
            "Epoch 00146: val_accuracy did not improve from 0.99038\n",
            "\n",
            "Epoch 00147: val_accuracy did not improve from 0.99038\n",
            "\n",
            "Epoch 00148: val_accuracy did not improve from 0.99038\n",
            "\n",
            "Epoch 00149: val_accuracy did not improve from 0.99038\n",
            "\n",
            "Epoch 00150: val_accuracy did not improve from 0.99038\n",
            "\n",
            "Epoch 00151: val_accuracy did not improve from 0.99038\n",
            "\n",
            "Epoch 00152: val_accuracy did not improve from 0.99038\n",
            "\n",
            "Epoch 00153: val_accuracy did not improve from 0.99038\n",
            "\n",
            "Epoch 00154: val_accuracy did not improve from 0.99038\n",
            "\n",
            "Epoch 00155: val_accuracy did not improve from 0.99038\n",
            "\n",
            "Epoch 00156: val_accuracy did not improve from 0.99038\n",
            "\n",
            "Epoch 00157: val_accuracy did not improve from 0.99038\n",
            "\n",
            "Epoch 00158: val_accuracy did not improve from 0.99038\n",
            "\n",
            "Epoch 00159: val_accuracy did not improve from 0.99038\n",
            "\n",
            "Epoch 00160: val_accuracy did not improve from 0.99038\n",
            "\n",
            "Epoch 00161: val_accuracy did not improve from 0.99038\n",
            "\n",
            "Epoch 00162: val_accuracy did not improve from 0.99038\n",
            "\n",
            "Epoch 00163: val_accuracy did not improve from 0.99038\n",
            "\n",
            "Epoch 00164: val_accuracy did not improve from 0.99038\n",
            "\n",
            "Epoch 00165: val_accuracy did not improve from 0.99038\n",
            "\n",
            "Epoch 00166: val_accuracy did not improve from 0.99038\n",
            "\n",
            "Epoch 00167: val_accuracy did not improve from 0.99038\n",
            "\n",
            "Epoch 00168: val_accuracy did not improve from 0.99038\n",
            "\n",
            "Epoch 00169: val_accuracy did not improve from 0.99038\n",
            "\n",
            "Epoch 00170: val_accuracy did not improve from 0.99038\n",
            "\n",
            "Epoch 00171: val_accuracy did not improve from 0.99038\n",
            "\n",
            "Epoch 00172: val_accuracy did not improve from 0.99038\n",
            "\n",
            "Epoch 00173: val_accuracy did not improve from 0.99038\n",
            "\n",
            "Epoch 00174: val_accuracy did not improve from 0.99038\n",
            "\n",
            "Epoch 00175: val_accuracy did not improve from 0.99038\n",
            "\n",
            "Epoch 00176: val_accuracy did not improve from 0.99038\n",
            "\n",
            "Epoch 00177: val_accuracy did not improve from 0.99038\n",
            "\n",
            "Epoch 00178: val_accuracy did not improve from 0.99038\n",
            "\n",
            "Epoch 00179: val_accuracy did not improve from 0.99038\n",
            "\n",
            "Epoch 00180: val_accuracy did not improve from 0.99038\n",
            "\n",
            "Epoch 00181: val_accuracy did not improve from 0.99038\n",
            "\n",
            "Epoch 00182: val_accuracy did not improve from 0.99038\n",
            "\n",
            "Epoch 00183: val_accuracy did not improve from 0.99038\n",
            "\n",
            "Epoch 00184: val_accuracy did not improve from 0.99038\n",
            "\n",
            "Epoch 00185: val_accuracy did not improve from 0.99038\n",
            "\n",
            "Epoch 00186: val_accuracy did not improve from 0.99038\n",
            "\n",
            "Epoch 00187: val_accuracy did not improve from 0.99038\n",
            "\n",
            "Epoch 00188: val_accuracy did not improve from 0.99038\n",
            "\n",
            "Epoch 00189: val_accuracy did not improve from 0.99038\n",
            "\n",
            "Epoch 00190: val_accuracy did not improve from 0.99038\n",
            "\n",
            "Epoch 00191: val_accuracy did not improve from 0.99038\n",
            "\n",
            "Epoch 00192: val_accuracy did not improve from 0.99038\n",
            "\n",
            "Epoch 00193: val_accuracy did not improve from 0.99038\n",
            "\n",
            "Epoch 00194: val_accuracy did not improve from 0.99038\n",
            "\n",
            "Epoch 00195: val_accuracy did not improve from 0.99038\n",
            "\n",
            "Epoch 00196: val_accuracy did not improve from 0.99038\n",
            "\n",
            "Epoch 00197: val_accuracy did not improve from 0.99038\n",
            "\n",
            "Epoch 00198: val_accuracy did not improve from 0.99038\n",
            "\n",
            "Epoch 00199: val_accuracy did not improve from 0.99038\n",
            "\n",
            "Epoch 00200: val_accuracy did not improve from 0.99038\n",
            "\n",
            "Epoch 00201: val_accuracy did not improve from 0.99038\n",
            "\n",
            "Epoch 00202: val_accuracy did not improve from 0.99038\n",
            "\n",
            "Epoch 00203: val_accuracy did not improve from 0.99038\n",
            "\n",
            "Epoch 00204: val_accuracy did not improve from 0.99038\n",
            "\n",
            "Epoch 00205: val_accuracy did not improve from 0.99038\n",
            "\n",
            "Epoch 00206: val_accuracy did not improve from 0.99038\n",
            "\n",
            "Epoch 00207: val_accuracy did not improve from 0.99038\n",
            "\n",
            "Epoch 00208: val_accuracy did not improve from 0.99038\n",
            "\n",
            "Epoch 00209: val_accuracy did not improve from 0.99038\n",
            "\n",
            "Epoch 00210: val_accuracy did not improve from 0.99038\n",
            "\n",
            "Epoch 00211: val_accuracy did not improve from 0.99038\n",
            "\n",
            "Epoch 00212: val_accuracy did not improve from 0.99038\n",
            "\n",
            "Epoch 00213: val_accuracy did not improve from 0.99038\n",
            "\n",
            "Epoch 00214: val_accuracy did not improve from 0.99038\n",
            "\n",
            "Epoch 00215: val_accuracy did not improve from 0.99038\n",
            "\n",
            "Epoch 00216: val_accuracy did not improve from 0.99038\n",
            "\n",
            "Epoch 00217: val_accuracy did not improve from 0.99038\n",
            "\n",
            "Epoch 00218: val_accuracy did not improve from 0.99038\n",
            "\n",
            "Epoch 00219: val_accuracy did not improve from 0.99038\n",
            "\n",
            "Epoch 00220: val_accuracy did not improve from 0.99038\n",
            "\n",
            "Epoch 00221: val_accuracy did not improve from 0.99038\n",
            "\n",
            "Epoch 00222: val_accuracy did not improve from 0.99038\n",
            "\n",
            "Epoch 00223: val_accuracy did not improve from 0.99038\n",
            "\n",
            "Epoch 00224: val_accuracy did not improve from 0.99038\n",
            "\n",
            "Epoch 00225: val_accuracy did not improve from 0.99038\n",
            "Epoch 00225: early stopping\n"
          ]
        }
      ]
    },
    {
      "cell_type": "code",
      "source": [
        "# plot training history\n",
        "plt.plot(history.history['loss'], label='train')\n",
        "plt.plot(history.history['val_loss'], label='valid')\n",
        "plt.legend()\n",
        "plt.xlabel('Epochs', fontsize=14)\n",
        "plt.ylabel('Loss', fontsize=14)\n",
        "plt.title('Loss Curves', fontsize=16)\n",
        "plt.show()"
      ],
      "metadata": {
        "colab": {
          "base_uri": "https://localhost:8080/",
          "height": 301
        },
        "id": "GTQNN-ojQHRI",
        "outputId": "f642b81d-dd1d-4295-c107-e1df5195d2ca"
      },
      "execution_count": null,
      "outputs": [
        {
          "output_type": "display_data",
          "data": {
            "image/png": "[encoded data removed]",
            "text/plain": [
              "<Figure size 432x288 with 1 Axes>"
            ]
          },
          "metadata": {
            "needs_background": "light"
          }
        }
      ]
    },
    {
      "cell_type": "code",
      "source": [
        "plt.figure(figsize=[8,5])\n",
        "plt.plot(history.history['accuracy'], label='Train')\n",
        "plt.plot(history.history['val_accuracy'], label='Valid')\n",
        "plt.legend()\n",
        "plt.xlabel('Epochs', fontsize=16)\n",
        "plt.ylabel('Accuracy', fontsize=16)\n",
        "plt.title('Accuracy Curves', fontsize=16)\n",
        "\n",
        "plt.show()"
      ],
      "metadata": {
        "colab": {
          "base_uri": "https://localhost:8080/",
          "height": 357
        },
        "id": "xi51yyWEbRxq",
        "outputId": "d2642f58-1a08-47ba-9f8c-fbc03883533d"
      },
      "execution_count": null,
      "outputs": [
        {
          "output_type": "display_data",
          "data": {
            "image/png": "[encoded data removed]",
            "text/plain": [
              "<Figure size 576x360 with 1 Axes>"
            ]
          },
          "metadata": {
            "needs_background": "light"
          }
        }
      ]
    },
    {
      "cell_type": "code",
      "source": [
        "from keras.models import load_model\n",
        "model = load_model('best_model.h5')"
      ],
      "metadata": {
        "id": "OM0a5vFqQSQS"
      },
      "execution_count": null,
      "outputs": []
    },
    {
      "cell_type": "code",
      "source": [
        "_, train_acc = model.evaluate(X_train, y_train, verbose=0)\n",
        "_, valid_acc = model.evaluate(X_test, y_test, verbose=0)\n",
        "print('Train: %.3f, Valid: %.3f' % (train_acc, valid_acc))"
      ],
      "metadata": {
        "colab": {
          "base_uri": "https://localhost:8080/"
        },
        "id": "dKXvMX6FQc98",
        "outputId": "0f653e54-02e5-4d27-afa4-da13a5ad5f96"
      },
      "execution_count": null,
      "outputs": [
        {
          "output_type": "stream",
          "name": "stdout",
          "text": [
            "Train: 0.973, Valid: 0.990\n"
          ]
        }
      ]
    },
    {
      "cell_type": "markdown",
      "source": [
        "## 6) Eksperimen 6 : Optimizer = SGD, lr = 0.1, momentum= 0.9, Early Stoppping (Patience, Model Checkpoint)"
      ],
      "metadata": {
        "id": "Sz1ozhqJTQ7g"
      }
    },
    {
      "cell_type": "code",
      "source": [
        "def fit_model_with_momentum(X_train, y_train, X_test, y_test, momentum):\n",
        "\n",
        "    # define model\n",
        "    model = Sequential()\n",
        "    model.add(Dense(6, input_dim=13, activation='relu'))\n",
        "    model.add(Dense(6, activation='relu'))\n",
        "    model.add(Dense(6, activation='sigmoid'))\n",
        "    model.add(Dropout(0.2))\n",
        "    model.add(Dense(1, activation = 'relu'))\n",
        "\n",
        "    # compile model\n",
        "    opt = SGD(lr=0.1, momentum=momentum)\n",
        "    model.compile(optimizer = opt,\n",
        "                  metrics=['accuracy'],\n",
        "                  loss = 'binary_crossentropy')\n",
        "\n",
        "    # fit model\n",
        "    history = model.fit(X_train, y_train, validation_data=(X_test, y_test), epochs=394, verbose=0)\n",
        "    \n",
        "    # plot learning curves\n",
        "    plt.plot(history.history['accuracy'], label='train')\n",
        "    plt.plot(history.history['val_accuracy'], label='test')\n",
        "    plt.title('momentum='+str(momentum))\n",
        "    plt.legend()\n"
      ],
      "metadata": {
        "id": "49kSy5akRCuU"
      },
      "execution_count": null,
      "outputs": []
    },
    {
      "cell_type": "code",
      "source": [
        "# create learning curves for different momentums\n",
        "momentums = [0.0, 0.5, 0.8, 0.9, 0.99, 1.0] # use momentum values close to 1.0\n",
        "\n",
        "plt.figure(figsize=(10, 15))\n",
        "for i in range(len(momentums)):\n",
        "    \n",
        "    # determine the plot number\n",
        "    plot_no = 320 + (i+1)\n",
        "    plt.subplot(plot_no)\n",
        "    \n",
        "    # fit model and plot learning curves for a learning rate\n",
        "    fit_model_with_momentum(X_train, y_train, X_test, y_test, momentums[i])\n",
        "\n",
        "# show learning curves\n",
        "plt.show()"
      ],
      "metadata": {
        "colab": {
          "base_uri": "https://localhost:8080/",
          "height": 1000
        },
        "id": "oK_05iEtRiMa",
        "outputId": "08ab359b-8350-4d5d-b350-98e14af705dc"
      },
      "execution_count": null,
      "outputs": [
        {
          "output_type": "stream",
          "name": "stderr",
          "text": [
            "/usr/local/lib/python3.7/dist-packages/keras/optimizer_v2/gradient_descent.py:102: UserWarning: The `lr` argument is deprecated, use `learning_rate` instead.\n",
            "  super(SGD, self).__init__(name, **kwargs)\n",
            "/usr/local/lib/python3.7/dist-packages/keras/optimizer_v2/gradient_descent.py:102: UserWarning: The `lr` argument is deprecated, use `learning_rate` instead.\n",
            "  super(SGD, self).__init__(name, **kwargs)\n",
            "/usr/local/lib/python3.7/dist-packages/keras/optimizer_v2/gradient_descent.py:102: UserWarning: The `lr` argument is deprecated, use `learning_rate` instead.\n",
            "  super(SGD, self).__init__(name, **kwargs)\n",
            "/usr/local/lib/python3.7/dist-packages/keras/optimizer_v2/gradient_descent.py:102: UserWarning: The `lr` argument is deprecated, use `learning_rate` instead.\n",
            "  super(SGD, self).__init__(name, **kwargs)\n",
            "/usr/local/lib/python3.7/dist-packages/keras/optimizer_v2/gradient_descent.py:102: UserWarning: The `lr` argument is deprecated, use `learning_rate` instead.\n",
            "  super(SGD, self).__init__(name, **kwargs)\n",
            "/usr/local/lib/python3.7/dist-packages/keras/optimizer_v2/gradient_descent.py:102: UserWarning: The `lr` argument is deprecated, use `learning_rate` instead.\n",
            "  super(SGD, self).__init__(name, **kwargs)\n"
          ]
        },
        {
          "output_type": "display_data",
          "data": {
            "image/png": "[encoded data removed]",
            "text/plain": [
              "<Figure size 720x1080 with 6 Axes>"
            ]
          },
          "metadata": {
            "needs_background": "light"
          }
        }
      ]
    },
    {
      "cell_type": "markdown",
      "source": [
        "**Model Checkpoint:**"
      ],
      "metadata": {
        "id": "zlPJA9ClQ2k0"
      }
    },
    {
      "cell_type": "code",
      "source": [
        "def init_model():\n",
        "\n",
        "    # define model\n",
        "    model = Sequential()\n",
        "    model.add(Dense(6, input_dim=13, activation='relu'))\n",
        "    model.add(Dense(6, activation='relu'))\n",
        "    model.add(Dense(6, activation='sigmoid'))\n",
        "    model.add(Dropout(0.2))\n",
        "    model.add(Dense(1, activation = 'relu'))\n",
        "    opt = SGD(lr=0.1, momentum=0.9)\n",
        "    model.compile(optimizer = opt,\n",
        "                  metrics=['accuracy'],\n",
        "                  loss = 'binary_crossentropy')\n",
        "    \n",
        "    return model"
      ],
      "metadata": {
        "id": "5scGpoNqTiH3"
      },
      "execution_count": null,
      "outputs": []
    },
    {
      "cell_type": "code",
      "source": [
        "# init model\n",
        "model = init_model()"
      ],
      "metadata": {
        "colab": {
          "base_uri": "https://localhost:8080/"
        },
        "id": "R3y0B4SoTx3m",
        "outputId": "302b524e-7602-44ac-a72b-eee404f1e242"
      },
      "execution_count": null,
      "outputs": [
        {
          "output_type": "stream",
          "name": "stderr",
          "text": [
            "/usr/local/lib/python3.7/dist-packages/keras/optimizer_v2/gradient_descent.py:102: UserWarning: The `lr` argument is deprecated, use `learning_rate` instead.\n",
            "  super(SGD, self).__init__(name, **kwargs)\n"
          ]
        }
      ]
    },
    {
      "cell_type": "code",
      "source": [
        "# simple early stopping\n",
        "es = EarlyStopping(monitor='val_loss',\n",
        "                   mode='min',\n",
        "                   verbose=1,\n",
        "                   patience=200)"
      ],
      "metadata": {
        "id": "nN5u8tqATznr"
      },
      "execution_count": null,
      "outputs": []
    },
    {
      "cell_type": "code",
      "source": [
        "mc = ModelCheckpoint('best_model_2.h5',\n",
        "                     monitor='val_accuracy',\n",
        "                     mode='max',\n",
        "                     verbose=1,\n",
        "                     save_best_only=True)"
      ],
      "metadata": {
        "id": "g4PFdWauT003"
      },
      "execution_count": null,
      "outputs": []
    },
    {
      "cell_type": "code",
      "source": [
        "history = model.fit(X_train,\n",
        "                    y_train,\n",
        "                    validation_data=(X_test, y_test),\n",
        "                    epochs=394,\n",
        "                    verbose=0,\n",
        "                    callbacks=[es, mc])"
      ],
      "metadata": {
        "colab": {
          "base_uri": "https://localhost:8080/"
        },
        "id": "HWkMv66fT3kz",
        "outputId": "52d3f688-a77a-4d8c-8c18-6bca6be4c681"
      },
      "execution_count": null,
      "outputs": [
        {
          "output_type": "stream",
          "name": "stdout",
          "text": [
            "\n",
            "Epoch 00001: val_accuracy improved from -inf to 0.73077, saving model to best_model_2.h5\n",
            "\n",
            "Epoch 00002: val_accuracy did not improve from 0.73077\n",
            "\n",
            "Epoch 00003: val_accuracy did not improve from 0.73077\n",
            "\n",
            "Epoch 00004: val_accuracy did not improve from 0.73077\n",
            "\n",
            "Epoch 00005: val_accuracy did not improve from 0.73077\n",
            "\n",
            "Epoch 00006: val_accuracy did not improve from 0.73077\n",
            "\n",
            "Epoch 00007: val_accuracy did not improve from 0.73077\n",
            "\n",
            "Epoch 00008: val_accuracy did not improve from 0.73077\n",
            "\n",
            "Epoch 00009: val_accuracy did not improve from 0.73077\n",
            "\n",
            "Epoch 00010: val_accuracy did not improve from 0.73077\n",
            "\n",
            "Epoch 00011: val_accuracy did not improve from 0.73077\n",
            "\n",
            "Epoch 00012: val_accuracy did not improve from 0.73077\n",
            "\n",
            "Epoch 00013: val_accuracy did not improve from 0.73077\n",
            "\n",
            "Epoch 00014: val_accuracy did not improve from 0.73077\n",
            "\n",
            "Epoch 00015: val_accuracy did not improve from 0.73077\n",
            "\n",
            "Epoch 00016: val_accuracy did not improve from 0.73077\n",
            "\n",
            "Epoch 00017: val_accuracy did not improve from 0.73077\n",
            "\n",
            "Epoch 00018: val_accuracy did not improve from 0.73077\n",
            "\n",
            "Epoch 00019: val_accuracy did not improve from 0.73077\n",
            "\n",
            "Epoch 00020: val_accuracy did not improve from 0.73077\n",
            "\n",
            "Epoch 00021: val_accuracy did not improve from 0.73077\n",
            "\n",
            "Epoch 00022: val_accuracy did not improve from 0.73077\n",
            "\n",
            "Epoch 00023: val_accuracy did not improve from 0.73077\n",
            "\n",
            "Epoch 00024: val_accuracy did not improve from 0.73077\n",
            "\n",
            "Epoch 00025: val_accuracy did not improve from 0.73077\n",
            "\n",
            "Epoch 00026: val_accuracy did not improve from 0.73077\n",
            "\n",
            "Epoch 00027: val_accuracy did not improve from 0.73077\n",
            "\n",
            "Epoch 00028: val_accuracy did not improve from 0.73077\n",
            "\n",
            "Epoch 00029: val_accuracy did not improve from 0.73077\n",
            "\n",
            "Epoch 00030: val_accuracy did not improve from 0.73077\n",
            "\n",
            "Epoch 00031: val_accuracy did not improve from 0.73077\n",
            "\n",
            "Epoch 00032: val_accuracy did not improve from 0.73077\n",
            "\n",
            "Epoch 00033: val_accuracy did not improve from 0.73077\n",
            "\n",
            "Epoch 00034: val_accuracy did not improve from 0.73077\n",
            "\n",
            "Epoch 00035: val_accuracy did not improve from 0.73077\n",
            "\n",
            "Epoch 00036: val_accuracy did not improve from 0.73077\n",
            "\n",
            "Epoch 00037: val_accuracy did not improve from 0.73077\n",
            "\n",
            "Epoch 00038: val_accuracy did not improve from 0.73077\n",
            "\n",
            "Epoch 00039: val_accuracy did not improve from 0.73077\n",
            "\n",
            "Epoch 00040: val_accuracy did not improve from 0.73077\n",
            "\n",
            "Epoch 00041: val_accuracy did not improve from 0.73077\n",
            "\n",
            "Epoch 00042: val_accuracy did not improve from 0.73077\n",
            "\n",
            "Epoch 00043: val_accuracy did not improve from 0.73077\n",
            "\n",
            "Epoch 00044: val_accuracy did not improve from 0.73077\n",
            "\n",
            "Epoch 00045: val_accuracy did not improve from 0.73077\n",
            "\n",
            "Epoch 00046: val_accuracy did not improve from 0.73077\n",
            "\n",
            "Epoch 00047: val_accuracy did not improve from 0.73077\n",
            "\n",
            "Epoch 00048: val_accuracy did not improve from 0.73077\n",
            "\n",
            "Epoch 00049: val_accuracy did not improve from 0.73077\n",
            "\n",
            "Epoch 00050: val_accuracy did not improve from 0.73077\n",
            "\n",
            "Epoch 00051: val_accuracy did not improve from 0.73077\n",
            "\n",
            "Epoch 00052: val_accuracy did not improve from 0.73077\n",
            "\n",
            "Epoch 00053: val_accuracy did not improve from 0.73077\n",
            "\n",
            "Epoch 00054: val_accuracy did not improve from 0.73077\n",
            "\n",
            "Epoch 00055: val_accuracy did not improve from 0.73077\n",
            "\n",
            "Epoch 00056: val_accuracy did not improve from 0.73077\n",
            "\n",
            "Epoch 00057: val_accuracy did not improve from 0.73077\n",
            "\n",
            "Epoch 00058: val_accuracy did not improve from 0.73077\n",
            "\n",
            "Epoch 00059: val_accuracy did not improve from 0.73077\n",
            "\n",
            "Epoch 00060: val_accuracy did not improve from 0.73077\n",
            "\n",
            "Epoch 00061: val_accuracy did not improve from 0.73077\n",
            "\n",
            "Epoch 00062: val_accuracy did not improve from 0.73077\n",
            "\n",
            "Epoch 00063: val_accuracy did not improve from 0.73077\n",
            "\n",
            "Epoch 00064: val_accuracy did not improve from 0.73077\n",
            "\n",
            "Epoch 00065: val_accuracy did not improve from 0.73077\n",
            "\n",
            "Epoch 00066: val_accuracy did not improve from 0.73077\n",
            "\n",
            "Epoch 00067: val_accuracy did not improve from 0.73077\n",
            "\n",
            "Epoch 00068: val_accuracy did not improve from 0.73077\n",
            "\n",
            "Epoch 00069: val_accuracy did not improve from 0.73077\n",
            "\n",
            "Epoch 00070: val_accuracy did not improve from 0.73077\n",
            "\n",
            "Epoch 00071: val_accuracy did not improve from 0.73077\n",
            "\n",
            "Epoch 00072: val_accuracy did not improve from 0.73077\n",
            "\n",
            "Epoch 00073: val_accuracy did not improve from 0.73077\n",
            "\n",
            "Epoch 00074: val_accuracy did not improve from 0.73077\n",
            "\n",
            "Epoch 00075: val_accuracy did not improve from 0.73077\n",
            "\n",
            "Epoch 00076: val_accuracy did not improve from 0.73077\n",
            "\n",
            "Epoch 00077: val_accuracy did not improve from 0.73077\n",
            "\n",
            "Epoch 00078: val_accuracy did not improve from 0.73077\n",
            "\n",
            "Epoch 00079: val_accuracy did not improve from 0.73077\n",
            "\n",
            "Epoch 00080: val_accuracy did not improve from 0.73077\n",
            "\n",
            "Epoch 00081: val_accuracy did not improve from 0.73077\n",
            "\n",
            "Epoch 00082: val_accuracy did not improve from 0.73077\n",
            "\n",
            "Epoch 00083: val_accuracy did not improve from 0.73077\n",
            "\n",
            "Epoch 00084: val_accuracy did not improve from 0.73077\n",
            "\n",
            "Epoch 00085: val_accuracy did not improve from 0.73077\n",
            "\n",
            "Epoch 00086: val_accuracy did not improve from 0.73077\n",
            "\n",
            "Epoch 00087: val_accuracy did not improve from 0.73077\n",
            "\n",
            "Epoch 00088: val_accuracy did not improve from 0.73077\n",
            "\n",
            "Epoch 00089: val_accuracy did not improve from 0.73077\n",
            "\n",
            "Epoch 00090: val_accuracy did not improve from 0.73077\n",
            "\n",
            "Epoch 00091: val_accuracy did not improve from 0.73077\n",
            "\n",
            "Epoch 00092: val_accuracy did not improve from 0.73077\n",
            "\n",
            "Epoch 00093: val_accuracy did not improve from 0.73077\n",
            "\n",
            "Epoch 00094: val_accuracy did not improve from 0.73077\n",
            "\n",
            "Epoch 00095: val_accuracy did not improve from 0.73077\n",
            "\n",
            "Epoch 00096: val_accuracy did not improve from 0.73077\n",
            "\n",
            "Epoch 00097: val_accuracy did not improve from 0.73077\n",
            "\n",
            "Epoch 00098: val_accuracy did not improve from 0.73077\n",
            "\n",
            "Epoch 00099: val_accuracy did not improve from 0.73077\n",
            "\n",
            "Epoch 00100: val_accuracy did not improve from 0.73077\n",
            "\n",
            "Epoch 00101: val_accuracy did not improve from 0.73077\n",
            "\n",
            "Epoch 00102: val_accuracy did not improve from 0.73077\n",
            "\n",
            "Epoch 00103: val_accuracy did not improve from 0.73077\n",
            "\n",
            "Epoch 00104: val_accuracy did not improve from 0.73077\n",
            "\n",
            "Epoch 00105: val_accuracy did not improve from 0.73077\n",
            "\n",
            "Epoch 00106: val_accuracy did not improve from 0.73077\n",
            "\n",
            "Epoch 00107: val_accuracy did not improve from 0.73077\n",
            "\n",
            "Epoch 00108: val_accuracy did not improve from 0.73077\n",
            "\n",
            "Epoch 00109: val_accuracy did not improve from 0.73077\n",
            "\n",
            "Epoch 00110: val_accuracy did not improve from 0.73077\n",
            "\n",
            "Epoch 00111: val_accuracy did not improve from 0.73077\n",
            "\n",
            "Epoch 00112: val_accuracy did not improve from 0.73077\n",
            "\n",
            "Epoch 00113: val_accuracy did not improve from 0.73077\n",
            "\n",
            "Epoch 00114: val_accuracy did not improve from 0.73077\n",
            "\n",
            "Epoch 00115: val_accuracy did not improve from 0.73077\n",
            "\n",
            "Epoch 00116: val_accuracy did not improve from 0.73077\n",
            "\n",
            "Epoch 00117: val_accuracy did not improve from 0.73077\n",
            "\n",
            "Epoch 00118: val_accuracy did not improve from 0.73077\n",
            "\n",
            "Epoch 00119: val_accuracy did not improve from 0.73077\n",
            "\n",
            "Epoch 00120: val_accuracy did not improve from 0.73077\n",
            "\n",
            "Epoch 00121: val_accuracy did not improve from 0.73077\n",
            "\n",
            "Epoch 00122: val_accuracy did not improve from 0.73077\n",
            "\n",
            "Epoch 00123: val_accuracy did not improve from 0.73077\n",
            "\n",
            "Epoch 00124: val_accuracy did not improve from 0.73077\n",
            "\n",
            "Epoch 00125: val_accuracy did not improve from 0.73077\n",
            "\n",
            "Epoch 00126: val_accuracy did not improve from 0.73077\n",
            "\n",
            "Epoch 00127: val_accuracy did not improve from 0.73077\n",
            "\n",
            "Epoch 00128: val_accuracy did not improve from 0.73077\n",
            "\n",
            "Epoch 00129: val_accuracy did not improve from 0.73077\n",
            "\n",
            "Epoch 00130: val_accuracy did not improve from 0.73077\n",
            "\n",
            "Epoch 00131: val_accuracy did not improve from 0.73077\n",
            "\n",
            "Epoch 00132: val_accuracy did not improve from 0.73077\n",
            "\n",
            "Epoch 00133: val_accuracy did not improve from 0.73077\n",
            "\n",
            "Epoch 00134: val_accuracy did not improve from 0.73077\n",
            "\n",
            "Epoch 00135: val_accuracy did not improve from 0.73077\n",
            "\n",
            "Epoch 00136: val_accuracy did not improve from 0.73077\n",
            "\n",
            "Epoch 00137: val_accuracy did not improve from 0.73077\n",
            "\n",
            "Epoch 00138: val_accuracy did not improve from 0.73077\n",
            "\n",
            "Epoch 00139: val_accuracy did not improve from 0.73077\n",
            "\n",
            "Epoch 00140: val_accuracy did not improve from 0.73077\n",
            "\n",
            "Epoch 00141: val_accuracy did not improve from 0.73077\n",
            "\n",
            "Epoch 00142: val_accuracy did not improve from 0.73077\n",
            "\n",
            "Epoch 00143: val_accuracy did not improve from 0.73077\n",
            "\n",
            "Epoch 00144: val_accuracy did not improve from 0.73077\n",
            "\n",
            "Epoch 00145: val_accuracy did not improve from 0.73077\n",
            "\n",
            "Epoch 00146: val_accuracy did not improve from 0.73077\n",
            "\n",
            "Epoch 00147: val_accuracy did not improve from 0.73077\n",
            "\n",
            "Epoch 00148: val_accuracy did not improve from 0.73077\n",
            "\n",
            "Epoch 00149: val_accuracy did not improve from 0.73077\n",
            "\n",
            "Epoch 00150: val_accuracy did not improve from 0.73077\n",
            "\n",
            "Epoch 00151: val_accuracy did not improve from 0.73077\n",
            "\n",
            "Epoch 00152: val_accuracy did not improve from 0.73077\n",
            "\n",
            "Epoch 00153: val_accuracy did not improve from 0.73077\n",
            "\n",
            "Epoch 00154: val_accuracy did not improve from 0.73077\n",
            "\n",
            "Epoch 00155: val_accuracy did not improve from 0.73077\n",
            "\n",
            "Epoch 00156: val_accuracy did not improve from 0.73077\n",
            "\n",
            "Epoch 00157: val_accuracy did not improve from 0.73077\n",
            "\n",
            "Epoch 00158: val_accuracy did not improve from 0.73077\n",
            "\n",
            "Epoch 00159: val_accuracy did not improve from 0.73077\n",
            "\n",
            "Epoch 00160: val_accuracy did not improve from 0.73077\n",
            "\n",
            "Epoch 00161: val_accuracy did not improve from 0.73077\n",
            "\n",
            "Epoch 00162: val_accuracy did not improve from 0.73077\n",
            "\n",
            "Epoch 00163: val_accuracy did not improve from 0.73077\n",
            "\n",
            "Epoch 00164: val_accuracy did not improve from 0.73077\n",
            "\n",
            "Epoch 00165: val_accuracy did not improve from 0.73077\n",
            "\n",
            "Epoch 00166: val_accuracy did not improve from 0.73077\n",
            "\n",
            "Epoch 00167: val_accuracy did not improve from 0.73077\n",
            "\n",
            "Epoch 00168: val_accuracy did not improve from 0.73077\n",
            "\n",
            "Epoch 00169: val_accuracy did not improve from 0.73077\n",
            "\n",
            "Epoch 00170: val_accuracy did not improve from 0.73077\n",
            "\n",
            "Epoch 00171: val_accuracy did not improve from 0.73077\n",
            "\n",
            "Epoch 00172: val_accuracy did not improve from 0.73077\n",
            "\n",
            "Epoch 00173: val_accuracy did not improve from 0.73077\n",
            "\n",
            "Epoch 00174: val_accuracy did not improve from 0.73077\n",
            "\n",
            "Epoch 00175: val_accuracy did not improve from 0.73077\n",
            "\n",
            "Epoch 00176: val_accuracy did not improve from 0.73077\n",
            "\n",
            "Epoch 00177: val_accuracy did not improve from 0.73077\n",
            "\n",
            "Epoch 00178: val_accuracy did not improve from 0.73077\n",
            "\n",
            "Epoch 00179: val_accuracy did not improve from 0.73077\n",
            "\n",
            "Epoch 00180: val_accuracy did not improve from 0.73077\n",
            "\n",
            "Epoch 00181: val_accuracy did not improve from 0.73077\n",
            "\n",
            "Epoch 00182: val_accuracy did not improve from 0.73077\n",
            "\n",
            "Epoch 00183: val_accuracy did not improve from 0.73077\n",
            "\n",
            "Epoch 00184: val_accuracy did not improve from 0.73077\n",
            "\n",
            "Epoch 00185: val_accuracy did not improve from 0.73077\n",
            "\n",
            "Epoch 00186: val_accuracy did not improve from 0.73077\n",
            "\n",
            "Epoch 00187: val_accuracy did not improve from 0.73077\n",
            "\n",
            "Epoch 00188: val_accuracy did not improve from 0.73077\n",
            "\n",
            "Epoch 00189: val_accuracy did not improve from 0.73077\n",
            "\n",
            "Epoch 00190: val_accuracy did not improve from 0.73077\n",
            "\n",
            "Epoch 00191: val_accuracy did not improve from 0.73077\n",
            "\n",
            "Epoch 00192: val_accuracy did not improve from 0.73077\n",
            "\n",
            "Epoch 00193: val_accuracy did not improve from 0.73077\n",
            "\n",
            "Epoch 00194: val_accuracy did not improve from 0.73077\n",
            "\n",
            "Epoch 00195: val_accuracy did not improve from 0.73077\n",
            "\n",
            "Epoch 00196: val_accuracy did not improve from 0.73077\n",
            "\n",
            "Epoch 00197: val_accuracy did not improve from 0.73077\n",
            "\n",
            "Epoch 00198: val_accuracy did not improve from 0.73077\n",
            "\n",
            "Epoch 00199: val_accuracy did not improve from 0.73077\n",
            "\n",
            "Epoch 00200: val_accuracy did not improve from 0.73077\n",
            "\n",
            "Epoch 00201: val_accuracy did not improve from 0.73077\n",
            "Epoch 00201: early stopping\n"
          ]
        }
      ]
    },
    {
      "cell_type": "code",
      "source": [
        "# plot training history\n",
        "plt.plot(history.history['loss'], label='train')\n",
        "plt.plot(history.history['val_loss'], label='valid')\n",
        "plt.legend()\n",
        "plt.xlabel('Epochs', fontsize=14)\n",
        "plt.ylabel('Loss', fontsize=14)\n",
        "plt.title('Loss Curves', fontsize=16)\n",
        "plt.show()"
      ],
      "metadata": {
        "colab": {
          "base_uri": "https://localhost:8080/",
          "height": 301
        },
        "id": "1YNeFDdeT56L",
        "outputId": "86b01d61-ef1b-45ed-eee0-cc717ee46a2b"
      },
      "execution_count": null,
      "outputs": [
        {
          "output_type": "display_data",
          "data": {
            "image/png": "[encoded data removed]",
            "text/plain": [
              "<Figure size 432x288 with 1 Axes>"
            ]
          },
          "metadata": {
            "needs_background": "light"
          }
        }
      ]
    },
    {
      "cell_type": "code",
      "source": [
        "plt.figure(figsize=[8,5])\n",
        "plt.plot(history.history['accuracy'], label='Train')\n",
        "plt.plot(history.history['val_accuracy'], label='Valid')\n",
        "plt.legend()\n",
        "plt.xlabel('Epochs', fontsize=16)\n",
        "plt.ylabel('Accuracy', fontsize=16)\n",
        "plt.title('Accuracy Curves', fontsize=16)\n",
        "\n",
        "plt.show()"
      ],
      "metadata": {
        "colab": {
          "base_uri": "https://localhost:8080/",
          "height": 357
        },
        "id": "BEzpf35Ab2Dc",
        "outputId": "7a192d82-292d-48b0-b1f1-cf45ff089d5b"
      },
      "execution_count": null,
      "outputs": [
        {
          "output_type": "display_data",
          "data": {
            "image/png": "[encoded data removed]",
            "text/plain": [
              "<Figure size 576x360 with 1 Axes>"
            ]
          },
          "metadata": {
            "needs_background": "light"
          }
        }
      ]
    },
    {
      "cell_type": "code",
      "source": [
        "from keras.models import load_model\n",
        "model = load_model('best_model_2.h5')"
      ],
      "metadata": {
        "id": "x2dUf2xuUJCV"
      },
      "execution_count": null,
      "outputs": []
    },
    {
      "cell_type": "code",
      "source": [
        "_, train_acc = model.evaluate(X_train, y_train, verbose=0)\n",
        "_, valid_acc = model.evaluate(X_test, y_test, verbose=0)\n",
        "print('Train: %.3f, Valid: %.3f' % (train_acc, valid_acc))"
      ],
      "metadata": {
        "colab": {
          "base_uri": "https://localhost:8080/"
        },
        "id": "bAma0sEpULuf",
        "outputId": "39f82d73-de5f-4bd4-ed93-e5ff109b3de1"
      },
      "execution_count": null,
      "outputs": [
        {
          "output_type": "stream",
          "name": "stdout",
          "text": [
            "Train: 0.731, Valid: 0.731\n"
          ]
        }
      ]
    },
    {
      "cell_type": "markdown",
      "source": [
        "**Referensi :**\n",
        "\n",
        "* Data Preprocessing : https://github.com/psohn/Only-You-Can-Prevent-Forest-Fires/blob/master/1.0_prs_preprocessing_eda.ipynb\n",
        "\n",
        "* Modelling ANN : https://github.com/psohn/Only-You-Can-Prevent-Forest-Fires/blob/master/3.0_prs_artificial_neural_network.ipynb"
      ],
      "metadata": {
        "id": "BaItyYpdUz6Q"
      }
    }
  ]
}